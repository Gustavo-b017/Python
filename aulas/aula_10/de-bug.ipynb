{
 "cells": [
  {
   "cell_type": "code",
   "execution_count": 1,
   "metadata": {},
   "outputs": [
    {
     "name": "stdout",
     "output_type": "stream",
     "text": [
      "Proodutos: Feijão, Estoque: 50, Preço: 5.0. Total: R$250.00\n",
      "Proodutos: Açúcar, Estoque: 30, Preço: 6.0. Total: R$180.00\n",
      "Proodutos: Arroz, Estoque: 50, Preço: 10. Total: R$500.00\n",
      "Proodutos: Café em Grãos, Estoque: 90, Preço: 3.0. Total: R$270.00\n"
     ]
    }
   ],
   "source": [
    "itens = [\"milho\" , 'Feijão', 'Leite', 'Açúcar', 'Arroz', 'azeitona', 'Café em Grãos']\n",
    "estoque = [20, 50, 20, 30, 50, 30, 90]\n",
    "preco = [5, 5.0, 2.0, 6.0, 10, 3.0, 3.0]\n",
    "\n",
    "for i in range(len(itens)):\n",
    "    total = estoque[i] * preco[i]\n",
    "\n",
    "    if total > 100:\n",
    "        print(f\"Proodutos: {itens[i]}, Estoque: {estoque[i]}, Preço: {preco[i]}. Total: R${total:.2f}\")"
   ]
  },
  {
   "cell_type": "code",
   "execution_count": 1,
   "metadata": {},
   "outputs": [
    {
     "name": "stdout",
     "output_type": "stream",
     "text": [
      "acesso negado\n"
     ]
    }
   ],
   "source": [
    "nomes_corretos=[\"Joao Silva\", \"Maria Oliveira\", \"Pedro Santos\", \"Ana Souza\", \"Carlos Pereira\"]\n",
    "cpfs_corretos=[\"123.456.789-00\", \"987.654.321-00\", \"456.789.123-00\", \"321.654.987-00\", \"789.123.456-00\"]\n",
    "senhas_corretas=[\"senha123\", \"abc456\", \"qwerty\", \"admin123\", \"letmein\"]\n",
    "\n",
    "nome = input('qual é seu nome? obs: o nome deve ter a primeira letra do nome e sobrenome maiuscula')\n",
    "cpf = input('qual é seu cpf? obs: a cpf deve conter o \"-\" antes dos dois ultimos digitos e os pontos dividindo a cada 3 numeros')\n",
    "senha = input('qual é sua senha?')\n",
    "\n",
    "if senha in senhas_corretas and cpf in cpfs_corretos and nome in nomes_corretos:\n",
    "    print(\"acesso concedido\")\n",
    "else:\n",
    "    print(\"acesso negado\")\n",
    "\n",
    "combinacoes = zip(nomes_corretos, senhas_corretas, cpfs_corretos)\n",
    "\n",
    "for nomes_corretos, senhas_corretas, cpfs_corretos in combinacoes:\n",
    "    if senha == senhas_corretas and nome == nomes_corretos and cpf == cpfs_corretos:\n",
    "        print(f\"Combinacao correta para: nome: {nome}, Senha: {senha}, CPF: {cpf}\")\n",
    "\n",
    "\n"
   ]
  }
 ],
 "metadata": {
  "kernelspec": {
   "display_name": "Python 3",
   "language": "python",
   "name": "python3"
  },
  "language_info": {
   "codemirror_mode": {
    "name": "ipython",
    "version": 3
   },
   "file_extension": ".py",
   "mimetype": "text/x-python",
   "name": "python",
   "nbconvert_exporter": "python",
   "pygments_lexer": "ipython3",
   "version": "3.11.6"
  },
  "orig_nbformat": 4
 },
 "nbformat": 4,
 "nbformat_minor": 2
}
