{
 "cells": [
  {
   "cell_type": "code",
   "execution_count": 8,
   "metadata": {},
   "outputs": [
    {
     "name": "stdout",
     "output_type": "stream",
     "text": [
      "Requirement already satisfied: pandas in c:\\python311\\lib\\site-packages (2.1.1)\n",
      "Requirement already satisfied: numpy>=1.23.2 in c:\\python311\\lib\\site-packages (from pandas) (1.26.1)\n",
      "Requirement already satisfied: python-dateutil>=2.8.2 in c:\\python311\\lib\\site-packages (from pandas) (2.8.2)\n",
      "Requirement already satisfied: pytz>=2020.1 in c:\\python311\\lib\\site-packages (from pandas) (2023.3.post1)\n",
      "Requirement already satisfied: tzdata>=2022.1 in c:\\python311\\lib\\site-packages (from pandas) (2023.3)\n",
      "Requirement already satisfied: six>=1.5 in c:\\python311\\lib\\site-packages (from python-dateutil>=2.8.2->pandas) (1.16.0)\n",
      "Note: you may need to restart the kernel to use updated packages.\n"
     ]
    },
    {
     "name": "stderr",
     "output_type": "stream",
     "text": [
      "\n",
      "[notice] A new release of pip is available: 23.1.2 -> 23.3.1\n",
      "[notice] To update, run: python.exe -m pip install --upgrade pip\n"
     ]
    }
   ],
   "source": [
    "pip install pandas\n"
   ]
  },
  {
   "cell_type": "code",
   "execution_count": 17,
   "metadata": {},
   "outputs": [
    {
     "data": {
      "text/html": [
       "<div>\n",
       "<style scoped>\n",
       "    .dataframe tbody tr th:only-of-type {\n",
       "        vertical-align: middle;\n",
       "    }\n",
       "\n",
       "    .dataframe tbody tr th {\n",
       "        vertical-align: top;\n",
       "    }\n",
       "\n",
       "    .dataframe thead th {\n",
       "        text-align: right;\n",
       "    }\n",
       "</style>\n",
       "<table border=\"1\" class=\"dataframe\">\n",
       "  <thead>\n",
       "    <tr style=\"text-align: right;\">\n",
       "      <th></th>\n",
       "      <th>nomes</th>\n",
       "      <th>idade</th>\n",
       "    </tr>\n",
       "  </thead>\n",
       "  <tbody>\n",
       "    <tr>\n",
       "      <th>0</th>\n",
       "      <td>alice</td>\n",
       "      <td>25</td>\n",
       "    </tr>\n",
       "    <tr>\n",
       "      <th>1</th>\n",
       "      <td>bob</td>\n",
       "      <td>30</td>\n",
       "    </tr>\n",
       "    <tr>\n",
       "      <th>2</th>\n",
       "      <td>charlie</td>\n",
       "      <td>22</td>\n",
       "    </tr>\n",
       "  </tbody>\n",
       "</table>\n",
       "</div>"
      ],
      "text/plain": [
       "     nomes  idade\n",
       "0    alice     25\n",
       "1      bob     30\n",
       "2  charlie     22"
      ]
     },
     "execution_count": 17,
     "metadata": {},
     "output_type": "execute_result"
    }
   ],
   "source": [
    "# chamando a biblioteca pandas\n",
    "import pandas as pd\n",
    "\n",
    "# adiciona as informacoes(dados) que o panda ira ler e cria as variaveis com os dados\n",
    "\n",
    "data = {'nomes': ['alice', 'bob', 'charlie'],\n",
    "    'idade':[25, 30, 22]}\n",
    "\n",
    "# cria uma estrutura em formato da coluna e linha (parecido com o exel)\n",
    "# cria um DataFrame\n",
    "df = pd.DataFrame(data)\n",
    "\n",
    "# para fazer a leitura de um arquivo pelo pandas\n",
    "# df = pd.read_csv('caminho.csv')\n",
    "\n",
    "# printa os dados\n",
    "df"
   ]
  },
  {
   "cell_type": "code",
   "execution_count": 21,
   "metadata": {},
   "outputs": [
    {
     "name": "stdout",
     "output_type": "stream",
     "text": [
      "<class 'pandas.core.frame.DataFrame'>\n",
      "RangeIndex: 3 entries, 0 to 2\n",
      "Data columns (total 2 columns):\n",
      " #   Column  Non-Null Count  Dtype \n",
      "---  ------  --------------  ----- \n",
      " 0   nomes   3 non-null      object\n",
      " 1   idade   3 non-null      int64 \n",
      "dtypes: int64(1), object(1)\n",
      "memory usage: 180.0+ bytes\n"
     ]
    }
   ],
   "source": [
    "# mostra o tipo de arquivo que contem nas variaveis\n",
    "df.info()"
   ]
  },
  {
   "cell_type": "code",
   "execution_count": 18,
   "metadata": {},
   "outputs": [
    {
     "name": "stdout",
     "output_type": "stream",
     "text": [
      "nomes    alice\n",
      "idade       25\n",
      "Name: 0, dtype: object\n",
      "nomes    bob\n",
      "idade     30\n",
      "Name: 1, dtype: object\n",
      "nomes    charlie\n",
      "idade         22\n",
      "Name: 2, dtype: object\n"
     ]
    }
   ],
   "source": [
    "# chama a biblioteca do pandas\n",
    "import pandas as pd\n",
    "\n",
    "# cria as variaveis juntamente com os dados\n",
    "data = {'nomes': ['alice', 'bob', 'charlie'],\n",
    "    'idade':[25, 30, 22]}\n",
    "\n",
    "# \n",
    "df = pd.DataFrame(data)\n",
    "\n",
    "# cria o contador a ser usado do while\n",
    "i = 0\n",
    "\n",
    "# inicia estrutura de repeticao do tipo enquanto\n",
    "# o contador deve ser menor do que a quantidade de dados do df\n",
    "while i < len(df):\n",
    "    # iloc - pega linha por linha, onde as linhas sao respectivas a seu contador\n",
    "    print(df.iloc[i])\n",
    "    # o contador passa para o proximo obj\n",
    "    i += 1\n",
    "\n"
   ]
  },
  {
   "cell_type": "code",
   "execution_count": 26,
   "metadata": {},
   "outputs": [
    {
     "data": {
      "text/html": [
       "<div>\n",
       "<style scoped>\n",
       "    .dataframe tbody tr th:only-of-type {\n",
       "        vertical-align: middle;\n",
       "    }\n",
       "\n",
       "    .dataframe tbody tr th {\n",
       "        vertical-align: top;\n",
       "    }\n",
       "\n",
       "    .dataframe thead th {\n",
       "        text-align: right;\n",
       "    }\n",
       "</style>\n",
       "<table border=\"1\" class=\"dataframe\">\n",
       "  <thead>\n",
       "    <tr style=\"text-align: right;\">\n",
       "      <th></th>\n",
       "      <th>nomes</th>\n",
       "      <th>idade</th>\n",
       "      <th>tipo moradia</th>\n",
       "    </tr>\n",
       "  </thead>\n",
       "  <tbody>\n",
       "    <tr>\n",
       "      <th>0</th>\n",
       "      <td>alice</td>\n",
       "      <td>25</td>\n",
       "      <td>casa</td>\n",
       "    </tr>\n",
       "    <tr>\n",
       "      <th>1</th>\n",
       "      <td>bob</td>\n",
       "      <td>30</td>\n",
       "      <td>casa</td>\n",
       "    </tr>\n",
       "    <tr>\n",
       "      <th>2</th>\n",
       "      <td>charlie</td>\n",
       "      <td>22</td>\n",
       "      <td>apartamento</td>\n",
       "    </tr>\n",
       "  </tbody>\n",
       "</table>\n",
       "</div>"
      ],
      "text/plain": [
       "     nomes  idade tipo moradia\n",
       "0    alice     25         casa\n",
       "1      bob     30         casa\n",
       "2  charlie     22  apartamento"
      ]
     },
     "execution_count": 26,
     "metadata": {},
     "output_type": "execute_result"
    }
   ],
   "source": [
    "# inicia uma lista vazia \n",
    "tipo_moradia = []\n",
    "\n",
    "# conatador do while\n",
    "indice = 0\n",
    "\n",
    "# laco de repeticao do tipo while\n",
    "while indice < len(df):\n",
    "    \n",
    "    \n",
    "    idade = df['idade'][indice]\n",
    "\n",
    "    if idade > 22:\n",
    "        tipo_moradia.append('casa')\n",
    "    else: \n",
    "        tipo_moradia.append('apartamento')\n",
    "    indice += 1\n",
    "df['tipo moradia'] = tipo_moradia\n",
    "\n",
    "df\n",
    "\n",
    "\n"
   ]
  },
  {
   "cell_type": "code",
   "execution_count": 19,
   "metadata": {},
   "outputs": [
    {
     "name": "stdout",
     "output_type": "stream",
     "text": [
      "      Nome  Idade            País     status           vacina prioridade\n",
      "0    Alice     25          Brasil  tem covid    vai descansar      baixa\n",
      "1      Bob     30      Inglaterra   ta suave  vacina na bunda      media\n",
      "2  Charlie     22  Estados Unidos   ta suave  vacina na bunda      media\n",
      "3      Ana     22          Itália  tem covid    vai descansar      baixa\n",
      "4    Alice     38       Austrália   ta suave  vacina na bunda       alta\n",
      "5      Bob     35          México   ta suave  vacina na bunda       alta\n"
     ]
    }
   ],
   "source": [
    "import pandas as pd\n",
    "\n",
    "# adiciona as variaveis com seus dados\n",
    "data = {\n",
    "    'Nome': ['Alice', 'Bob', 'Charlie', 'Ana', 'Alice', 'Bob'],\n",
    "    'Idade': [25, 30, 22, 22, 38, 35],\n",
    "    'País': ['Brasil', 'Inglaterra', 'Estados Unidos', 'Itália', 'Austrália', 'México'],\n",
    "}\n",
    "\n",
    "status = []\n",
    "vacina = []\n",
    "prioridade = []\n",
    "\n",
    "# cria um dataframe\n",
    "df = pd.DataFrame(data)\n",
    "\n",
    "i = 0\n",
    "\n",
    "while i < len(df):\n",
    "    \n",
    "    # criando uma variavel que ira receber o nome do pais de acordo com a sua posicao\n",
    "    doenca = df['País'][i]\n",
    "    idade = df['Idade'][i]\n",
    "\n",
    "    # estrutura de status que se iniciara um codigo para um pais especifico \n",
    "    if doenca == \"Brasil\" or doenca == \"Itália\":\n",
    "        # adicona a status do pais a lista vazia \n",
    "        status.append(\"tem covid\")\n",
    "        vacina.append(\"vai descansar\")\n",
    "        prioridade.append(\"baixa\")\n",
    "\n",
    "    else: \n",
    "        # se nao for o pais escolhido ira adicionar uma status favoravel ao pais\n",
    "        status.append(\"ta suave\")\n",
    "        vacina.append('vacina na bunda')\n",
    "        if idade >= 35:\n",
    "            prioridade.append(\"alta\")\n",
    "        else:\n",
    "            prioridade.append(\"media\")\n",
    "    # passa para o proximo \n",
    "    i += 1\n",
    "\n",
    "# cria uma nova coluna com o nome status linkando ela com a lista que tem as condicoes dos paises \n",
    "df['status'] = status\n",
    "df['vacina'] = vacina\n",
    "df['prioridade'] = prioridade\n",
    "# mostra a lista\n",
    "print(df)"
   ]
  }
 ],
 "metadata": {
  "kernelspec": {
   "display_name": "Python 3",
   "language": "python",
   "name": "python3"
  },
  "language_info": {
   "codemirror_mode": {
    "name": "ipython",
    "version": 3
   },
   "file_extension": ".py",
   "mimetype": "text/x-python",
   "name": "python",
   "nbconvert_exporter": "python",
   "pygments_lexer": "ipython3",
   "version": "3.11.4"
  },
  "orig_nbformat": 4
 },
 "nbformat": 4,
 "nbformat_minor": 2
}
