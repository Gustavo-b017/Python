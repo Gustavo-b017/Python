{
 "cells": [
  {
   "attachments": {},
   "cell_type": "markdown",
   "metadata": {},
   "source": [
    "# equaçâo\n"
   ]
  },
  {
   "cell_type": "code",
   "execution_count": 1,
   "metadata": {},
   "outputs": [],
   "source": [
    "from sympy import*"
   ]
  },
  {
   "cell_type": "code",
   "execution_count": 2,
   "metadata": {},
   "outputs": [],
   "source": [
    "x = Symbol(\"x\")\n",
    "y = Symbol(\"y\")"
   ]
  },
  {
   "cell_type": "code",
   "execution_count": null,
   "metadata": {},
   "outputs": [],
   "source": []
  },
  {
   "cell_type": "code",
   "execution_count": null,
   "metadata": {},
   "outputs": [],
   "source": []
  },
  {
   "cell_type": "code",
   "execution_count": 3,
   "metadata": {},
   "outputs": [
    {
     "data": {
      "text/latex": [
       "$\\displaystyle 2 x + 10$"
      ],
      "text/plain": [
       "2*x + 10"
      ]
     },
     "execution_count": 3,
     "metadata": {},
     "output_type": "execute_result"
    }
   ],
   "source": [
    "2 * x + 10\n"
   ]
  },
  {
   "attachments": {},
   "cell_type": "markdown",
   "metadata": {},
   "source": [
    "2* x + 10\n"
   ]
  },
  {
   "cell_type": "code",
   "execution_count": 6,
   "metadata": {},
   "outputs": [
    {
     "data": {
      "text/latex": [
       "$\\displaystyle 20 x^{25} - x^{12} + x^{2} - 5 x$"
      ],
      "text/plain": [
       "20*x**25 - x**12 + x**2 - 5*x"
      ]
     },
     "execution_count": 6,
     "metadata": {},
     "output_type": "execute_result"
    }
   ],
   "source": [
    "20 * x**25 + x**2 - 5 * x - x**12 "
   ]
  },
  {
   "attachments": {},
   "cell_type": "markdown",
   "metadata": {},
   "source": [
    "# DERIVADAS"
   ]
  },
  {
   "cell_type": "code",
   "execution_count": 18,
   "metadata": {},
   "outputs": [
    {
     "data": {
      "text/latex": [
       "$\\displaystyle \\frac{d}{d x} \\left(10 x^{3} - 20 x + 50\\right)$"
      ],
      "text/plain": [
       "Derivative(10*x**3 - 20*x + 50, x)"
      ]
     },
     "execution_count": 18,
     "metadata": {},
     "output_type": "execute_result"
    }
   ],
   "source": [
    "Derivative(10 * x**3 - 20 * x + 50)"
   ]
  },
  {
   "cell_type": "code",
   "execution_count": 4,
   "metadata": {},
   "outputs": [
    {
     "data": {
      "text/latex": [
       "$\\displaystyle \\int \\left(x^{2} + \\sin{\\left(x \\right)}\\right)\\, dx$"
      ],
      "text/plain": [
       "Integral(x**2 + sin(x), x)"
      ]
     },
     "execution_count": 4,
     "metadata": {},
     "output_type": "execute_result"
    }
   ],
   "source": [
    "Integral(x**2 + sin(x))"
   ]
  },
  {
   "attachments": {},
   "cell_type": "markdown",
   "metadata": {},
   "source": [
    "# escrever algoritimo para um problema de media de notas de um aluno\n"
   ]
  },
  {
   "cell_type": "code",
   "execution_count": 1,
   "metadata": {},
   "outputs": [],
   "source": [
    "from sympy import*"
   ]
  },
  {
   "attachments": {},
   "cell_type": "markdown",
   "metadata": {},
   "source": [
    "# problema 1\n"
   ]
  },
  {
   "cell_type": "code",
   "execution_count": 9,
   "metadata": {},
   "outputs": [
    {
     "data": {
      "text/plain": [
       "7.0"
      ]
     },
     "execution_count": 9,
     "metadata": {},
     "output_type": "execute_result"
    }
   ],
   "source": [
    "nota1 = 10\n",
    "nota2 = 7\n",
    "nota3 = 4\n",
    "\n",
    "media = (nota1 + nota2 + nota3) / 3\n",
    "media"
   ]
  },
  {
   "cell_type": "code",
   "execution_count": 14,
   "metadata": {},
   "outputs": [
    {
     "data": {
      "text/plain": [
       "7.333333333333333"
      ]
     },
     "execution_count": 14,
     "metadata": {},
     "output_type": "execute_result"
    }
   ],
   "source": [
    "nota1 = 10\n",
    "nota2 = 7\n",
    "nota3 = 5\n",
    "media = (nota1 + nota2 + nota3) / 3\n",
    "media"
   ]
  },
  {
   "cell_type": "code",
   "execution_count": 1,
   "metadata": {},
   "outputs": [
    {
     "name": "stdout",
     "output_type": "stream",
     "text": [
      "Aluno Aprovado 10.0\n"
     ]
    }
   ],
   "source": [
    "nota1 = float(input(\"digite primeira nota:\"))\n",
    "nota2 = float(input(\"digite segunda nota:\"))\n",
    "nota3 = float(input(\"digite terceira nota:\"))\n",
    "\n",
    "media = (nota1 + nota2 + nota3) / 3\n",
    "\n",
    "# estrutura pra atender uma condiçâo\n",
    "if media >= 7:\n",
    "    print(\"Aluno Aprovado\", media)\n",
    "else:\n",
    "    print(\"Aluno Reprovado\", media)"
   ]
  },
  {
   "attachments": {},
   "cell_type": "markdown",
   "metadata": {},
   "source": [
    "# prolema 2\n"
   ]
  },
  {
   "cell_type": "code",
   "execution_count": 5,
   "metadata": {},
   "outputs": [
    {
     "name": "stdout",
     "output_type": "stream",
     "text": [
      "Valor A maior que valor B 7.0\n"
     ]
    }
   ],
   "source": [
    "# Problema 2 - compare A e B\n",
    "\n",
    "valor_a = float(input(\"Digite o valor de A:\"))\n",
    "valor_b = float(input(\"DIgite o valor de B:\"))\n",
    "\n",
    "if valor_a > valor_b:\n",
    "    print(\"Valor A maior que valor B\", valor_a)\n",
    "elif valor_a == valor_b:\n",
    "    print(\"valores são iguais\")\n",
    "else:\n",
    "    print(\"valor de B é maior do que o valor de A\", valor_b)"
   ]
  },
  {
   "attachments": {},
   "cell_type": "markdown",
   "metadata": {},
   "source": [
    "# problema 3\n"
   ]
  },
  {
   "cell_type": "code",
   "execution_count": 44,
   "metadata": {},
   "outputs": [
    {
     "name": "stdout",
     "output_type": "stream",
     "text": [
      "tava esperava mais (*/ω＼*) 12.56\n",
      "12.56\n"
     ]
    }
   ],
   "source": [
    "# Problema 3 - Area do circulo\n",
    "\n",
    "#definicao das variaveis: \n",
    "raio = float(input(\"insira o calor do raio:\"))\n",
    "pi = 3.14\n",
    "\n",
    "#Area do circulo:\n",
    "area = pi *  raio**2\n",
    "\n",
    "#condicao pra mostrar que area e manor do que deseja\n",
    "if area > 50:\n",
    "    print(\"agora ta bom, mas ainda quero mais (p≧w≦q)\", area)\n",
    "    if area > 100:\n",
    "        print(\"coloca outro valor\")\n",
    "else:\n",
    "    print(\"tava esperava mais (*/ω＼*)\", area)\n",
    "\n",
    "print(area)\n",
    "\n"
   ]
  },
  {
   "attachments": {},
   "cell_type": "markdown",
   "metadata": {},
   "source": [
    "# problema 4"
   ]
  },
  {
   "cell_type": "code",
   "execution_count": 65,
   "metadata": {},
   "outputs": [
    {
     "name": "stdout",
     "output_type": "stream",
     "text": [
      "sexo masculino\n"
     ]
    }
   ],
   "source": [
    "# verificar sexo\n",
    "sexo = str(input(\"inserir o sexo\"))\n",
    "\n",
    "M = [\"M\"]\n",
    "m = [\"m\"]\n",
    "F = [\"F\"]\n",
    "f = [\"f\"]\n",
    "\n",
    "if (sexo in M) or (sexo in m):\n",
    "    print(\"sexo masculino\"),\n",
    "elif (sexo in F) or (sexo in f):\n",
    "    print(\"e feminino\")\n",
    "else:\n",
    "    print(\"coloque um valido\")\n"
   ]
  },
  {
   "cell_type": "code",
   "execution_count": 68,
   "metadata": {},
   "outputs": [
    {
     "name": "stdout",
     "output_type": "stream",
     "text": [
      "LGBTQI+\n"
     ]
    }
   ],
   "source": [
    "# verificar sexo - melhorado\n",
    "sexo = str(input(\"inserir o sexo\"))\n",
    "\n",
    "M = [\"M\", \"m\",\"Masculino\",\"masculino\", \"homem\", \"Homem\"]\n",
    "\n",
    "F = [\"F\", \"f\",\"Feminino\",\"feminino\", \"mulher\", \"Mulher\"]\n",
    "\n",
    "\n",
    "if (sexo in M):\n",
    "    print(\"sexo masculino\"),\n",
    "elif (sexo in F):\n",
    "    print(\"e feminino\")\n",
    "else:\n",
    "    print(\"LGBTQI+\")\n"
   ]
  }
 ],
 "metadata": {
  "kernelspec": {
   "display_name": "Python 3",
   "language": "python",
   "name": "python3"
  },
  "language_info": {
   "codemirror_mode": {
    "name": "ipython",
    "version": 3
   },
   "file_extension": ".py",
   "mimetype": "text/x-python",
   "name": "python",
   "nbconvert_exporter": "python",
   "pygments_lexer": "ipython3",
   "version": "3.11.6"
  },
  "orig_nbformat": 4
 },
 "nbformat": 4,
 "nbformat_minor": 2
}
