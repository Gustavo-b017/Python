{
 "cells": [
  {
   "attachments": {},
   "cell_type": "markdown",
   "metadata": {},
   "source": [
    "# # aula 5"
   ]
  },
  {
   "attachments": {},
   "cell_type": "markdown",
   "metadata": {},
   "source": [
    "atribuicoes"
   ]
  },
  {
   "cell_type": "code",
   "execution_count": 10,
   "metadata": {},
   "outputs": [
    {
     "name": "stdout",
     "output_type": "stream",
     "text": [
      "o resultado será: 1\n",
      "o resultado será: 3\n",
      "o resultado será: 6\n"
     ]
    }
   ],
   "source": [
    "# atribuicoes +=\n",
    "\n",
    "soma = 0\n",
    "\n",
    "for numero in range(1,4):\n",
    "    soma += numero\n",
    "    print(\"o resultado será:\", soma)"
   ]
  },
  {
   "cell_type": "code",
   "execution_count": 11,
   "metadata": {},
   "outputs": [
    {
     "name": "stdout",
     "output_type": "stream",
     "text": [
      "o resultado será: -1\n",
      "o resultado será: -3\n",
      "o resultado será: -6\n"
     ]
    }
   ],
   "source": [
    "\n",
    "# atribuicoes -=\n",
    "\n",
    "sub = 0\n",
    "\n",
    "for numero in range(1,4):\n",
    "    sub -= numero\n",
    "    print(\"o resultado será:\", sub)"
   ]
  },
  {
   "cell_type": "code",
   "execution_count": 26,
   "metadata": {},
   "outputs": [
    {
     "name": "stdout",
     "output_type": "stream",
     "text": [
      "o resultado será: 1\n",
      "o resultado será: 2\n",
      "o resultado será: 6\n",
      "o resultado será: 24\n"
     ]
    }
   ],
   "source": [
    "# atribuicoes *=\n",
    "\n",
    "mult = 1\n",
    "\n",
    "#se vc colocar 4, ele ira multiplicar a ate um numero antes, no caso 3 \n",
    "\n",
    "for numero in range(1,5):\n",
    "    mult *= numero\n",
    "    print(\"o resultado será:\", mult)"
   ]
  },
  {
   "cell_type": "code",
   "execution_count": 2,
   "metadata": {},
   "outputs": [
    {
     "name": "stdout",
     "output_type": "stream",
     "text": [
      "o resultado será: 4.0\n",
      "o resultado será: 2.0\n",
      "o resultado será: 0.6666666666666666\n",
      "o resultado será: 0.16666666666666666\n"
     ]
    }
   ],
   "source": [
    "# atribuicoes /=\n",
    "\n",
    "div = 4\n",
    "\n",
    "#se vc colocar 4, ele ira multiplicar a ate um numero antes, no caso 3 \n",
    "\n",
    "for numero in range(1,5):\n",
    "    div /= numero\n",
    "    print(\"o resultado será:\" , div)"
   ]
  },
  {
   "attachments": {},
   "cell_type": "markdown",
   "metadata": {},
   "source": [
    "problema 1 - soma de 1 a 100"
   ]
  },
  {
   "cell_type": "code",
   "execution_count": 14,
   "metadata": {},
   "outputs": [
    {
     "name": "stdout",
     "output_type": "stream",
     "text": [
      "o numeo é: 1\n",
      "o numeo é: 3\n",
      "o numeo é: 6\n",
      "o numeo é: 10\n",
      "o numeo é: 15\n",
      "o numeo é: 21\n",
      "o numeo é: 28\n",
      "o numeo é: 36\n",
      "o numeo é: 45\n",
      "o numeo é: 55\n",
      "o numeo é: 66\n",
      "o numeo é: 78\n",
      "o numeo é: 91\n",
      "o numeo é: 105\n",
      "o numeo é: 120\n",
      "o numeo é: 136\n",
      "o numeo é: 153\n",
      "o numeo é: 171\n",
      "o numeo é: 190\n",
      "o numeo é: 210\n",
      "o numeo é: 231\n",
      "o numeo é: 253\n",
      "o numeo é: 276\n",
      "o numeo é: 300\n",
      "o numeo é: 325\n",
      "o numeo é: 351\n",
      "o numeo é: 378\n",
      "o numeo é: 406\n",
      "o numeo é: 435\n",
      "o numeo é: 465\n",
      "o numeo é: 496\n",
      "o numeo é: 528\n",
      "o numeo é: 561\n",
      "o numeo é: 595\n",
      "o numeo é: 630\n",
      "o numeo é: 666\n",
      "o numeo é: 703\n",
      "o numeo é: 741\n",
      "o numeo é: 780\n",
      "o numeo é: 820\n",
      "o numeo é: 861\n",
      "o numeo é: 903\n",
      "o numeo é: 946\n",
      "o numeo é: 990\n",
      "o numeo é: 1035\n",
      "o numeo é: 1081\n",
      "o numeo é: 1128\n",
      "o numeo é: 1176\n",
      "o numeo é: 1225\n",
      "o numeo é: 1275\n",
      "o numeo é: 1326\n",
      "o numeo é: 1378\n",
      "o numeo é: 1431\n",
      "o numeo é: 1485\n",
      "o numeo é: 1540\n",
      "o numeo é: 1596\n",
      "o numeo é: 1653\n",
      "o numeo é: 1711\n",
      "o numeo é: 1770\n",
      "o numeo é: 1830\n",
      "o numeo é: 1891\n",
      "o numeo é: 1953\n",
      "o numeo é: 2016\n",
      "o numeo é: 2080\n",
      "o numeo é: 2145\n",
      "o numeo é: 2211\n",
      "o numeo é: 2278\n",
      "o numeo é: 2346\n",
      "o numeo é: 2415\n",
      "o numeo é: 2485\n",
      "o numeo é: 2556\n",
      "o numeo é: 2628\n",
      "o numeo é: 2701\n",
      "o numeo é: 2775\n",
      "o numeo é: 2850\n",
      "o numeo é: 2926\n",
      "o numeo é: 3003\n",
      "o numeo é: 3081\n",
      "o numeo é: 3160\n",
      "o numeo é: 3240\n",
      "o numeo é: 3321\n",
      "o numeo é: 3403\n",
      "o numeo é: 3486\n",
      "o numeo é: 3570\n",
      "o numeo é: 3655\n",
      "o numeo é: 3741\n",
      "o numeo é: 3828\n",
      "o numeo é: 3916\n",
      "o numeo é: 4005\n",
      "o numeo é: 4095\n",
      "o numeo é: 4186\n",
      "o numeo é: 4278\n",
      "o numeo é: 4371\n",
      "o numeo é: 4465\n",
      "o numeo é: 4560\n",
      "o numeo é: 4656\n",
      "o numeo é: 4753\n",
      "o numeo é: 4851\n",
      "o numeo é: 4950\n",
      "o numeo é: 5050\n"
     ]
    }
   ],
   "source": [
    "soma = 0\n",
    "\n",
    "for numero in range(1, 101):\n",
    "    soma += numero\n",
    "    print(f\"o numeo é: {soma}\")"
   ]
  },
  {
   "attachments": {},
   "cell_type": "markdown",
   "metadata": {},
   "source": [
    "problema 2 - numeros pares de 1 a 50"
   ]
  },
  {
   "cell_type": "code",
   "execution_count": 37,
   "metadata": {},
   "outputs": [
    {
     "name": "stdout",
     "output_type": "stream",
     "text": [
      "1 impar\n",
      "2 par\n",
      "3 impar\n",
      "4 par\n",
      "5 impar\n",
      "6 par\n",
      "7 impar\n",
      "8 par\n",
      "9 impar\n",
      "10 par\n",
      "11 impar\n",
      "12 par\n",
      "13 impar\n",
      "14 par\n",
      "15 impar\n",
      "16 par\n",
      "17 impar\n",
      "18 par\n",
      "19 impar\n",
      "20 par\n",
      "21 impar\n",
      "22 par\n",
      "23 impar\n",
      "24 par\n",
      "25 impar\n",
      "26 par\n",
      "27 impar\n",
      "28 par\n",
      "29 impar\n",
      "30 par\n",
      "31 impar\n",
      "32 par\n",
      "33 impar\n",
      "34 par\n",
      "35 impar\n",
      "36 par\n",
      "37 impar\n",
      "38 par\n",
      "39 impar\n",
      "40 par\n",
      "41 impar\n",
      "42 par\n",
      "43 impar\n",
      "44 par\n",
      "45 impar\n",
      "46 par\n",
      "47 impar\n",
      "48 par\n",
      "49 impar\n",
      "50 par\n",
      "o resultado das somas dos pares é 650\n"
     ]
    }
   ],
   "source": [
    "numero = range(1,51)\n",
    "\n",
    "soma = 0\n",
    "\n",
    "# \"f\" - termo para poder usar \"{}\"  no print\n",
    "for par in numero:\n",
    "    \n",
    "    if (par %2 == 0):\n",
    "        print(f\"{par} par\")\n",
    "        soma += par\n",
    "    else:\n",
    "        print(f\"{par} impar\")\n",
    "print(\"o resultado das somas dos pares é\", soma)\n",
    "   "
   ]
  },
  {
   "attachments": {},
   "cell_type": "markdown",
   "metadata": {},
   "source": [
    "problema 3 - qual e o valor impar e qual e a media"
   ]
  },
  {
   "cell_type": "code",
   "execution_count": 57,
   "metadata": {},
   "outputs": [
    {
     "name": "stdout",
     "output_type": "stream",
     "text": [
      "Valores impares [1, 3, 5, 7, 9, 11, 13, 15, 17, 19, 21, 23, 25, 27, 29, 31, 33, 35, 37, 39, 41, 43, 45, 47, 49]\n",
      "A média dos números ímpares é 25.0\n"
     ]
    }
   ],
   "source": [
    "numero = range(1,51)\n",
    "\n",
    "soma_impar = 0\n",
    "lista_impar= []\n",
    "\n",
    "for impar in numero:\n",
    "    if impar %2 != 0:\n",
    "        soma_impar += impar\n",
    "        lista_impar.append(impar)\n",
    "print(f\"Valores impares {lista_impar}\")\n",
    "        \n",
    "media = soma_impar / len(lista_impar)\n",
    "print(f'A média dos números ímpares é {media}')\n",
    "\n"
   ]
  },
  {
   "cell_type": "code",
   "execution_count": 3,
   "metadata": {},
   "outputs": [
    {
     "name": "stdout",
     "output_type": "stream",
     "text": [
      "first king\n",
      "first queen\n",
      "first princess\n",
      "first Duke\n",
      "second king\n",
      "second queen\n",
      "second princess\n",
      "second Duke\n",
      "third king\n",
      "third queen\n",
      "third princess\n",
      "third Duke\n",
      "fourth king\n",
      "fourth queen\n",
      "fourth princess\n",
      "fourth Duke\n"
     ]
    }
   ],
   "source": [
    "ordem = [\"first\", \"second\", \"third\", \"fourth\"]\n",
    "titulo = [\"king\", \"queen\", \"princess\", \"Duke\"]\n",
    "for x in ordem:\n",
    "    for y in titulo:\n",
    "        \n",
    "        print(x, y)"
   ]
  },
  {
   "attachments": {},
   "cell_type": "markdown",
   "metadata": {},
   "source": [
    "problema 4 - com valores do usuario"
   ]
  }
 ],
 "metadata": {
  "kernelspec": {
   "display_name": "Python 3",
   "language": "python",
   "name": "python3"
  },
  "language_info": {
   "codemirror_mode": {
    "name": "ipython",
    "version": 3
   },
   "file_extension": ".py",
   "mimetype": "text/x-python",
   "name": "python",
   "nbconvert_exporter": "python",
   "pygments_lexer": "ipython3",
   "version": "3.11.6"
  },
  "orig_nbformat": 4
 },
 "nbformat": 4,
 "nbformat_minor": 2
}
