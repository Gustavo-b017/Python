{
 "cells": [
  {
   "cell_type": "code",
   "execution_count": null,
   "metadata": {},
   "outputs": [],
   "source": [
    "nomes = ['market', 'john', 'joao', 'maria', 'carlos', 'ana']\n",
    "\n",
    "# iteracao - passar item por item na lista\n",
    "# upper - todas as letras se tornam maiusculas\n",
    "\n",
    "for nome in nomes:\n",
    "    print(nome.upper())"
   ]
  },
  {
   "cell_type": "code",
   "execution_count": null,
   "metadata": {},
   "outputs": [],
   "source": [
    "for i in range(1,6):\n",
    "    print(i ** 2)"
   ]
  },
  {
   "cell_type": "code",
   "execution_count": null,
   "metadata": {},
   "outputs": [],
   "source": [
    "soma = 0 \n",
    "for i in range(1,6):\n",
    "    soma += i\n",
    "print(f'A soma dos numeros inteiros é: {soma}')"
   ]
  },
  {
   "cell_type": "code",
   "execution_count": 1,
   "metadata": {},
   "outputs": [
    {
     "name": "stdout",
     "output_type": "stream",
     "text": [
      "lista_origianal[1, 2, 3, 4, 5]\n",
      "nova_lista[2]\n",
      "lista_origianal[1, 2, 3, 4, 5]\n",
      "nova_lista[2, 4]\n",
      "lista_origianal[1, 2, 3, 4, 5]\n",
      "nova_lista[2, 4, 6]\n",
      "lista_origianal[1, 2, 3, 4, 5]\n",
      "nova_lista[2, 4, 6, 8]\n",
      "lista_origianal[1, 2, 3, 4, 5]\n",
      "nova_lista[2, 4, 6, 8, 10]\n"
     ]
    }
   ],
   "source": [
    "lista_original = [1, 2, 3, 4, 5]\n",
    "nova_lista = []\n",
    "\n",
    "for elemento in lista_original:\n",
    "    nova_lista.append(elemento * 2)\n",
    "    print(f\"lista_origianal{lista_original}\")\n",
    "    print(f\"nova_lista{nova_lista}\")"
   ]
  }
 ],
 "metadata": {
  "kernelspec": {
   "display_name": "Python 3",
   "language": "python",
   "name": "python3"
  },
  "language_info": {
   "codemirror_mode": {
    "name": "ipython",
    "version": 3
   },
   "file_extension": ".py",
   "mimetype": "text/x-python",
   "name": "python",
   "nbconvert_exporter": "python",
   "pygments_lexer": "ipython3",
   "version": "3.11.4"
  },
  "orig_nbformat": 4
 },
 "nbformat": 4,
 "nbformat_minor": 2
}
