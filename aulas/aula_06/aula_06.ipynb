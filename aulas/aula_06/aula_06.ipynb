{
 "cells": [
  {
   "cell_type": "code",
   "execution_count": 2,
   "metadata": {},
   "outputs": [
    {
     "ename": "SyntaxError",
     "evalue": "invalid syntax (1952828287.py, line 4)",
     "output_type": "error",
     "traceback": [
      "\u001b[1;36m  Cell \u001b[1;32mIn[2], line 4\u001b[1;36m\u001b[0m\n\u001b[1;33m    while x <= 1 fim:\u001b[0m\n\u001b[1;37m                 ^\u001b[0m\n\u001b[1;31mSyntaxError\u001b[0m\u001b[1;31m:\u001b[0m invalid syntax\n"
     ]
    }
   ],
   "source": [
    "fim = int(input(\"digite o ultimo numro para imprimir:\"))\n",
    "x =1\n",
    "\n",
    "while x <= 1 fim:\n",
    "    x += 1\n",
    "    print(x)\n",
    "\n",
    "\n"
   ]
  },
  {
   "cell_type": "code",
   "execution_count": null,
   "metadata": {},
   "outputs": [],
   "source": []
  },
  {
   "attachments": {},
   "cell_type": "markdown",
   "metadata": {},
   "source": []
  },
  {
   "attachments": {},
   "cell_type": "markdown",
   "metadata": {},
   "source": []
  },
  {
   "attachments": {},
   "cell_type": "markdown",
   "metadata": {},
   "source": [
    "reverter a ordem da lista"
   ]
  },
  {
   "cell_type": "code",
   "execution_count": 3,
   "metadata": {},
   "outputs": [
    {
     "name": "stdout",
     "output_type": "stream",
     "text": [
      "50\n",
      "40\n",
      "30\n",
      "20\n",
      "10\n"
     ]
    }
   ],
   "source": [
    "lista1 = [10, 20, 30, 40, 50]\n",
    "\n",
    "nova_lista = reversed(lista1)\n",
    "\n",
    "for x in nova_lista:\n",
    "    print(x)"
   ]
  },
  {
   "attachments": {},
   "cell_type": "markdown",
   "metadata": {},
   "source": [
    "pular termos na lista\n"
   ]
  },
  {
   "cell_type": "code",
   "execution_count": 7,
   "metadata": {},
   "outputs": [
    {
     "name": "stdout",
     "output_type": "stream",
     "text": [
      "20 50 80 "
     ]
    }
   ],
   "source": [
    "minha_lista = [10, 20, 30, 40, 50, 60, 70, 80, 90, 100]\n",
    "\n",
    "# \"::\" - da um ponto de partida e depois comeca a \"fatiar\", n traz tudo da lista, vai pulando termos\n",
    "for i in minha_lista [1::3]:\n",
    "    print(i, end = \" \")"
   ]
  },
  {
   "attachments": {},
   "cell_type": "markdown",
   "metadata": {},
   "source": [
    "adicionando termos na lista"
   ]
  },
  {
   "cell_type": "code",
   "execution_count": null,
   "metadata": {},
   "outputs": [],
   "source": [
    "minha_lista = []\n",
    "\n",
    "i = 0\n",
    "\n",
    "# while - loop de repeticao infinita ate atender alguma limitacao, no caso, menor que 10\n",
    "# append - encrementa alguma coisa na lista, sendo vazia ou n(nao recomendado colocar dados em uma coluna cheia)\n",
    "# append(a variavel para encrementar na lista) \n",
    "while len(minha_lista) < 10:\n",
    "    minha_lista.append(i)\n",
    "    i += 1\n",
    "print(minha_lista)\n"
   ]
  },
  {
   "attachments": {},
   "cell_type": "markdown",
   "metadata": {},
   "source": [
    "soma de termos na lista"
   ]
  },
  {
   "cell_type": "code",
   "execution_count": 10,
   "metadata": {},
   "outputs": [
    {
     "name": "stdout",
     "output_type": "stream",
     "text": [
      "135\n"
     ]
    }
   ],
   "source": [
    "minha_lista = [23, 45, 12, 25, 10, 20]\n",
    "\n",
    "i = 0\n",
    "soma = 0\n",
    "\n",
    "# len - ver o comprimento da lista\n",
    "# while - loop ate chegar onde quero\n",
    "# \"+=\"  - repete a variavel para somar o termo que vem \n",
    "\n",
    "while i < len(minha_lista):\n",
    "    soma += minha_lista[i]\n",
    "    i += 1\n",
    "print(soma)"
   ]
  },
  {
   "attachments": {},
   "cell_type": "markdown",
   "metadata": {},
   "source": [
    "criando uma especie de tabuado, mostrando a conta"
   ]
  },
  {
   "cell_type": "code",
   "execution_count": 13,
   "metadata": {},
   "outputs": [
    {
     "name": "stdout",
     "output_type": "stream",
     "text": [
      "5 * 1 = 5\n",
      "5 * 2 = 10\n",
      "5 * 3 = 15\n",
      "5 * 4 = 20\n",
      "5 * 5 = 25\n",
      "5 * 6 = 30\n",
      "5 * 7 = 35\n",
      "5 * 8 = 40\n",
      "5 * 9 = 45\n"
     ]
    }
   ],
   "source": [
    "#criando uma especie de tabuada\n",
    "\n",
    "a = 5\n",
    "b = 1\n",
    "\n",
    "# \"%d\" - mostra a conta que sera realizada, para definir se usa: \"%(oredem que quer que apareca)\"\n",
    "# o \"%d\" sera substituido pelos valores na ordem em que aparece na \"%(ordem)\"\n",
    "\n",
    "while b <= 9:\n",
    "    print(\"%d * %d = %d\" %(a, b, a*b))\n",
    "    b += 1\n",
    "    "
   ]
  },
  {
   "attachments": {},
   "cell_type": "markdown",
   "metadata": {},
   "source": [
    "tabuada personalizada, inserindo o numero e o multiplo"
   ]
  },
  {
   "cell_type": "code",
   "execution_count": 2,
   "metadata": {},
   "outputs": [
    {
     "name": "stdout",
     "output_type": "stream",
     "text": [
      "9 * 2 = 18\n",
      "9 * 3 = 27\n",
      "9 * 4 = 36\n",
      "9 * 5 = 45\n",
      "9 * 6 = 54\n",
      "9 * 7 = 63\n",
      "9 * 8 = 72\n",
      "9 * 9 = 81\n",
      "9 * 10 = 90\n",
      "9 * 11 = 99\n",
      "9 * 12 = 108\n",
      "9 * 13 = 117\n",
      "9 * 14 = 126\n",
      "9 * 15 = 135\n"
     ]
    }
   ],
   "source": [
    "# variaveis\n",
    "\n",
    "numerador = int(input(\"vai ser qual numero, meu rei?\"))\n",
    "multiplicador = int(input(\"qual e o multiplo, meu nobre?\"))\n",
    "limite = int(input(\"tem que ter um limite para n morrer:\"))\n",
    "#conta\n",
    "while  multiplicador <= limite:\n",
    "    print(\"%d * %d = %d\" %(numerador, multiplicador, numerador * multiplicador))\n",
    "    multiplicador += 1\n",
    "\n"
   ]
  }
 ],
 "metadata": {
  "kernelspec": {
   "display_name": "Python 3",
   "language": "python",
   "name": "python3"
  },
  "language_info": {
   "codemirror_mode": {
    "name": "ipython",
    "version": 3
   },
   "file_extension": ".py",
   "mimetype": "text/x-python",
   "name": "python",
   "nbconvert_exporter": "python",
   "pygments_lexer": "ipython3",
   "version": "3.11.4"
  },
  "orig_nbformat": 4
 },
 "nbformat": 4,
 "nbformat_minor": 2
}
