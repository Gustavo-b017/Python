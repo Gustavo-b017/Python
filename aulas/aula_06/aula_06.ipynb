{
 "cells": [
  {
   "cell_type": "code",
   "execution_count": 2,
   "metadata": {},
   "outputs": [
    {
     "ename": "SyntaxError",
     "evalue": "invalid syntax (1952828287.py, line 4)",
     "output_type": "error",
     "traceback": [
      "\u001b[1;36m  Cell \u001b[1;32mIn[2], line 4\u001b[1;36m\u001b[0m\n\u001b[1;33m    while x <= 1 fim:\u001b[0m\n\u001b[1;37m                 ^\u001b[0m\n\u001b[1;31mSyntaxError\u001b[0m\u001b[1;31m:\u001b[0m invalid syntax\n"
     ]
    }
   ],
   "source": [
    "fim = int(input(\"digite o ultimo numro para imprimir:\"))\n",
    "x =1\n",
    "\n",
    "while x <= 1 fim:\n",
    "    x += 1\n",
    "    print(x)\n",
    "\n",
    "\n"
   ]
  },
  {
   "cell_type": "code",
   "execution_count": null,
   "metadata": {},
   "outputs": [],
   "source": []
  },
  {
   "attachments": {},
   "cell_type": "markdown",
   "metadata": {},
   "source": []
  },
  {
   "attachments": {},
   "cell_type": "markdown",
   "metadata": {},
   "source": []
  },
  {
   "attachments": {},
   "cell_type": "markdown",
   "metadata": {},
   "source": [
    "reverter a ordem da lista"
   ]
  },
  {
   "cell_type": "code",
   "execution_count": 3,
   "metadata": {},
   "outputs": [
    {
     "name": "stdout",
     "output_type": "stream",
     "text": [
      "50\n",
      "40\n",
      "30\n",
      "20\n",
      "10\n"
     ]
    }
   ],
   "source": [
    "lista1 = [10, 20, 30, 40, 50]\n",
    "\n",
    "nova_lista = reversed(lista1)\n",
    "\n",
    "for x in nova_lista:\n",
    "    print(x)"
   ]
  },
  {
   "attachments": {},
   "cell_type": "markdown",
   "metadata": {},
   "source": [
    "pular termos na lista\n"
   ]
  },
  {
   "cell_type": "code",
   "execution_count": 7,
   "metadata": {},
   "outputs": [
    {
     "name": "stdout",
     "output_type": "stream",
     "text": [
      "20 50 80 "
     ]
    }
   ],
   "source": [
    "minha_lista = [10, 20, 30, 40, 50, 60, 70, 80, 90, 100]\n",
    "\n",
    "# \"::\" - da um ponto de partida e depois comeca a \"fatiar\", n traz tudo da lista, vai pulando termos\n",
    "for i in minha_lista [1::3]:\n",
    "    print(i, end = \" \")"
   ]
  },
  {
   "attachments": {},
   "cell_type": "markdown",
   "metadata": {},
   "source": [
    "adicionando termos na lista"
   ]
  },
  {
   "cell_type": "code",
   "execution_count": 5,
   "metadata": {},
   "outputs": [
    {
     "name": "stdout",
     "output_type": "stream",
     "text": [
      "[-5, -4, -3, -2, -1, 0, 1, 2, 3, 4]\n"
     ]
    }
   ],
   "source": [
    "minha_lista = []\n",
    "\n",
    "i = - 5\n",
    "\n",
    "# i - contador \n",
    "# enquanto a q° de itens da minha lista for menor que 10, o while continuará rodando (1° linha a partir do while)\n",
    "# adiciona o item \"i\" na minha_lista (2° linha )\n",
    "# while - loop de repeticao infinita ate atender alguma limitacao, no caso, menor que 10\n",
    "# append - encrementa alguma coisa na lista, sendo vazia ou n(nao recomendado colocar dados em uma coluna cheia)\n",
    "# append(a variavel para encrementar na lista)\n",
    "# adiciona o item \"i\" na minha_lista\n",
    "while len(minha_lista) < 10:\n",
    "    \n",
    "    minha_lista.append(i) \n",
    "    i += 1\n",
    "print(minha_lista)\n"
   ]
  },
  {
   "attachments": {},
   "cell_type": "markdown",
   "metadata": {},
   "source": [
    "soma de termos na lista"
   ]
  },
  {
   "cell_type": "code",
   "execution_count": 10,
   "metadata": {},
   "outputs": [
    {
     "name": "stdout",
     "output_type": "stream",
     "text": [
      "135\n"
     ]
    }
   ],
   "source": [
    "minha_lista = [23, 45, 12, 25, 10, 20]\n",
    "\n",
    "i = 0\n",
    "soma = 0\n",
    "\n",
    "# len - ver o comprimento da lista\n",
    "# while - loop ate chegar onde quero\n",
    "# \"+=\"  - repete a variavel para somar o termo que vem \n",
    "\n",
    "while i < len(minha_lista):\n",
    "    soma += minha_lista[i]\n",
    "    i += 1\n",
    "print(soma)"
   ]
  },
  {
   "attachments": {},
   "cell_type": "markdown",
   "metadata": {},
   "source": [
    "criando uma especie de tabuado, mostrando a conta"
   ]
  },
  {
   "cell_type": "code",
   "execution_count": 13,
   "metadata": {},
   "outputs": [
    {
     "name": "stdout",
     "output_type": "stream",
     "text": [
      "5 * 1 = 5\n",
      "5 * 2 = 10\n",
      "5 * 3 = 15\n",
      "5 * 4 = 20\n",
      "5 * 5 = 25\n",
      "5 * 6 = 30\n",
      "5 * 7 = 35\n",
      "5 * 8 = 40\n",
      "5 * 9 = 45\n"
     ]
    }
   ],
   "source": [
    "#criando uma especie de tabuada\n",
    "\n",
    "a = 5\n",
    "b = 1\n",
    "\n",
    "# \"%d\" - mostra a conta que sera realizada, para definir se usa: \"%(oredem que quer que apareca)\"\n",
    "# o \"%d\" sera substituido pelos valores na ordem em que aparece na \"%(ordem)\"\n",
    "\n",
    "while b <= 9:\n",
    "    print(\"%d * %d = %d\" %(a, b, a*b))\n",
    "    b += 1\n",
    "    "
   ]
  },
  {
   "attachments": {},
   "cell_type": "markdown",
   "metadata": {},
   "source": [
    "tabuada personalizada, inserindo o numero e o multiplo"
   ]
  },
  {
   "cell_type": "code",
   "execution_count": 2,
   "metadata": {},
   "outputs": [
    {
     "name": "stdout",
     "output_type": "stream",
     "text": [
      "9 * 2 = 18\n",
      "9 * 3 = 27\n",
      "9 * 4 = 36\n",
      "9 * 5 = 45\n",
      "9 * 6 = 54\n",
      "9 * 7 = 63\n",
      "9 * 8 = 72\n",
      "9 * 9 = 81\n",
      "9 * 10 = 90\n",
      "9 * 11 = 99\n",
      "9 * 12 = 108\n",
      "9 * 13 = 117\n",
      "9 * 14 = 126\n",
      "9 * 15 = 135\n"
     ]
    }
   ],
   "source": [
    "# variaveis\n",
    "\n",
    "numerador = int(input(\"vai ser qual numero, meu rei?\"))\n",
    "multiplicador = int(input(\"qual e o multiplo, meu nobre?\"))\n",
    "limite = int(input(\"tem que ter um limite para n morrer:\"))\n",
    "#conta\n",
    "while  multiplicador <= limite:\n",
    "    print(\"%d * %d = %d\" %(numerador, multiplicador, numerador * multiplicador))\n",
    "    multiplicador += 1\n",
    "\n"
   ]
  },
  {
   "attachments": {},
   "cell_type": "markdown",
   "metadata": {},
   "source": [
    "retitar uma letra de uma lista"
   ]
  },
  {
   "cell_type": "code",
   "execution_count": 10,
   "metadata": {},
   "outputs": [
    {
     "name": "stdout",
     "output_type": "stream",
     "text": [
      "as letras sao e\n",
      "as letras sao n\n",
      "as letras sao e\n",
      "as letras sao n\n",
      "as letras sao h\n",
      "as letras sao a\n",
      "as letras sao r\n",
      "as letras sao i\n",
      "as letras sao a\n",
      "as letras sao  \n",
      "as letras sao d\n",
      "as letras sao e\n",
      "as letras sao  \n",
      "as letras sao s\n",
      "as letras sao o\n",
      "as letras sao f\n",
      "as letras sao t\n",
      "as letras sao w\n",
      "as letras sao a\n",
      "as letras sao r\n",
      "as letras sao e\n"
     ]
    }
   ],
   "source": [
    "palavra = 'engenharia de software'\n",
    "i = 0\n",
    "\n",
    "# continue - mesmo se cair na situacao, continue o codigo\n",
    "while i < len(palavra):\n",
    "    if palavra[i] == 'g' :\n",
    "        i += 1\n",
    "        continue\n",
    "    print(\"as letras sao\", palavra[i])\n",
    "    i += 1"
   ]
  },
  {
   "attachments": {},
   "cell_type": "markdown",
   "metadata": {},
   "source": [
    "corrigir 3 questoes\n"
   ]
  },
  {
   "cell_type": "code",
   "execution_count": 26,
   "metadata": {},
   "outputs": [
    {
     "name": "stdout",
     "output_type": "stream",
     "text": [
      "vc acertou a\n",
      "vc errou a segunda\n",
      "vc acertou d\n",
      "vc tirou: 2\n"
     ]
    }
   ],
   "source": [
    "resp_corretas = ['a', 'b', 'd']\n",
    "\n",
    "q1 = str(input('qual e a primeira questao'))\n",
    "q2 = str(input('qual e a segunda questao'))\n",
    "q3 = str(input('qual e a terceira questao'))\n",
    "\n",
    "pontos = 0\n",
    "\n",
    " \n",
    "if q1 == \"b\":\n",
    "        print('vc acertou', q1 )\n",
    "        pontos += 1\n",
    "else:\n",
    "        print('vc errou a primeira')\n",
    "\n",
    "if q2 == 'a':\n",
    "        print('vc acertou', q2 )\n",
    "        pontos += 1\n",
    "else:\n",
    "        print('vc errou a segunda')\n",
    "\n",
    "if q3 == 'd':\n",
    "        print('vc acertou', q3 )\n",
    "        pontos += 1\n",
    "else:\n",
    "        print('vc errou a terceira')    \n",
    "\n",
    "print(f\"vc tirou: {pontos}\")"
   ]
  },
  {
   "cell_type": "code",
   "execution_count": 11,
   "metadata": {},
   "outputs": [
    {
     "name": "stdout",
     "output_type": "stream",
     "text": [
      "a pontuacao sera: 0\n",
      "a pontuacao sera: 0\n",
      "a pontuacao sera: 1\n"
     ]
    }
   ],
   "source": [
    "# codigo do prof\n",
    "\n",
    "# a lista deve estar na ordem das questoes corretas\n",
    "resposta_correta = ['b', 'a', 'd']\n",
    "\n",
    "# reposta, o que tem que ser printado no final:\n",
    "pontuacao = 0\n",
    "# funcao de contador:\n",
    "questao_atual = 0\n",
    "\n",
    "# o python comeca a conta do 0, enato sera: 0, 1, 2\n",
    "# \"<3\" e a quantidade de vezes que o codigo ira rodar\n",
    "while questao_atual <3:\n",
    "    # ira percorrer a lista\n",
    "    resposta = input(\"resposta da questao:\")\n",
    "    # \n",
    "    if resposta == resposta_correta[questao_atual]:\n",
    "        pontuacao += 1\n",
    "    print(f\"a pontuacao sera: {pontuacao}\")\n",
    "    \n",
    "    questao_atual += 1"
   ]
  },
  {
   "attachments": {},
   "cell_type": "markdown",
   "metadata": {},
   "source": [
    "cosumo de energia usando while"
   ]
  },
  {
   "cell_type": "code",
   "execution_count": 10,
   "metadata": {},
   "outputs": [
    {
     "name": "stdout",
     "output_type": "stream",
     "text": [
      "sua escolha é: comercial e terá que pagar: 7000.0\n"
     ]
    }
   ],
   "source": [
    "i = 0\n",
    "\n",
    "\n",
    "# o python comeca a conta do 0, enato sera: 0, 1, 2\n",
    "while i < 1:\n",
    "    i += 1\n",
    "    resposta = str(input(\"tipo de consumo:\"))\n",
    "    ene = int(input(\"quanto de energia foi consumida?\"))\n",
    "    if resposta == \"c\":\n",
    "        if ene <= 1000:\n",
    "            pcn = (ene * 0.65)\n",
    "            print(f\"sua escolha é: comercial e terá que pagar: {pcn}\")\n",
    "        elif ene > 1000:\n",
    "            pmc = (ene * 0.70)\n",
    "            print(f\"sua escolha é: comercial e terá que pagar: {pmc}\")\n",
    "        else:\n",
    "            print(\"deu algo de errado\")\n",
    "    elif resposta == \"r\":\n",
    "        if ene <= 500:\n",
    "            prn = (ene * 0.50)\n",
    "            print(f\"sua escolha é: residencial e terá que pagar: {prn}\")\n",
    "        elif ene > 500:\n",
    "            prm = (ene * 0.75)\n",
    "            print(f\"sua escolha é: residencial e terá que pagar: {prm}\")\n",
    "\n",
    "        else:\n",
    "            print(\"deu algo de errado\")\n",
    "\n",
    "    elif resposta == \"i\":\n",
    "    \n",
    "        if ene <= 5000:\n",
    "            pin = (ene * 0.65)\n",
    "            print(f\"sua escolha é: comercial e terá que pagar: {pin}\")\n",
    "        elif ene > 5000:\n",
    "            pmi = (ene * 0.70)\n",
    "            print(f\"sua escolha é: comercial e terá que pagar: {pmi}\")\n",
    "\n",
    "        else:\n",
    "            print(\"deu algo de errado\")\n",
    "    \n",
    "    else:\n",
    "        print(\"deu algo de errado\")"
   ]
  }
 ],
 "metadata": {
  "kernelspec": {
   "display_name": "Python 3",
   "language": "python",
   "name": "python3"
  },
  "language_info": {
   "codemirror_mode": {
    "name": "ipython",
    "version": 3
   },
   "file_extension": ".py",
   "mimetype": "text/x-python",
   "name": "python",
   "nbconvert_exporter": "python",
   "pygments_lexer": "ipython3",
   "version": "3.11.5"
  },
  "orig_nbformat": 4
 },
 "nbformat": 4,
 "nbformat_minor": 2
}
