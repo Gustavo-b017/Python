{
 "cells": [
  {
   "cell_type": "code",
   "execution_count": 3,
   "metadata": {},
   "outputs": [
    {
     "name": "stdout",
     "output_type": "stream",
     "text": [
      "valor invalido. Digite um valor entre 5 e 10\n",
      "valor invalido. Digite um valor entre 5 e 10\n",
      "valor invalido. Digite um valor entre 5 e 10\n",
      "valor invalido. Digite um valor entre 5 e 10\n",
      "valor valido 5\n"
     ]
    }
   ],
   "source": [
    "# .format -- transorma string para numero\n",
    "# while True -- enquanto ele for verdadeiro, ira refazer toda a estrutura ate dar certo; basicamente ira formar um loop infinito ate que a condicao seja satisfeita\n",
    "def faixa_int(min, max):\n",
    "    while True:\n",
    "        v = int(input(\"valor entre {} e {}: \".format(min,max)))\n",
    "        if v < min or v > max:\n",
    "            print(\"valor invalido. Digite um valor entre {} e {}\".format(min, max))\n",
    "        else:\n",
    "            return v\n",
    "min = 5\n",
    "max = 10\n",
    "\n",
    "valor= faixa_int(min,max)\n",
    "print(\"valor valido\", valor)"
   ]
  },
  {
   "attachments": {},
   "cell_type": "markdown",
   "metadata": {},
   "source": [
    "problema 1 - validacao de uma string\n"
   ]
  },
  {
   "cell_type": "code",
   "execution_count": 7,
   "metadata": {},
   "outputs": [
    {
     "name": "stdout",
     "output_type": "stream",
     "text": [
      "palavra invalida! tenta de novo\n",
      "palavra invalida! tenta de novo\n",
      "valor valido: batata\n"
     ]
    }
   ],
   "source": [
    "def val_pala(min_max):\n",
    "    while True:\n",
    "        pal = input(\"qual e a plavra?\")\n",
    "        if pal != \"batata\" or len(pal) != min_max:\n",
    "            print(\"palavra invalida! tenta de novo\")\n",
    "        else:\n",
    "            return pal\n",
    "\n",
    "min_max = 6\n",
    "palavra = val_pala(min_max)\n",
    "print(\"valor valido:\", palavra)"
   ]
  },
  {
   "cell_type": "code",
   "execution_count": 6,
   "metadata": {},
   "outputs": [
    {
     "name": "stdout",
     "output_type": "stream",
     "text": [
      "palavra invalida! tenta de novo\n",
      "palavra invalida! tenta de novo\n",
      "palavra invalida! tenta de novo\n",
      "valor valido: aa\n"
     ]
    }
   ],
   "source": [
    "pal_chave = input(\"qual é a palavra chave?\")\n",
    "\n",
    "def val_pala(pal_chave):\n",
    "    while True:\n",
    "        pal = input(\"qual e a plavra?\")\n",
    "        if pal != pal_chave or len(pal_chave) != len(pal_chave):\n",
    "            print(\"palavra invalida! tenta de novo\")\n",
    "        else:\n",
    "            return pal\n",
    "\n",
    "\n",
    "palavra = val_pala(pal_chave)\n",
    "print(\"valor valido:\", palavra)"
   ]
  },
  {
   "attachments": {},
   "cell_type": "markdown",
   "metadata": {},
   "source": [
    "problema 2 - validacao com uma lista"
   ]
  },
  {
   "cell_type": "code",
   "execution_count": 2,
   "metadata": {},
   "outputs": [
    {
     "name": "stdout",
     "output_type": "stream",
     "text": [
      "valor valido: True\n"
     ]
    }
   ],
   "source": [
    "def val_pala(pal, senha):\n",
    "    return pal in senha\n",
    "\n",
    "senha = [\"batata\", \"helio\"]\n",
    "\n",
    "palavra = val_pala(\"batata\", senha)\n",
    "print(\"valor valido:\", palavra)"
   ]
  },
  {
   "cell_type": "code",
   "execution_count": 10,
   "metadata": {},
   "outputs": [
    {
     "name": "stdout",
     "output_type": "stream",
     "text": [
      "13\n",
      "None\n"
     ]
    }
   ],
   "source": [
    "def soma(a,b):\n",
    "    return a + b\n",
    "\n",
    "def sub(a,b):\n",
    "    return a - b\n",
    "\n",
    "def juncao(a ,b, fun_parametro):\n",
    "    print(fun_parametro(a,b))\n",
    "\n",
    "resultado = juncao(4 ,9, soma)\n",
    "print(resultado)"
   ]
  },
  {
   "cell_type": "code",
   "execution_count": 12,
   "metadata": {},
   "outputs": [
    {
     "ename": "TypeError",
     "evalue": "juncao() takes 3 positional arguments but 4 were given",
     "output_type": "error",
     "traceback": [
      "\u001b[1;31m---------------------------------------------------------------------------\u001b[0m",
      "\u001b[1;31mTypeError\u001b[0m                                 Traceback (most recent call last)",
      "Cell \u001b[1;32mIn[12], line 1\u001b[0m\n\u001b[1;32m----> 1\u001b[0m juncao(\u001b[39m4\u001b[39;49m ,\u001b[39m9\u001b[39;49m, soma, sub)\n",
      "\u001b[1;31mTypeError\u001b[0m: juncao() takes 3 positional arguments but 4 were given"
     ]
    }
   ],
   "source": [
    "juncao(4 ,9,)"
   ]
  },
  {
   "attachments": {},
   "cell_type": "markdown",
   "metadata": {},
   "source": [
    "problema 3 - media, soma, subtracao, divisao, multiplicacao com funcao\n"
   ]
  },
  {
   "cell_type": "code",
   "execution_count": 27,
   "metadata": {},
   "outputs": [],
   "source": [
    "a = 4\n",
    "b = 15\n",
    "def soma (a, b):\n",
    "    return a + b\n",
    "\n",
    "def sub (a, b):\n",
    "    return a - b\n",
    "\n",
    "def div (a, b):\n",
    "    return a / b\n",
    "\n",
    "def mult (a, b):\n",
    "    return a * b\n",
    "\n",
    "media = som + sub + "
   ]
  },
  {
   "cell_type": "code",
   "execution_count": 55,
   "metadata": {},
   "outputs": [
    {
     "name": "stdout",
     "output_type": "stream",
     "text": [
      "o valor das operacoes basicas de 60 e 30 é: \n",
      "o valor da soma é: 90\n",
      "o valor da subtracao é: 30\n",
      "o valor da divisao é: 2.0\n",
      "o valor da multiplicacao é: 1800\n",
      "o valor da media é: 480.5\n"
     ]
    }
   ],
   "source": [
    "a = 60\n",
    "b = 30\n",
    "\n",
    "def soma (a, b):\n",
    "    return(a + b)\n",
    "\n",
    "def sub (a, b):\n",
    "    return(a - b)\n",
    "\n",
    "def div (a, b):\n",
    "    return(a / b)\n",
    "\n",
    "def mult (a, b):\n",
    "    return(a * b)\n",
    "\n",
    "def media(a, b):\n",
    "    soma = a + b\n",
    "    sub = a - b\n",
    "    div = a / b\n",
    "    mult = a * b\n",
    "    media = (soma + sub + div + mult) / 4\n",
    "    return media\n",
    "\n",
    "\n",
    "print(f\"o valor das operacoes basicas de {a} e {b} é: \")\n",
    "print(f\"o valor da soma é: {soma(a,b)}\") \n",
    "print(f\"o valor da subtracao é: {sub(a,b)}\")\n",
    "print(f\"o valor da divisao é: {div(a,b)}\")\n",
    "print(f\"o valor da multiplicacao é: {mult(a,b)}\")\n",
    "print(f\"o valor da media é: {media(a,b)}\")"
   ]
  },
  {
   "cell_type": "code",
   "execution_count": 56,
   "metadata": {},
   "outputs": [
    {
     "name": "stdout",
     "output_type": "stream",
     "text": [
      "Note: you may need to restart the kernel to use updated packages.Collecting pandas\n",
      "  Downloading pandas-2.1.2-cp311-cp311-win_amd64.whl (10.6 MB)\n",
      "                                              0.0/10.6 MB ? eta -:--:--\n",
      "     --                                       0.5/10.6 MB 11.1 MB/s eta 0:00:01\n",
      "     ----                                     1.1/10.6 MB 11.4 MB/s eta 0:00:01\n",
      "     ------                                   1.6/10.6 MB 11.5 MB/s eta 0:00:01\n",
      "     ------                                   1.6/10.6 MB 11.5 MB/s eta 0:00:01\n",
      "     ------                                   1.6/10.6 MB 11.5 MB/s eta 0:00:01\n",
      "     ------                                   1.6/10.6 MB 11.5 MB/s eta 0:00:01\n",
      "     ------                                   1.6/10.6 MB 11.5 MB/s eta 0:00:01\n",
      "     ------                                   1.6/10.6 MB 11.5 MB/s eta 0:00:01\n",
      "     --------                                 2.2/10.6 MB 5.1 MB/s eta 0:00:02\n",
      "     ----------                               2.7/10.6 MB 5.8 MB/s eta 0:00:02\n",
      "     ------------                             3.3/10.6 MB 6.3 MB/s eta 0:00:02\n",
      "     ------------                             3.4/10.6 MB 6.5 MB/s eta 0:00:02\n",
      "     ------------                             3.4/10.6 MB 6.5 MB/s eta 0:00:02\n",
      "     ------------                             3.4/10.6 MB 6.5 MB/s eta 0:00:02\n",
      "     ------------                             3.4/10.6 MB 6.5 MB/s eta 0:00:02\n",
      "     ------------                             3.4/10.6 MB 6.5 MB/s eta 0:00:02\n",
      "     ------------                             3.4/10.6 MB 6.5 MB/s eta 0:00:02\n",
      "     ------------                             3.4/10.6 MB 6.5 MB/s eta 0:00:02\n",
      "     ------------                             3.4/10.6 MB 6.5 MB/s eta 0:00:02\n",
      "     ------------                             3.4/10.6 MB 6.5 MB/s eta 0:00:02\n",
      "     ------------                             3.4/10.6 MB 6.5 MB/s eta 0:00:02\n",
      "     ------------                             3.4/10.6 MB 6.5 MB/s eta 0:00:02\n",
      "     ------------                             3.4/10.6 MB 6.5 MB/s eta 0:00:02\n",
      "     ------------                             3.4/10.6 MB 6.5 MB/s eta 0:00:02\n",
      "     ------------                             3.4/10.6 MB 6.5 MB/s eta 0:00:02\n",
      "     -------------                            3.6/10.6 MB 3.0 MB/s eta 0:00:03\n",
      "     ---------------                          4.1/10.6 MB 3.2 MB/s eta 0:00:03\n",
      "     -----------------                        4.6/10.6 MB 3.5 MB/s eta 0:00:02\n",
      "     -------------------                      5.2/10.6 MB 3.8 MB/s eta 0:00:02\n",
      "     -------------------                      5.3/10.6 MB 3.9 MB/s eta 0:00:02\n",
      "     -------------------                      5.3/10.6 MB 3.9 MB/s eta 0:00:02\n",
      "     -------------------                      5.3/10.6 MB 3.9 MB/s eta 0:00:02\n",
      "     -------------------                      5.3/10.6 MB 3.9 MB/s eta 0:00:02\n",
      "     -------------------                      5.3/10.6 MB 3.9 MB/s eta 0:00:02\n",
      "     -------------------                      5.3/10.6 MB 3.9 MB/s eta 0:00:02\n",
      "     -------------------                      5.3/10.6 MB 3.9 MB/s eta 0:00:02\n",
      "     -------------------                      5.3/10.6 MB 3.9 MB/s eta 0:00:02\n",
      "     -------------------                      5.3/10.6 MB 3.9 MB/s eta 0:00:02\n",
      "     -------------------                      5.3/10.6 MB 3.9 MB/s eta 0:00:02\n",
      "     -------------------                      5.3/10.6 MB 3.9 MB/s eta 0:00:02\n",
      "     -------------------                      5.3/10.6 MB 3.9 MB/s eta 0:00:02\n",
      "     -------------------                      5.3/10.6 MB 3.9 MB/s eta 0:00:02\n",
      "     -------------------                      5.3/10.6 MB 3.9 MB/s eta 0:00:02\n",
      "     --------------------                     5.6/10.6 MB 2.7 MB/s eta 0:00:02\n",
      "     ----------------------                   6.1/10.6 MB 2.9 MB/s eta 0:00:02\n",
      "     ------------------------                 6.5/10.6 MB 3.0 MB/s eta 0:00:02\n",
      "     --------------------------               7.0/10.6 MB 3.2 MB/s eta 0:00:02\n",
      "     --------------------------               7.2/10.6 MB 3.2 MB/s eta 0:00:02\n",
      "     --------------------------               7.2/10.6 MB 3.2 MB/s eta 0:00:02\n",
      "     --------------------------               7.2/10.6 MB 3.2 MB/s eta 0:00:02\n",
      "     --------------------------               7.2/10.6 MB 3.2 MB/s eta 0:00:02\n",
      "     --------------------------               7.2/10.6 MB 3.2 MB/s eta 0:00:02\n",
      "     --------------------------               7.2/10.6 MB 3.2 MB/s eta 0:00:02\n",
      "     --------------------------               7.2/10.6 MB 3.2 MB/s eta 0:00:02\n",
      "     --------------------------               7.2/10.6 MB 3.2 MB/s eta 0:00:02\n",
      "     --------------------------               7.2/10.6 MB 3.2 MB/s eta 0:00:02\n",
      "     --------------------------               7.2/10.6 MB 3.2 MB/s eta 0:00:02\n",
      "     --------------------------               7.2/10.6 MB 3.2 MB/s eta 0:00:02\n",
      "     --------------------------               7.2/10.6 MB 3.2 MB/s eta 0:00:02\n",
      "     --------------------------               7.2/10.6 MB 3.2 MB/s eta 0:00:02\n",
      "     --------------------------               7.2/10.6 MB 3.2 MB/s eta 0:00:02\n",
      "     ----------------------------             7.5/10.6 MB 2.6 MB/s eta 0:00:02\n",
      "     -----------------------------            7.9/10.6 MB 2.7 MB/s eta 0:00:02\n",
      "     -------------------------------          8.3/10.6 MB 2.8 MB/s eta 0:00:01\n",
      "     ---------------------------------        8.8/10.6 MB 2.9 MB/s eta 0:00:01\n",
      "     ---------------------------------        9.0/10.6 MB 2.9 MB/s eta 0:00:01\n",
      "     ---------------------------------        9.0/10.6 MB 2.9 MB/s eta 0:00:01\n",
      "     ---------------------------------        9.0/10.6 MB 2.9 MB/s eta 0:00:01\n",
      "     ---------------------------------        9.0/10.6 MB 2.9 MB/s eta 0:00:01\n",
      "     ---------------------------------        9.0/10.6 MB 2.9 MB/s eta 0:00:01\n",
      "     ---------------------------------        9.0/10.6 MB 2.9 MB/s eta 0:00:01\n",
      "     ---------------------------------        9.0/10.6 MB 2.9 MB/s eta 0:00:01\n",
      "     ---------------------------------        9.0/10.6 MB 2.9 MB/s eta 0:00:01\n",
      "     ---------------------------------        9.0/10.6 MB 2.9 MB/s eta 0:00:01\n",
      "     ---------------------------------        9.0/10.6 MB 2.9 MB/s eta 0:00:01\n",
      "     ---------------------------------        9.0/10.6 MB 2.9 MB/s eta 0:00:01\n",
      "     ---------------------------------        9.0/10.6 MB 2.9 MB/s eta 0:00:01\n",
      "     ---------------------------------        9.0/10.6 MB 2.9 MB/s eta 0:00:01\n",
      "     ---------------------------------        9.0/10.6 MB 2.9 MB/s eta 0:00:01\n",
      "     ----------------------------------       9.1/10.6 MB 2.4 MB/s eta 0:00:01\n",
      "     -----------------------------------      9.5/10.6 MB 2.5 MB/s eta 0:00:01\n",
      "     -------------------------------------    10.0/10.6 MB 2.6 MB/s eta 0:00:01\n",
      "     ---------------------------------------  10.4/10.6 MB 2.6 MB/s eta 0:00:01\n",
      "     ---------------------------------------  10.6/10.6 MB 2.6 MB/s eta 0:00:01\n",
      "     ---------------------------------------  10.6/10.6 MB 2.6 MB/s eta 0:00:01\n",
      "     ---------------------------------------- 10.6/10.6 MB 2.6 MB/s eta 0:00:00\n",
      "Collecting numpy<2,>=1.23.2 (from pandas)\n",
      "  Downloading numpy-1.26.1-cp311-cp311-win_amd64.whl (15.8 MB)\n",
      "                                              0.0/15.8 MB ? eta -:--:--\n",
      "     -                                        0.5/15.8 MB 11.1 MB/s eta 0:00:02\n",
      "     --                                       1.0/15.8 MB 10.9 MB/s eta 0:00:02\n",
      "     ---                                      1.5/15.8 MB 10.8 MB/s eta 0:00:02\n",
      "     ---                                      1.6/15.8 MB 11.0 MB/s eta 0:00:02\n",
      "     ---                                      1.6/15.8 MB 11.0 MB/s eta 0:00:02\n",
      "     ---                                      1.6/15.8 MB 11.0 MB/s eta 0:00:02\n",
      "     ---                                      1.6/15.8 MB 11.0 MB/s eta 0:00:02\n",
      "     ---                                      1.6/15.8 MB 11.0 MB/s eta 0:00:02\n",
      "     -----                                    2.0/15.8 MB 4.8 MB/s eta 0:00:03\n",
      "     ------                                   2.4/15.8 MB 5.1 MB/s eta 0:00:03\n",
      "     -------                                  2.8/15.8 MB 5.4 MB/s eta 0:00:03\n",
      "     --------                                 3.2/15.8 MB 5.7 MB/s eta 0:00:03\n",
      "     --------                                 3.4/15.8 MB 5.7 MB/s eta 0:00:03\n",
      "     --------                                 3.4/15.8 MB 5.7 MB/s eta 0:00:03\n",
      "     --------                                 3.4/15.8 MB 5.7 MB/s eta 0:00:03\n",
      "     --------                                 3.4/15.8 MB 5.7 MB/s eta 0:00:03\n",
      "     --------                                 3.4/15.8 MB 5.7 MB/s eta 0:00:03\n",
      "     --------                                 3.4/15.8 MB 5.7 MB/s eta 0:00:03\n",
      "     --------                                 3.4/15.8 MB 5.7 MB/s eta 0:00:03\n",
      "     --------                                 3.4/15.8 MB 5.7 MB/s eta 0:00:03\n",
      "     --------                                 3.4/15.8 MB 5.7 MB/s eta 0:00:03\n",
      "     --------                                 3.4/15.8 MB 5.7 MB/s eta 0:00:03\n",
      "     --------                                 3.4/15.8 MB 5.7 MB/s eta 0:00:03\n",
      "     --------                                 3.4/15.8 MB 5.7 MB/s eta 0:00:03\n",
      "     --------                                 3.4/15.8 MB 5.7 MB/s eta 0:00:03\n",
      "     --------                                 3.4/15.8 MB 5.7 MB/s eta 0:00:03\n",
      "     ---------                                3.6/15.8 MB 2.8 MB/s eta 0:00:05\n",
      "     ----------                               4.0/15.8 MB 3.0 MB/s eta 0:00:04\n",
      "     ----------                               4.1/15.8 MB 3.0 MB/s eta 0:00:04\n",
      "     ------------                             4.8/15.8 MB 3.4 MB/s eta 0:00:04\n",
      "     -------------                            5.3/15.8 MB 3.6 MB/s eta 0:00:03\n",
      "     -------------                            5.3/15.8 MB 3.6 MB/s eta 0:00:03\n",
      "     -------------                            5.3/15.8 MB 3.6 MB/s eta 0:00:03\n",
      "     -------------                            5.3/15.8 MB 3.6 MB/s eta 0:00:03\n",
      "     -------------                            5.3/15.8 MB 3.6 MB/s eta 0:00:03\n",
      "     -------------                            5.3/15.8 MB 3.6 MB/s eta 0:00:03\n",
      "     -------------                            5.3/15.8 MB 3.6 MB/s eta 0:00:03\n",
      "     -------------                            5.3/15.8 MB 3.6 MB/s eta 0:00:03\n",
      "     -------------                            5.3/15.8 MB 3.6 MB/s eta 0:00:03\n",
      "     -------------                            5.3/15.8 MB 3.6 MB/s eta 0:00:03\n",
      "     -------------                            5.3/15.8 MB 3.6 MB/s eta 0:00:03\n",
      "     -------------                            5.3/15.8 MB 3.6 MB/s eta 0:00:03\n",
      "     -------------                            5.3/15.8 MB 3.6 MB/s eta 0:00:03\n",
      "     -------------                            5.3/15.8 MB 3.6 MB/s eta 0:00:03\n",
      "     -------------                            5.4/15.8 MB 2.5 MB/s eta 0:00:05\n",
      "     --------------                           5.7/15.8 MB 2.6 MB/s eta 0:00:04\n",
      "     ---------------                          6.2/15.8 MB 2.8 MB/s eta 0:00:04\n",
      "     ----------------                         6.6/15.8 MB 2.9 MB/s eta 0:00:04\n",
      "     -----------------                        7.1/15.8 MB 3.1 MB/s eta 0:00:03\n",
      "     -----------------                        7.1/15.8 MB 3.1 MB/s eta 0:00:03\n",
      "     -----------------                        7.1/15.8 MB 3.1 MB/s eta 0:00:03\n",
      "     -----------------                        7.1/15.8 MB 3.1 MB/s eta 0:00:03\n",
      "     -----------------                        7.1/15.8 MB 3.1 MB/s eta 0:00:03\n",
      "     -----------------                        7.1/15.8 MB 3.1 MB/s eta 0:00:03\n",
      "     -----------------                        7.1/15.8 MB 3.1 MB/s eta 0:00:03\n",
      "     -----------------                        7.1/15.8 MB 3.1 MB/s eta 0:00:03\n",
      "     -----------------                        7.1/15.8 MB 3.1 MB/s eta 0:00:03\n",
      "     -----------------                        7.1/15.8 MB 3.1 MB/s eta 0:00:03\n",
      "     -----------------                        7.1/15.8 MB 3.1 MB/s eta 0:00:03\n",
      "     -----------------                        7.1/15.8 MB 3.1 MB/s eta 0:00:03\n",
      "     -----------------                        7.1/15.8 MB 3.1 MB/s eta 0:00:03\n",
      "     -----------------                        7.1/15.8 MB 3.1 MB/s eta 0:00:03\n",
      "     ------------------                       7.2/15.8 MB 2.4 MB/s eta 0:00:04\n",
      "     -------------------                      7.6/15.8 MB 2.5 MB/s eta 0:00:04\n",
      "     --------------------                     7.9/15.8 MB 2.6 MB/s eta 0:00:04\n",
      "     --------------------                     8.3/15.8 MB 2.7 MB/s eta 0:00:03\n",
      "     ----------------------                   8.8/15.8 MB 2.8 MB/s eta 0:00:03\n",
      "     ----------------------                   8.9/15.8 MB 2.8 MB/s eta 0:00:03\n",
      "     ----------------------                   8.9/15.8 MB 2.8 MB/s eta 0:00:03\n",
      "     ----------------------                   8.9/15.8 MB 2.8 MB/s eta 0:00:03\n",
      "     ----------------------                   8.9/15.8 MB 2.8 MB/s eta 0:00:03\n",
      "     ----------------------                   8.9/15.8 MB 2.8 MB/s eta 0:00:03\n",
      "     ----------------------                   8.9/15.8 MB 2.8 MB/s eta 0:00:03\n",
      "     ----------------------                   8.9/15.8 MB 2.8 MB/s eta 0:00:03\n",
      "     ----------------------                   8.9/15.8 MB 2.8 MB/s eta 0:00:03\n",
      "     ----------------------                   8.9/15.8 MB 2.8 MB/s eta 0:00:03\n",
      "     ----------------------                   8.9/15.8 MB 2.8 MB/s eta 0:00:03\n",
      "     ----------------------                   8.9/15.8 MB 2.8 MB/s eta 0:00:03\n",
      "     ----------------------                   8.9/15.8 MB 2.8 MB/s eta 0:00:03\n",
      "     ----------------------                   8.9/15.8 MB 2.8 MB/s eta 0:00:03\n",
      "     ----------------------                   8.9/15.8 MB 2.8 MB/s eta 0:00:03\n",
      "     -----------------------                  9.1/15.8 MB 2.4 MB/s eta 0:00:03\n",
      "     -----------------------                  9.2/15.8 MB 2.3 MB/s eta 0:00:03\n",
      "     ------------------------                 9.6/15.8 MB 2.4 MB/s eta 0:00:03\n",
      "     -------------------------                10.0/15.8 MB 2.5 MB/s eta 0:00:03\n",
      "     --------------------------               10.5/15.8 MB 2.5 MB/s eta 0:00:03\n",
      "     ---------------------------              10.8/15.8 MB 2.5 MB/s eta 0:00:02\n",
      "     ---------------------------              10.8/15.8 MB 2.5 MB/s eta 0:00:02\n",
      "     ---------------------------              10.8/15.8 MB 2.5 MB/s eta 0:00:02\n",
      "     ---------------------------              10.8/15.8 MB 2.5 MB/s eta 0:00:02\n",
      "     ---------------------------              10.8/15.8 MB 2.5 MB/s eta 0:00:02\n",
      "     ---------------------------              10.8/15.8 MB 2.5 MB/s eta 0:00:02\n",
      "     ---------------------------              10.8/15.8 MB 2.5 MB/s eta 0:00:02\n",
      "     ---------------------------              10.8/15.8 MB 2.5 MB/s eta 0:00:02\n",
      "     ---------------------------              10.8/15.8 MB 2.5 MB/s eta 0:00:02\n",
      "     ---------------------------              10.8/15.8 MB 2.5 MB/s eta 0:00:02\n",
      "     ---------------------------              10.8/15.8 MB 2.5 MB/s eta 0:00:02\n",
      "     ---------------------------              10.8/15.8 MB 2.5 MB/s eta 0:00:02\n",
      "     ---------------------------              10.8/15.8 MB 2.5 MB/s eta 0:00:02\n",
      "     ---------------------------              10.8/15.8 MB 2.5 MB/s eta 0:00:02\n",
      "     ---------------------------              11.0/15.8 MB 2.2 MB/s eta 0:00:03\n",
      "     ----------------------------             11.4/15.8 MB 2.2 MB/s eta 0:00:03\n",
      "     ------------------------------           11.9/15.8 MB 2.3 MB/s eta 0:00:02\n",
      "     -------------------------------          12.3/15.8 MB 2.3 MB/s eta 0:00:02\n",
      "     --------------------------------         12.6/15.8 MB 2.3 MB/s eta 0:00:02\n",
      "     --------------------------------         12.6/15.8 MB 2.3 MB/s eta 0:00:02\n",
      "     --------------------------------         12.6/15.8 MB 2.3 MB/s eta 0:00:02\n",
      "     --------------------------------         12.6/15.8 MB 2.3 MB/s eta 0:00:02\n",
      "     --------------------------------         12.6/15.8 MB 2.3 MB/s eta 0:00:02\n",
      "     --------------------------------         12.6/15.8 MB 2.3 MB/s eta 0:00:02\n",
      "     --------------------------------         12.6/15.8 MB 2.3 MB/s eta 0:00:02\n",
      "     --------------------------------         12.6/15.8 MB 2.3 MB/s eta 0:00:02\n",
      "     --------------------------------         12.6/15.8 MB 2.3 MB/s eta 0:00:02\n",
      "     --------------------------------         12.6/15.8 MB 2.3 MB/s eta 0:00:02\n",
      "     --------------------------------         12.6/15.8 MB 2.3 MB/s eta 0:00:02\n",
      "     --------------------------------         12.6/15.8 MB 2.3 MB/s eta 0:00:02\n",
      "     --------------------------------         12.6/15.8 MB 2.3 MB/s eta 0:00:02\n",
      "     --------------------------------         12.6/15.8 MB 2.3 MB/s eta 0:00:02\n",
      "     --------------------------------         12.7/15.8 MB 2.0 MB/s eta 0:00:02\n",
      "     ---------------------------------        13.1/15.8 MB 2.0 MB/s eta 0:00:02\n",
      "     ----------------------------------       13.5/15.8 MB 2.0 MB/s eta 0:00:02\n",
      "     -----------------------------------      13.9/15.8 MB 2.3 MB/s eta 0:00:01\n",
      "     ------------------------------------     14.2/15.8 MB 2.3 MB/s eta 0:00:01\n",
      "     ------------------------------------     14.5/15.8 MB 2.3 MB/s eta 0:00:01\n",
      "     ------------------------------------     14.5/15.8 MB 2.3 MB/s eta 0:00:01\n",
      "     ------------------------------------     14.5/15.8 MB 2.3 MB/s eta 0:00:01\n",
      "     ------------------------------------     14.5/15.8 MB 2.3 MB/s eta 0:00:01\n",
      "     ------------------------------------     14.5/15.8 MB 2.3 MB/s eta 0:00:01\n",
      "     ------------------------------------     14.5/15.8 MB 2.3 MB/s eta 0:00:01\n",
      "     ------------------------------------     14.5/15.8 MB 2.3 MB/s eta 0:00:01\n",
      "     ------------------------------------     14.5/15.8 MB 2.3 MB/s eta 0:00:01\n",
      "     ------------------------------------     14.5/15.8 MB 2.3 MB/s eta 0:00:01\n",
      "     ------------------------------------     14.5/15.8 MB 2.3 MB/s eta 0:00:01\n",
      "     ------------------------------------     14.5/15.8 MB 2.3 MB/s eta 0:00:01\n",
      "     ------------------------------------     14.5/15.8 MB 2.3 MB/s eta 0:00:01\n",
      "     ------------------------------------     14.5/15.8 MB 2.3 MB/s eta 0:00:01\n",
      "     ------------------------------------     14.5/15.8 MB 2.3 MB/s eta 0:00:01\n",
      "     ------------------------------------     14.5/15.8 MB 2.0 MB/s eta 0:00:01\n",
      "     -------------------------------------    14.7/15.8 MB 2.0 MB/s eta 0:00:01\n",
      "     -------------------------------------    15.0/15.8 MB 2.0 MB/s eta 0:00:01\n",
      "     --------------------------------------   15.2/15.8 MB 2.0 MB/s eta 0:00:01\n",
      "     ---------------------------------------  15.7/15.8 MB 2.2 MB/s eta 0:00:01\n",
      "     ---------------------------------------  15.8/15.8 MB 2.2 MB/s eta 0:00:01\n",
      "     ---------------------------------------  15.8/15.8 MB 2.2 MB/s eta 0:00:01\n",
      "     ---------------------------------------  15.8/15.8 MB 2.2 MB/s eta 0:00:01\n",
      "     ---------------------------------------- 15.8/15.8 MB 2.2 MB/s eta 0:00:00\n",
      "Requirement already satisfied: python-dateutil>=2.8.2 in c:\\python311\\lib\\site-packages (from pandas) (2.8.2)\n",
      "Collecting pytz>=2020.1 (from pandas)\n",
      "  Downloading pytz-2023.3.post1-py2.py3-none-any.whl (502 kB)\n",
      "                                              0.0/502.5 kB ? eta -:--:--\n",
      "     ----------------------------          389.1/502.5 kB 12.2 MB/s eta 0:00:01\n",
      "     -------------------------------------- 502.5/502.5 kB 5.3 MB/s eta 0:00:00\n",
      "Collecting tzdata>=2022.1 (from pandas)\n",
      "  Using cached tzdata-2023.3-py2.py3-none-any.whl (341 kB)\n",
      "Requirement already satisfied: six>=1.5 in c:\\python311\\lib\\site-packages (from python-dateutil>=2.8.2->pandas) (1.16.0)\n",
      "Installing collected packages: pytz, tzdata, numpy, pandas\n",
      "Successfully installed numpy-1.26.1 pandas-2.1.2 pytz-2023.3.post1 tzdata-2023.3\n",
      "\n"
     ]
    },
    {
     "name": "stderr",
     "output_type": "stream",
     "text": [
      "\n",
      "[notice] A new release of pip is available: 23.1.2 -> 23.3.1\n",
      "[notice] To update, run: python.exe -m pip install --upgrade pip\n"
     ]
    }
   ],
   "source": [
    "pip install pandas"
   ]
  },
  {
   "cell_type": "code",
   "execution_count": 57,
   "metadata": {},
   "outputs": [],
   "source": [
    "import pandas as pd"
   ]
  },
  {
   "cell_type": "code",
   "execution_count": 60,
   "metadata": {},
   "outputs": [
    {
     "data": {
      "text/plain": [
       "150"
      ]
     },
     "execution_count": 60,
     "metadata": {},
     "output_type": "execute_result"
    }
   ],
   "source": [
    "# sum -- somar componentes (propriedade do pandas)\n",
    "data = {\n",
    "    'coluna 1': [10,20,30,40,50],\n",
    "    'coluna_2': [5, 10, 15, 20, 25],\n",
    "    'coluna 3': [\"a\", \"b\", \"c\", \"d\", \"e\"],\n",
    "    'coluna 4': ['x', 'y', 'z', 'w', 'v']\n",
    "}\n",
    "# cria uma tabela do pandas no estilo do exel\n",
    "df = pd.DataFrame(data)\n",
    "\n",
    "# inicia uma funcao para calcular a media\n",
    "# nomeia a funcao\n",
    "# coloca os parametros que será usado\n",
    "def soma_coluna(coluna):\n",
    "    # soma os componentes\n",
    "    return coluna.sum()\n",
    "resultado = soma_coluna(df['coluna 1'])\n",
    "resultado"
   ]
  },
  {
   "cell_type": "code",
   "execution_count": null,
   "metadata": {},
   "outputs": [],
   "source": [
    "# df.to_csv -- cria um arquivo no exel, e coloca os dados do df no arquivo\n",
    "# df -- nome da variavel que tem dos dados a incerrir\n",
    "# to -- cria um arquivo no computador\n",
    "# _csv -- informa o tipo do arquivo, no caso do exel\n",
    "df.to_csv(\"cria uma arquivo exel\")"
   ]
  },
  {
   "attachments": {},
   "cell_type": "markdown",
   "metadata": {},
   "source": [
    "problema 4 - usa o dataframe para somar a coluna 1 e 2, criando uma nova variavel"
   ]
  },
  {
   "cell_type": "code",
   "execution_count": 67,
   "metadata": {},
   "outputs": [
    {
     "ename": "ValueError",
     "evalue": "Length of values (1) does not match length of index (5)",
     "output_type": "error",
     "traceback": [
      "\u001b[1;31m---------------------------------------------------------------------------\u001b[0m",
      "\u001b[1;31mValueError\u001b[0m                                Traceback (most recent call last)",
      "Cell \u001b[1;32mIn[67], line 17\u001b[0m\n\u001b[0;32m     14\u001b[0m resultado \u001b[39m=\u001b[39m soma_coluna(df[\u001b[39m'\u001b[39m\u001b[39mcoluna 1\u001b[39m\u001b[39m'\u001b[39m] )\n\u001b[0;32m     15\u001b[0m colu\u001b[39m.\u001b[39mappend(resultado)\n\u001b[1;32m---> 17\u001b[0m df[\u001b[39m'\u001b[39;49m\u001b[39mcoluna 4\u001b[39;49m\u001b[39m'\u001b[39;49m] \u001b[39m=\u001b[39m colu\n\u001b[0;32m     19\u001b[0m \u001b[39mprint\u001b[39m(df)\n",
      "File \u001b[1;32mc:\\Python311\\Lib\\site-packages\\pandas\\core\\frame.py:4091\u001b[0m, in \u001b[0;36mDataFrame.__setitem__\u001b[1;34m(self, key, value)\u001b[0m\n\u001b[0;32m   4088\u001b[0m     \u001b[39mself\u001b[39m\u001b[39m.\u001b[39m_setitem_array([key], value)\n\u001b[0;32m   4089\u001b[0m \u001b[39melse\u001b[39;00m:\n\u001b[0;32m   4090\u001b[0m     \u001b[39m# set column\u001b[39;00m\n\u001b[1;32m-> 4091\u001b[0m     \u001b[39mself\u001b[39;49m\u001b[39m.\u001b[39;49m_set_item(key, value)\n",
      "File \u001b[1;32mc:\\Python311\\Lib\\site-packages\\pandas\\core\\frame.py:4300\u001b[0m, in \u001b[0;36mDataFrame._set_item\u001b[1;34m(self, key, value)\u001b[0m\n\u001b[0;32m   4290\u001b[0m \u001b[39mdef\u001b[39;00m \u001b[39m_set_item\u001b[39m(\u001b[39mself\u001b[39m, key, value) \u001b[39m-\u001b[39m\u001b[39m>\u001b[39m \u001b[39mNone\u001b[39;00m:\n\u001b[0;32m   4291\u001b[0m \u001b[39m    \u001b[39m\u001b[39m\"\"\"\u001b[39;00m\n\u001b[0;32m   4292\u001b[0m \u001b[39m    Add series to DataFrame in specified column.\u001b[39;00m\n\u001b[0;32m   4293\u001b[0m \n\u001b[1;32m   (...)\u001b[0m\n\u001b[0;32m   4298\u001b[0m \u001b[39m    ensure homogeneity.\u001b[39;00m\n\u001b[0;32m   4299\u001b[0m \u001b[39m    \"\"\"\u001b[39;00m\n\u001b[1;32m-> 4300\u001b[0m     value, refs \u001b[39m=\u001b[39m \u001b[39mself\u001b[39;49m\u001b[39m.\u001b[39;49m_sanitize_column(value)\n\u001b[0;32m   4302\u001b[0m     \u001b[39mif\u001b[39;00m (\n\u001b[0;32m   4303\u001b[0m         key \u001b[39min\u001b[39;00m \u001b[39mself\u001b[39m\u001b[39m.\u001b[39mcolumns\n\u001b[0;32m   4304\u001b[0m         \u001b[39mand\u001b[39;00m value\u001b[39m.\u001b[39mndim \u001b[39m==\u001b[39m \u001b[39m1\u001b[39m\n\u001b[0;32m   4305\u001b[0m         \u001b[39mand\u001b[39;00m \u001b[39mnot\u001b[39;00m \u001b[39misinstance\u001b[39m(value\u001b[39m.\u001b[39mdtype, ExtensionDtype)\n\u001b[0;32m   4306\u001b[0m     ):\n\u001b[0;32m   4307\u001b[0m         \u001b[39m# broadcast across multiple columns if necessary\u001b[39;00m\n\u001b[0;32m   4308\u001b[0m         \u001b[39mif\u001b[39;00m \u001b[39mnot\u001b[39;00m \u001b[39mself\u001b[39m\u001b[39m.\u001b[39mcolumns\u001b[39m.\u001b[39mis_unique \u001b[39mor\u001b[39;00m \u001b[39misinstance\u001b[39m(\u001b[39mself\u001b[39m\u001b[39m.\u001b[39mcolumns, MultiIndex):\n",
      "File \u001b[1;32mc:\\Python311\\Lib\\site-packages\\pandas\\core\\frame.py:5039\u001b[0m, in \u001b[0;36mDataFrame._sanitize_column\u001b[1;34m(self, value)\u001b[0m\n\u001b[0;32m   5036\u001b[0m     \u001b[39mreturn\u001b[39;00m _reindex_for_setitem(value, \u001b[39mself\u001b[39m\u001b[39m.\u001b[39mindex)\n\u001b[0;32m   5038\u001b[0m \u001b[39mif\u001b[39;00m is_list_like(value):\n\u001b[1;32m-> 5039\u001b[0m     com\u001b[39m.\u001b[39;49mrequire_length_match(value, \u001b[39mself\u001b[39;49m\u001b[39m.\u001b[39;49mindex)\n\u001b[0;32m   5040\u001b[0m \u001b[39mreturn\u001b[39;00m sanitize_array(value, \u001b[39mself\u001b[39m\u001b[39m.\u001b[39mindex, copy\u001b[39m=\u001b[39m\u001b[39mTrue\u001b[39;00m, allow_2d\u001b[39m=\u001b[39m\u001b[39mTrue\u001b[39;00m), \u001b[39mNone\u001b[39;00m\n",
      "File \u001b[1;32mc:\\Python311\\Lib\\site-packages\\pandas\\core\\common.py:561\u001b[0m, in \u001b[0;36mrequire_length_match\u001b[1;34m(data, index)\u001b[0m\n\u001b[0;32m    557\u001b[0m \u001b[39m\u001b[39m\u001b[39m\"\"\"\u001b[39;00m\n\u001b[0;32m    558\u001b[0m \u001b[39mCheck the length of data matches the length of the index.\u001b[39;00m\n\u001b[0;32m    559\u001b[0m \u001b[39m\"\"\"\u001b[39;00m\n\u001b[0;32m    560\u001b[0m \u001b[39mif\u001b[39;00m \u001b[39mlen\u001b[39m(data) \u001b[39m!=\u001b[39m \u001b[39mlen\u001b[39m(index):\n\u001b[1;32m--> 561\u001b[0m     \u001b[39mraise\u001b[39;00m \u001b[39mValueError\u001b[39;00m(\n\u001b[0;32m    562\u001b[0m         \u001b[39m\"\u001b[39m\u001b[39mLength of values \u001b[39m\u001b[39m\"\u001b[39m\n\u001b[0;32m    563\u001b[0m         \u001b[39mf\u001b[39m\u001b[39m\"\u001b[39m\u001b[39m(\u001b[39m\u001b[39m{\u001b[39;00m\u001b[39mlen\u001b[39m(data)\u001b[39m}\u001b[39;00m\u001b[39m) \u001b[39m\u001b[39m\"\u001b[39m\n\u001b[0;32m    564\u001b[0m         \u001b[39m\"\u001b[39m\u001b[39mdoes not match length of index \u001b[39m\u001b[39m\"\u001b[39m\n\u001b[0;32m    565\u001b[0m         \u001b[39mf\u001b[39m\u001b[39m\"\u001b[39m\u001b[39m(\u001b[39m\u001b[39m{\u001b[39;00m\u001b[39mlen\u001b[39m(index)\u001b[39m}\u001b[39;00m\u001b[39m)\u001b[39m\u001b[39m\"\u001b[39m\n\u001b[0;32m    566\u001b[0m     )\n",
      "\u001b[1;31mValueError\u001b[0m: Length of values (1) does not match length of index (5)"
     ]
    }
   ],
   "source": [
    "data = {\n",
    "    'coluna 1': [10,20,30,40,50],\n",
    "    'coluna 2': [5, 10, 15, 20, 25],\n",
    "    'coluna 3': [\"a\", \"b\", \"c\", \"d\", \"e\"],\n",
    "    'coluna 4': ['x', 'y', 'z', 'w', 'v']\n",
    "}\n",
    "colu = []\n",
    "\n",
    "df = pd.DataFrame(data)\n",
    "\n",
    "def soma_coluna(coluna):\n",
    "    return coluna.sum()\n",
    "\n",
    "resultado = soma_coluna(df['coluna 1'] )\n",
    "colu.append(resultado)\n",
    "\n",
    "df['coluna 4'] = colu\n",
    "\n",
    "print(df)"
   ]
  },
  {
   "cell_type": "code",
   "execution_count": 91,
   "metadata": {},
   "outputs": [
    {
     "data": {
      "text/html": [
       "<div>\n",
       "<style scoped>\n",
       "    .dataframe tbody tr th:only-of-type {\n",
       "        vertical-align: middle;\n",
       "    }\n",
       "\n",
       "    .dataframe tbody tr th {\n",
       "        vertical-align: top;\n",
       "    }\n",
       "\n",
       "    .dataframe thead th {\n",
       "        text-align: right;\n",
       "    }\n",
       "</style>\n",
       "<table border=\"1\" class=\"dataframe\">\n",
       "  <thead>\n",
       "    <tr style=\"text-align: right;\">\n",
       "      <th></th>\n",
       "      <th>coluna 1</th>\n",
       "      <th>coluna 2</th>\n",
       "      <th>coluna 3</th>\n",
       "      <th>coluna 4</th>\n",
       "      <th>soma</th>\n",
       "    </tr>\n",
       "  </thead>\n",
       "  <tbody>\n",
       "    <tr>\n",
       "      <th>0</th>\n",
       "      <td>10</td>\n",
       "      <td>5</td>\n",
       "      <td>a</td>\n",
       "      <td>x</td>\n",
       "      <td>15</td>\n",
       "    </tr>\n",
       "    <tr>\n",
       "      <th>1</th>\n",
       "      <td>20</td>\n",
       "      <td>10</td>\n",
       "      <td>b</td>\n",
       "      <td>y</td>\n",
       "      <td>30</td>\n",
       "    </tr>\n",
       "    <tr>\n",
       "      <th>2</th>\n",
       "      <td>30</td>\n",
       "      <td>15</td>\n",
       "      <td>c</td>\n",
       "      <td>z</td>\n",
       "      <td>45</td>\n",
       "    </tr>\n",
       "    <tr>\n",
       "      <th>3</th>\n",
       "      <td>40</td>\n",
       "      <td>20</td>\n",
       "      <td>d</td>\n",
       "      <td>w</td>\n",
       "      <td>60</td>\n",
       "    </tr>\n",
       "    <tr>\n",
       "      <th>4</th>\n",
       "      <td>50</td>\n",
       "      <td>25</td>\n",
       "      <td>e</td>\n",
       "      <td>v</td>\n",
       "      <td>75</td>\n",
       "    </tr>\n",
       "  </tbody>\n",
       "</table>\n",
       "</div>"
      ],
      "text/plain": [
       "   coluna 1  coluna 2 coluna 3 coluna 4  soma\n",
       "0        10         5        a        x    15\n",
       "1        20        10        b        y    30\n",
       "2        30        15        c        z    45\n",
       "3        40        20        d        w    60\n",
       "4        50        25        e        v    75"
      ]
     },
     "execution_count": 91,
     "metadata": {},
     "output_type": "execute_result"
    }
   ],
   "source": [
    "data = {\n",
    "    'coluna 1': [10,20,30,40,50],\n",
    "    'coluna 2': [5, 10, 15, 20, 25],\n",
    "    'coluna 3': [\"a\", \"b\", \"c\", \"d\", \"e\"],\n",
    "    'coluna 4': ['x', 'y', 'z', 'w', 'v']\n",
    "}\n",
    "colu = []\n",
    "\n",
    "df = pd.DataFrame(data)\n",
    "\n",
    "\n",
    "def soma_coluna(df):\n",
    "\n",
    "    for _ in range(len(df)):\n",
    "        df['soma'] = df['coluna 1'] + df['coluna 2']\n",
    "        \n",
    "        colu.append(df['soma'])\n",
    "\n",
    "    return df\n",
    "\n",
    "soma_coluna(df)"
   ]
  },
  {
   "cell_type": "code",
   "execution_count": 85,
   "metadata": {},
   "outputs": [
    {
     "name": "stdout",
     "output_type": "stream",
     "text": [
      "15\n"
     ]
    }
   ],
   "source": [
    "q = df['coluna 1'][i] + df['coluna 2'][i]\n",
    "\n",
    "print(q)"
   ]
  },
  {
   "cell_type": "code",
   "execution_count": 75,
   "metadata": {},
   "outputs": [
    {
     "data": {
      "text/html": [
       "<div>\n",
       "<style scoped>\n",
       "    .dataframe tbody tr th:only-of-type {\n",
       "        vertical-align: middle;\n",
       "    }\n",
       "\n",
       "    .dataframe tbody tr th {\n",
       "        vertical-align: top;\n",
       "    }\n",
       "\n",
       "    .dataframe thead th {\n",
       "        text-align: right;\n",
       "    }\n",
       "</style>\n",
       "<table border=\"1\" class=\"dataframe\">\n",
       "  <thead>\n",
       "    <tr style=\"text-align: right;\">\n",
       "      <th></th>\n",
       "      <th>coluna 1</th>\n",
       "      <th>coluna 2</th>\n",
       "      <th>coluna 3</th>\n",
       "      <th>coluna 4</th>\n",
       "      <th>soma</th>\n",
       "    </tr>\n",
       "  </thead>\n",
       "  <tbody>\n",
       "    <tr>\n",
       "      <th>0</th>\n",
       "      <td>10</td>\n",
       "      <td>5</td>\n",
       "      <td>a</td>\n",
       "      <td>x</td>\n",
       "      <td>15</td>\n",
       "    </tr>\n",
       "    <tr>\n",
       "      <th>1</th>\n",
       "      <td>20</td>\n",
       "      <td>10</td>\n",
       "      <td>b</td>\n",
       "      <td>y</td>\n",
       "      <td>30</td>\n",
       "    </tr>\n",
       "    <tr>\n",
       "      <th>2</th>\n",
       "      <td>30</td>\n",
       "      <td>15</td>\n",
       "      <td>c</td>\n",
       "      <td>z</td>\n",
       "      <td>45</td>\n",
       "    </tr>\n",
       "    <tr>\n",
       "      <th>3</th>\n",
       "      <td>40</td>\n",
       "      <td>20</td>\n",
       "      <td>d</td>\n",
       "      <td>w</td>\n",
       "      <td>60</td>\n",
       "    </tr>\n",
       "    <tr>\n",
       "      <th>4</th>\n",
       "      <td>50</td>\n",
       "      <td>25</td>\n",
       "      <td>e</td>\n",
       "      <td>v</td>\n",
       "      <td>75</td>\n",
       "    </tr>\n",
       "  </tbody>\n",
       "</table>\n",
       "</div>"
      ],
      "text/plain": [
       "   coluna 1  coluna 2 coluna 3 coluna 4  soma\n",
       "0        10         5        a        x    15\n",
       "1        20        10        b        y    30\n",
       "2        30        15        c        z    45\n",
       "3        40        20        d        w    60\n",
       "4        50        25        e        v    75"
      ]
     },
     "execution_count": 75,
     "metadata": {},
     "output_type": "execute_result"
    }
   ],
   "source": [
    "data = {\n",
    "    'coluna 1': [10,20,30,40,50],\n",
    "    'coluna 2': [5, 10, 15, 20, 25],\n",
    "    'coluna 3': [\"a\", \"b\", \"c\", \"d\", \"e\"],\n",
    "    'coluna 4': ['x', 'y', 'z', 'w', 'v']\n",
    "}\n",
    "colu = []\n",
    "\n",
    "df = pd.DataFrame(data)\n",
    "\n",
    "def soma_coluna(df):\n",
    "    df['soma'] = df['coluna 1'] + df['coluna 2']\n",
    "    return df\n",
    "\n",
    "soma_coluna(df)\n",
    "\n"
   ]
  },
  {
   "cell_type": "code",
   "execution_count": null,
   "metadata": {},
   "outputs": [],
   "source": []
  }
 ],
 "metadata": {
  "kernelspec": {
   "display_name": "Python 3",
   "language": "python",
   "name": "python3"
  },
  "language_info": {
   "codemirror_mode": {
    "name": "ipython",
    "version": 3
   },
   "file_extension": ".py",
   "mimetype": "text/x-python",
   "name": "python",
   "nbconvert_exporter": "python",
   "pygments_lexer": "ipython3",
   "version": "3.11.4"
  },
  "orig_nbformat": 4
 },
 "nbformat": 4,
 "nbformat_minor": 2
}
