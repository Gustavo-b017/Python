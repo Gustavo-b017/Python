{
 "cells": [
  {
   "attachments": {},
   "cell_type": "markdown",
   "metadata": {},
   "source": [
    "Relembrando o for"
   ]
  },
  {
   "cell_type": "code",
   "execution_count": 7,
   "metadata": {},
   "outputs": [
    {
     "ename": "SyntaxError",
     "evalue": "invalid syntax. Maybe you meant '==' or ':=' instead of '='? (3405163115.py, line 6)",
     "output_type": "error",
     "traceback": [
      "\u001b[1;36m  Cell \u001b[1;32mIn[7], line 6\u001b[1;36m\u001b[0m\n\u001b[1;33m    if x = y:\u001b[0m\n\u001b[1;37m       ^\u001b[0m\n\u001b[1;31mSyntaxError\u001b[0m\u001b[1;31m:\u001b[0m invalid syntax. Maybe you meant '==' or ':=' instead of '='?\n"
     ]
    }
   ],
   "source": [
    "lista1 = [1, 2, 3]\n",
    "lista2 = [2, 2, 4]\n",
    "\n",
    "for x in lista1:\n",
    "    for y in lista2:\n",
    "        if x = y:\n",
    "            continue\n",
    "            print(\"\")\n"
   ]
  },
  {
   "cell_type": "code",
   "execution_count": 20,
   "metadata": {},
   "outputs": [
    {
     "name": "stdout",
     "output_type": "stream",
     "text": [
      "1\n",
      "2\n",
      "3\n",
      "2\n",
      "4\n",
      "6\n",
      "3\n",
      "6\n",
      "9\n"
     ]
    }
   ],
   "source": [
    "for x in range(1, 4):\n",
    "    for y in range(1, 4):\n",
    "        print(x*y)\n",
    "    "
   ]
  },
  {
   "cell_type": "code",
   "execution_count": 11,
   "metadata": {},
   "outputs": [
    {
     "name": "stdout",
     "output_type": "stream",
     "text": [
      "2\n",
      "3\n",
      "6\n",
      "4\n",
      "8\n",
      "12\n"
     ]
    }
   ],
   "source": [
    "# ele ira fazer 2 lista, uma de [2, 3, 4] e outra de [1, 2, 3, 4, 5, 6, 7, 8, 9, 10]\n",
    "# esse codico fara uma conta de: 2 x 1 // 3 x 1 // 3 x 2 // 4 x1 // 4 x 2 // 4 x 3\n",
    "\n",
    "for i in range(2, 5):\n",
    "    for j in range(1, 11):\n",
    "        if i == j:\n",
    "            break\n",
    "        print(i*j)"
   ]
  },
  {
   "attachments": {},
   "cell_type": "markdown",
   "metadata": {},
   "source": [
    "Relembrando o uso do min:"
   ]
  },
  {
   "cell_type": "code",
   "execution_count": 12,
   "metadata": {},
   "outputs": [
    {
     "data": {
      "text/plain": [
       "10"
      ]
     },
     "execution_count": 12,
     "metadata": {},
     "output_type": "execute_result"
    }
   ],
   "source": [
    "# percorre a lista e verifica qual e o menor numero\n",
    "numeros = [10, 11, 15, 18, 20]\n",
    "min = min(numeros)\n",
    "min"
   ]
  },
  {
   "attachments": {},
   "cell_type": "markdown",
   "metadata": {},
   "source": [
    "Relembrando o uso do max"
   ]
  },
  {
   "cell_type": "code",
   "execution_count": 13,
   "metadata": {},
   "outputs": [
    {
     "data": {
      "text/plain": [
       "20"
      ]
     },
     "execution_count": 13,
     "metadata": {},
     "output_type": "execute_result"
    }
   ],
   "source": [
    "# le a lista e verifica qual e o maior numero\n",
    "numeros = [10, 11, 15, 18, 20]\n",
    "max = max(numeros)\n",
    "max"
   ]
  },
  {
   "attachments": {},
   "cell_type": "markdown",
   "metadata": {},
   "source": [
    "Calculando a media e mediana, importando uma biblioteca"
   ]
  },
  {
   "cell_type": "code",
   "execution_count": 15,
   "metadata": {},
   "outputs": [
    {
     "name": "stdout",
     "output_type": "stream",
     "text": [
      "o valor da media será 14.8\n",
      "o valor da meidiana será 15\n"
     ]
    }
   ],
   "source": [
    "from statistics import mean, median\n",
    "\n",
    "numeros = [10, 11, 15, 18, 20]\n",
    "\n",
    "media = mean(numeros)\n",
    "mediana = median(numeros)\n",
    "\n",
    "print(f\"o valor da media será {media}\")\n",
    "print(f\"o valor da meidiana será {mediana}\")"
   ]
  },
  {
   "attachments": {},
   "cell_type": "markdown",
   "metadata": {},
   "source": [
    "Relembrando o que o len:\n"
   ]
  },
  {
   "cell_type": "code",
   "execution_count": 16,
   "metadata": {},
   "outputs": [
    {
     "data": {
      "text/plain": [
       "5"
      ]
     },
     "execution_count": 16,
     "metadata": {},
     "output_type": "execute_result"
    }
   ],
   "source": [
    "numeros = [10, 11, 15, 18, 20]\n",
    "\n",
    "# o len conta quantos termos tem na lista\n",
    "len(numeros)\n",
    "\n",
    "# o len conta quantos termos tem, e se usado com o for ira ate o ultimo termo\n",
    "# range parte de um ponto ate outro, criando valores"
   ]
  },
  {
   "attachments": {},
   "cell_type": "markdown",
   "metadata": {},
   "source": [
    "lista de repeticacao pulando casas"
   ]
  },
  {
   "cell_type": "code",
   "execution_count": 18,
   "metadata": {},
   "outputs": [
    {
     "name": "stdout",
     "output_type": "stream",
     "text": [
      "1\n",
      "3\n",
      "5\n",
      "7\n",
      "9\n"
     ]
    }
   ],
   "source": [
    "# 1° termo da o inicio\n",
    "# 2° termo da qte onde a lista de repeticao ira repetir\n",
    "# 3° termo e de quantas em quantas casas o ira repetir, no caso o resutado sera: 1, 3, 5, 7, 9\n",
    "for i in range(1, 10, 2):\n",
    "    print(i)"
   ]
  },
  {
   "attachments": {},
   "cell_type": "markdown",
   "metadata": {},
   "source": [
    "Relembrando o sum:"
   ]
  },
  {
   "cell_type": "code",
   "execution_count": 19,
   "metadata": {},
   "outputs": [
    {
     "name": "stdout",
     "output_type": "stream",
     "text": [
      "74\n"
     ]
    }
   ],
   "source": [
    "numeros = [10, 11, 15, 18, 20]\n",
    "\n",
    "soma = sum(numeros)\n",
    "print(soma)\n"
   ]
  },
  {
   "attachments": {},
   "cell_type": "markdown",
   "metadata": {},
   "source": []
  },
  {
   "cell_type": "code",
   "execution_count": 21,
   "metadata": {},
   "outputs": [
    {
     "name": "stdout",
     "output_type": "stream",
     "text": [
      "-54\n",
      "74\n"
     ]
    }
   ],
   "source": [
    "from functools import reduce\n",
    "from operator import sub, add\n",
    "\n",
    "numeros = [10, 11, 15, 18, 20]\n",
    "\n",
    "[-1, 15, 18, 20]\n",
    "[-16, 18, 20]\n",
    "\n",
    "resultado1 = reduce(sub, numeros)\n",
    "resultado2 = reduce(add, numeros)\n",
    "\n",
    "print(resultado1)\n",
    "print(resultado2)\n"
   ]
  },
  {
   "attachments": {},
   "cell_type": "markdown",
   "metadata": {},
   "source": [
    "somando termos de string usando o for"
   ]
  },
  {
   "cell_type": "code",
   "execution_count": 22,
   "metadata": {},
   "outputs": [
    {
     "name": "stdout",
     "output_type": "stream",
     "text": [
      "a1\n",
      "a2\n",
      "a3\n",
      "b1\n",
      "b2\n",
      "b3\n",
      "c1\n",
      "c2\n",
      "c3\n"
     ]
    }
   ],
   "source": [
    "# percorre as stings e saoma todos os termos, como a1, a2, a3 ... c3\n",
    "for letra in \"abc\":\n",
    "    for numeros in \"123\":\n",
    "        print(letra + numeros)"
   ]
  },
  {
   "attachments": {},
   "cell_type": "markdown",
   "metadata": {},
   "source": []
  },
  {
   "cell_type": "code",
   "execution_count": null,
   "metadata": {},
   "outputs": [],
   "source": [
    "soma = 0 \n",
    "for x  in [1, 2, 3, 4 ]:\n",
    "    if x == 2:\n",
    "        continue\n",
    "    soma += x\n",
    "    print(soma)"
   ]
  },
  {
   "attachments": {},
   "cell_type": "markdown",
   "metadata": {},
   "source": [
    "problema 1- calcular a nota do aluno"
   ]
  },
  {
   "cell_type": "code",
   "execution_count": 3,
   "metadata": {},
   "outputs": [
    {
     "name": "stdout",
     "output_type": "stream",
     "text": [
      "[('a', 2.25), ('b', 1.6), ('c', 1.3), ('d', 2.6999999999999997)]\n"
     ]
    }
   ],
   "source": [
    "notas = [7.5, 8, 6.5, 9]\n",
    "peso = [0.3, 0.2, 0.2, 0.3]\n",
    "alunos = [\"a\", \"b\", \"c\", \"d\"]\n",
    "\n",
    "media = [x * y  for x, y in zip(notas, peso)] \n",
    "alme = list(zip(alunos, media))\n",
    "print(alme)\n"
   ]
  },
  {
   "cell_type": "code",
   "execution_count": 12,
   "metadata": {},
   "outputs": [
    {
     "name": "stdout",
     "output_type": "stream",
     "text": [
      "2.25\n",
      "1.6\n",
      "1.3\n",
      "2.6999999999999997\n"
     ]
    },
    {
     "ename": "TypeError",
     "evalue": "'list' object cannot be interpreted as an integer",
     "output_type": "error",
     "traceback": [
      "\u001b[1;31m---------------------------------------------------------------------------\u001b[0m",
      "\u001b[1;31mTypeError\u001b[0m                                 Traceback (most recent call last)",
      "Cell \u001b[1;32mIn[12], line 15\u001b[0m\n\u001b[0;32m     11\u001b[0m \u001b[39m# para criar um dicionario (cria)\u001b[39;00m\n\u001b[0;32m     12\u001b[0m \u001b[39m# o range so funciona com numeros, poremo len n diferencia\u001b[39;00m\n\u001b[0;32m     13\u001b[0m resultado_final \u001b[39m=\u001b[39m {}\n\u001b[1;32m---> 15\u001b[0m \u001b[39mfor\u001b[39;00m x \u001b[39min\u001b[39;00m \u001b[39mrange\u001b[39;49m(alunos):\n\u001b[0;32m     16\u001b[0m     resultado_final[alunos[x]] \u001b[39m=\u001b[39m resultado [x]\n\u001b[0;32m     17\u001b[0m     \u001b[39mprint\u001b[39m(resultado_final)\n",
      "\u001b[1;31mTypeError\u001b[0m: 'list' object cannot be interpreted as an integer"
     ]
    }
   ],
   "source": [
    "notas = [7.5, 8, 6.5, 9]\n",
    "peso = [0.3, 0.2, 0.2, 0.3]\n",
    "alunos = [\"a\", \"b\", \"c\", \"d\"]\n",
    "\n",
    "list = []\n",
    "\n",
    "for x in range(len(notas)):\n",
    "    resultado = notas [x] * peso [x]\n",
    "    print(resultado)\n",
    "\n",
    "# para criar um dicionario (cria)\n",
    "# o range so funciona com numeros, poremo len n diferencia\n",
    "resultado_final = {}\n",
    "\n",
    "for x in range(alunos):\n",
    "    resultado_final[alunos[x]] = resultado [x]\n",
    "    print(resultado_final)"
   ]
  }
 ],
 "metadata": {
  "kernelspec": {
   "display_name": "Python 3",
   "language": "python",
   "name": "python3"
  },
  "language_info": {
   "codemirror_mode": {
    "name": "ipython",
    "version": 3
   },
   "file_extension": ".py",
   "mimetype": "text/x-python",
   "name": "python",
   "nbconvert_exporter": "python",
   "pygments_lexer": "ipython3",
   "version": "3.11.4"
  },
  "orig_nbformat": 4
 },
 "nbformat": 4,
 "nbformat_minor": 2
}
