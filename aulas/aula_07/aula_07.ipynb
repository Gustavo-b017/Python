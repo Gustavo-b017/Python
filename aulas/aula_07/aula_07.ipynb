{
 "cells": [
  {
   "attachments": {},
   "cell_type": "markdown",
   "metadata": {},
   "source": [
    "# # Aula - 07 - listas\n"
   ]
  },
  {
   "attachments": {},
   "cell_type": "markdown",
   "metadata": {},
   "source": [
    "exemplo - 1"
   ]
  },
  {
   "cell_type": "code",
   "execution_count": 1,
   "metadata": {},
   "outputs": [
    {
     "name": "stdout",
     "output_type": "stream",
     "text": [
      "[1, 2, 3, 4, 5, 6]\n"
     ]
    }
   ],
   "source": [
    "# exemplo 1\n",
    "lista1 = [1,2,3]\n",
    "lista2 = [4,5,6]\n",
    "\n",
    "soma = lista1 + lista2\n",
    "print(soma)\n",
    "\n"
   ]
  },
  {
   "cell_type": "code",
   "execution_count": 2,
   "metadata": {},
   "outputs": [
    {
     "name": "stdout",
     "output_type": "stream",
     "text": [
      "[1, 2, 3, 4, 5, 6, 7, 8, 9]\n"
     ]
    }
   ],
   "source": [
    "lista1 = [1,2,3]\n",
    "lista2 = [4,5,6]\n",
    "lista3 = [7,8,9]\n",
    "\n",
    "soma = lista1 + lista2 + lista3\n",
    "print(soma)\n"
   ]
  },
  {
   "attachments": {},
   "cell_type": "markdown",
   "metadata": {},
   "source": [
    "exemplo - 2"
   ]
  },
  {
   "cell_type": "code",
   "execution_count": 2,
   "metadata": {},
   "outputs": [
    {
     "name": "stdout",
     "output_type": "stream",
     "text": [
      "[5, 7, 9]\n"
     ]
    }
   ],
   "source": [
    "# exemplo 2\n",
    "\n",
    "lista1 = [1,2,3]\n",
    "lista2 = [4,5,6]\n",
    "\n",
    "# faz combinacoes das listas; 1 + 4 = 5; 2 + 5 = 7; 3 + 6 = 9;\n",
    "# a + b - soma os valores das listas\n",
    "# # for - percorre o que tem em a e b\n",
    "# zip - permite combinar os valores das listas\n",
    "combine = [a + b for a, b in zip(lista1, lista2)]\n",
    "print(combine) \n",
    "\n"
   ]
  },
  {
   "attachments": {},
   "cell_type": "markdown",
   "metadata": {},
   "source": [
    "exemplo - 3\n"
   ]
  },
  {
   "cell_type": "code",
   "execution_count": 4,
   "metadata": {},
   "outputs": [
    {
     "name": "stdout",
     "output_type": "stream",
     "text": [
      "{('BMW', 300), ('volvo', 180), ('Mitsubishi', 120), ('honda', 134)}\n"
     ]
    }
   ],
   "source": [
    "# exemplo 3\n",
    "carro = ['Mitsubishi', 'honda', 'volvo', 'BMW']\n",
    "potencia = [120, 134, 180, 300]\n",
    "\n",
    "# set - permite combinar string com numero; \n",
    "combine = set(zip(carro, potencia))\n",
    "print(combine)"
   ]
  },
  {
   "attachments": {},
   "cell_type": "markdown",
   "metadata": {},
   "source": [
    "exemplo - 4"
   ]
  },
  {
   "cell_type": "code",
   "execution_count": 6,
   "metadata": {},
   "outputs": [
    {
     "name": "stdout",
     "output_type": "stream",
     "text": [
      "0 Messi 36\n",
      "1 Zidane 51\n",
      "2 Ronaldo Fenomeno 47\n"
     ]
    }
   ],
   "source": [
    "# exemplo 4\n",
    "\n",
    "nomes = ['Messi', 'Zidane', 'Ronaldo Fenomeno']\n",
    "idades = [36, 51, 47]\n",
    "\n",
    "# enumerate - enumera a quantidade de termos na lista (comecando de 0)\n",
    "# i - irei iterar sobre nomes e idades\n",
    "for i, (nome, idade) in enumerate(zip(nomes, idades)):\n",
    "    print(i, nome, idade)\n"
   ]
  },
  {
   "attachments": {},
   "cell_type": "markdown",
   "metadata": {},
   "source": [
    "exemplo - 5"
   ]
  },
  {
   "cell_type": "code",
   "execution_count": 11,
   "metadata": {},
   "outputs": [
    {
     "name": "stdout",
     "output_type": "stream",
     "text": [
      "[(1, 'a', 'viado'), (2, 'b', 'passaro'), (3, 'c', 'anta')]\n"
     ]
    }
   ],
   "source": [
    "# exemplo 5\n",
    "\n",
    "lista1 = [1, 2, 3]\n",
    "lista2 = ['a', 'b', 'c']\n",
    "lista3 = ['viado', 'passaro', 'anta']\n",
    "\n",
    "combine = list(zip(lista1, lista2, lista3))\n",
    "print(combine)\n",
    "\n",
    "\n",
    "\n"
   ]
  },
  {
   "attachments": {},
   "cell_type": "markdown",
   "metadata": {},
   "source": [
    "exemplo - 6"
   ]
  },
  {
   "cell_type": "code",
   "execution_count": 3,
   "metadata": {},
   "outputs": [
    {
     "name": "stdout",
     "output_type": "stream",
     "text": [
      "[(2, 'b'), (4, 'd')]\n"
     ]
    }
   ],
   "source": [
    "lista1 = [1, 2, 3, 4, 5 ]\n",
    "lista2 = ['a', 'b' , 'c', 'd', 'e']\n",
    "combine = [(a, b) for a, b in zip(lista1, lista2) if a %2 == 0]\n",
    "\n",
    "# b for - ira percorrer a lista e trara so a lista 2, no caso b\n",
    "# for a, b - percorrera a lista 1 e 2, nomeados de a e b\n",
    "# zip - junta a lista 1 e 2\n",
    "# if a %2 == 0 - tras uma condicao para se algum numero em 'a' for divisivel por 2, ira printar as letras respectivas em b\n",
    "\n",
    "print(combine)"
   ]
  },
  {
   "cell_type": "code",
   "execution_count": 1,
   "metadata": {},
   "outputs": [
    {
     "name": "stdout",
     "output_type": "stream",
     "text": [
      "[(3, 'c'), (4, 'd'), (5, 'e')]\n"
     ]
    }
   ],
   "source": [
    "lista1 = [1, 2, 3, 4, 5 ]\n",
    "lista2 = ['a', 'b' , 'c', 'd', 'e']\n",
    "combine = [(a, b) for a, b in zip(lista1, lista2) if a >= 3]\n",
    "\n",
    "# b for - ira percorrer a lista e trara so a lista 2, no caso b\n",
    "# for a, b - percorrera a lista 1 e 2, nomeados de a e b\n",
    "# zip - junta a lista 1 e 2\n",
    "# if a %2 == 0 - tras uma condicao para se algum numero em 'a' for divisivel por 2, ira printar as letras respectivas em b\n",
    "\n",
    "print(combine)"
   ]
  },
  {
   "attachments": {},
   "cell_type": "markdown",
   "metadata": {},
   "source": [
    "# problemas"
   ]
  },
  {
   "attachments": {},
   "cell_type": "markdown",
   "metadata": {},
   "source": [
    "problema 1"
   ]
  },
  {
   "cell_type": "code",
   "execution_count": 41,
   "metadata": {},
   "outputs": [
    {
     "name": "stdout",
     "output_type": "stream",
     "text": [
      "lista impar [9, 7, 13, 21, 25]\n",
      "lista par[8, 12, 0]\n"
     ]
    }
   ],
   "source": [
    "lista1 = [9, 8, 7, 12, 0, 13, 21, 25]\n",
    "listap = []\n",
    "listai = []\n",
    "\n",
    "for i in lista1:\n",
    "    if i %2 != 0:\n",
    "        listai.append(i)\n",
    "    else:\n",
    "        listap.append(i)\n",
    "print(f\"lista impar {listai}\")\n",
    "print(f'lista par{listap}')\n",
    "    \n",
    "\n",
    "\n"
   ]
  },
  {
   "attachments": {},
   "cell_type": "markdown",
   "metadata": {},
   "source": [
    "problema 2"
   ]
  },
  {
   "cell_type": "code",
   "execution_count": 46,
   "metadata": {},
   "outputs": [
    {
     "name": "stdout",
     "output_type": "stream",
     "text": [
      "[('joao', 45, 'diabetes'), ('pedro', 30, 'diabetes')]\n"
     ]
    }
   ],
   "source": [
    "pacientes = ['joao', 'maria', 'pedro', 'ana']\n",
    "idade = [45, 60, 30, 50]\n",
    "condicao = ['diabetes', 'hipertensao', 'diabetes', 'asma']\n",
    "\n",
    "dia = [ (p, i, c) for p, i, c in zip(pacientes, idade, condicao) if c == \"diabetes\"]\n",
    "print(dia)"
   ]
  },
  {
   "attachments": {},
   "cell_type": "markdown",
   "metadata": {},
   "source": [
    "problema - 3\n",
    "\n"
   ]
  },
  {
   "cell_type": "code",
   "execution_count": 49,
   "metadata": {},
   "outputs": [
    {
     "name": "stdout",
     "output_type": "stream",
     "text": [
      "[(1, 10), (2, 20), (3, 30), (4, 100), (5, 100)]\n"
     ]
    }
   ],
   "source": [
    "lista1 = [1, 2, 3, 4, 5]\n",
    "lista2 = [10, 20, 30]\n",
    "\n",
    "# biblioteca que serve para verificar o comprimento da lista e preencher os valores que faltam na lista que menor\n",
    "from itertools import zip_longest\n",
    "\n",
    "# zip-longest - da permissao para colocar valores na lista menor\n",
    "# fillvalue - \n",
    "combine = list(zip_longest(lista1, lista2, fillvalue = 100))\n",
    "print(combine)"
   ]
  },
  {
   "attachments": {},
   "cell_type": "markdown",
   "metadata": {},
   "source": [
    "problema - 4"
   ]
  },
  {
   "cell_type": "code",
   "execution_count": 53,
   "metadata": {},
   "outputs": [
    {
     "name": "stdout",
     "output_type": "stream",
     "text": [
      "['o preco da banana é: 25.0', 'o preco da laranja é: 6.0', 'o preco da uva é: 6', 'o preco da maça é: 6', 'o preco da pera é: 27.0']\n"
     ]
    }
   ],
   "source": [
    "precos = [2.50, 1.20, 3, 2, 4.50]\n",
    "quantidades = [10, 5 ,2, 3, 6]\n",
    "frutas = ['banana', 'laranja', 'uva', 'maça', 'pera']\n",
    "\n",
    "combine = [(f'o preco da {f} é: {p * q}') for p, q, f in zip(precos, quantidades, frutas)]\n",
    "print (combine)\n",
    "\n",
    "\n"
   ]
  }
 ],
 "metadata": {
  "kernelspec": {
   "display_name": "Python 3",
   "language": "python",
   "name": "python3"
  },
  "language_info": {
   "codemirror_mode": {
    "name": "ipython",
    "version": 3
   },
   "file_extension": ".py",
   "mimetype": "text/x-python",
   "name": "python",
   "nbconvert_exporter": "python",
   "pygments_lexer": "ipython3",
   "version": "3.11.6"
  },
  "orig_nbformat": 4
 },
 "nbformat": 4,
 "nbformat_minor": 2
}
