{
 "cells": [
  {
   "cell_type": "code",
   "execution_count": null,
   "metadata": {},
   "outputs": [],
   "source": [
    "# nomeia a funcao e informa os argumentos (variaveis que compoem a funcao) \n",
    "# chama uma funcao\n",
    "def\n",
    "\n",
    "# traz o valor final da funcao\n",
    "return"
   ]
  },
  {
   "cell_type": "code",
   "execution_count": 3,
   "metadata": {},
   "outputs": [],
   "source": [
    "# def -- cria uma funcao\n",
    "# nome -- o nome que quiser para chamar a funcao mais de uma vez pelo codigo (de preferencia um nome que tenha a ver com o que a funcao realiza)\n",
    "# (a, b) -- o valor da funcao, suas variaveis, o que sera substituido pelo valor mais tarde\n",
    "def nome (a,b):\n",
    "    # cria uma variavel onde ira receber o valor da operacao com as variaveis da funcao ja definidas\n",
    "    soma = a + b\n",
    "    mult = a * b\n",
    "    # return -- traz o valor resultante da operacao que foi realizado na funcao   \n",
    "    # soma -- o valor que quer ser apresentado\n",
    "    return soma, mult"
   ]
  },
  {
   "cell_type": "code",
   "execution_count": 15,
   "metadata": {},
   "outputs": [
    {
     "name": "stdout",
     "output_type": "stream",
     "text": [
      "a valor da soma é (15, 26)\n"
     ]
    }
   ],
   "source": [
    "# nome -- chama a funcao criada anteriormente\n",
    "# (1, 2) -- substitui os valores na ordem em que as variaveis aparecem na funcao nome (2, 10)\n",
    "nome(2, 9)\n"
   ]
  },
  {
   "cell_type": "code",
   "execution_count": 19,
   "metadata": {},
   "outputs": [
    {
     "data": {
      "text/plain": [
       "64.0"
      ]
     },
     "execution_count": 19,
     "metadata": {},
     "output_type": "execute_result"
    }
   ],
   "source": [
    "# def -- cria a funcao \n",
    "# nomei a a funcao\n",
    "# adiciona qual sera a variavel que ira realizar a funcao\n",
    "# realiza as operacoes \n",
    "# retorna o valor\n",
    "def area_quadrado (lado):\n",
    "    area = lado**2\n",
    "    return area\n",
    "\n",
    "# solicita os dados do usuario\n",
    "lado = float(input(\"qual vai ser o lado do quadrado, meu nobre?\"))\n",
    "# chama a funcao e printa o resultado (tem que ser o nome das variaveis que definiu)\n",
    "area_quadrado(lado)"
   ]
  },
  {
   "cell_type": "code",
   "execution_count": 24,
   "metadata": {},
   "outputs": [
    {
     "name": "stdout",
     "output_type": "stream",
     "text": [
      "True\n",
      "False\n",
      "True\n"
     ]
    }
   ],
   "source": [
    "def par (x):\n",
    "    return x % 2 == 0\n",
    "\n",
    "print(par(2))\n",
    "print(par(3))\n",
    "print(par(10))\n"
   ]
  },
  {
   "cell_type": "code",
   "execution_count": 31,
   "metadata": {},
   "outputs": [
    {
     "name": "stdout",
     "output_type": "stream",
     "text": [
      "Falso 7\n"
     ]
    },
    {
     "data": {
      "text/plain": [
       "7"
      ]
     },
     "execution_count": 31,
     "metadata": {},
     "output_type": "execute_result"
    }
   ],
   "source": [
    "def soma (a, b , imprime = False):\n",
    "    s = a + b\n",
    "    if imprime:\n",
    "        print(f\"Falso {s}\")\n",
    "    return s\n",
    "soma(3, 4, True)"
   ]
  },
  {
   "cell_type": "code",
   "execution_count": 34,
   "metadata": {},
   "outputs": [
    {
     "name": "stdout",
     "output_type": "stream",
     "text": [
      "ola, Mundo!\n",
      "ola, Mundo!\n",
      "python é daora\n",
      "python é daora\n",
      "python é daora\n",
      "python é daora\n"
     ]
    }
   ],
   "source": [
    "def exibir_mensagem (mensagem, vezes=2):\n",
    "    for i in range(vezes):\n",
    "        print(mensagem)\n",
    "\n",
    "exibir_mensagem(\"ola, Mundo!\")\n",
    "exibir_mensagem(\"python é daora\", 4)"
   ]
  },
  {
   "cell_type": "code",
   "execution_count": 37,
   "metadata": {},
   "outputs": [
    {
     "name": "stdout",
     "output_type": "stream",
     "text": [
      "par\n",
      "impar\n",
      "par\n",
      "par\n",
      "impar\n"
     ]
    }
   ],
   "source": [
    "def par(x):\n",
    "    return x %2 == 0\n",
    "def par_impar (x):\n",
    "    if par(x):\n",
    "        return \"par\"\n",
    "    else:\n",
    "        return \"impar\"\n",
    "    \n",
    "print(par_impar(4))\n",
    "print(par_impar(5))\n",
    "print(par_impar(14))\n",
    "print(par_impar(6756))\n",
    "print(par_impar(1))"
   ]
  },
  {
   "cell_type": "code",
   "execution_count": 44,
   "metadata": {},
   "outputs": [
    {
     "name": "stdout",
     "output_type": "stream",
     "text": [
      "0\n",
      "2\n"
     ]
    }
   ],
   "source": [
    "def pesquise (lista, valor):\n",
    "    for x, i in enumerate(lista):\n",
    "        if i == valor:\n",
    "            return x \n",
    "    # None -- vazio, nao retorna nenhum valor\n",
    "    return None\n",
    "\n",
    "L = [10, 20, 25, 30]\n",
    "\n",
    "print(pesquise(L, 10))\n",
    "print(pesquise(L, 25))"
   ]
  },
  {
   "cell_type": "code",
   "execution_count": 1,
   "metadata": {},
   "outputs": [
    {
     "name": "stdout",
     "output_type": "stream",
     "text": [
      "2.5\n"
     ]
    }
   ],
   "source": [
    "L = [10, 20, 25, 30]\n",
    "\n",
    "def soma (L):\n",
    "    total = 0 \n",
    "    for i in L:\n",
    "        total += i\n",
    "        return total\n",
    "def media(L):\n",
    "    return soma(L) / len(L)\n",
    "\n",
    "print(media(L))"
   ]
  }
 ],
 "metadata": {
  "kernelspec": {
   "display_name": "Python 3",
   "language": "python",
   "name": "python3"
  },
  "language_info": {
   "codemirror_mode": {
    "name": "ipython",
    "version": 3
   },
   "file_extension": ".py",
   "mimetype": "text/x-python",
   "name": "python",
   "nbconvert_exporter": "python",
   "pygments_lexer": "ipython3",
   "version": "3.11.4"
  },
  "orig_nbformat": 4
 },
 "nbformat": 4,
 "nbformat_minor": 2
}
