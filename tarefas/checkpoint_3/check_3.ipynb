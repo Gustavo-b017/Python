{
 "cells": [
  {
   "cell_type": "code",
   "execution_count": null,
   "metadata": {},
   "outputs": [],
   "source": [
    "import pandas as pd\n",
    " \n",
    "data = {\n",
    "    'nome': ['gustavo', 'cleitin', 'joresvaldo', 'jundai', 'jefozo'],\n",
    "    'coluna 2': [17, 20, 18, 27, 30],\n",
    "    'telefone': ['(65)5267-6524', '(51)6265-5448', '(55)3232-5515', \"(26)6491-9485\", \"(52)6548-4491\"],\n",
    "    'coluna 4': ['x', 'y', 'z', 'w', 'v']\n",
    "}"
   ]
  },
  {
   "cell_type": "markdown",
   "metadata": {},
   "source": [
    "\n",
    "Crie um programa para ajudar a gerenciar as consultas em um hospital. O programa deve permitir que os funcionários do hospital cadastrem novos pacientes, agendem consultas, cancelem consultas e visualizem a lista de consultas para um determinado dia.\n",
    "\n",
    "O programa deve incluir funções como:\n",
    "\n",
    "- Cadastro de pacientes com informações básicas (nome, idade, número de telefone).\n",
    "- Agendamento de consultas com data e hora.\n",
    "- Verificação de disponibilidade para agendar uma nova consulta.\n",
    "- Cancelamento de consultas.\n",
    "- Visualização da lista de consultas para um dia específico.\n",
    "\n",
    "Além disso, você deve criar um algoritmo com funções, em especial, função def.\n",
    "Utilize estruturas inputs para usuários, estrutura de repetição e condição"
   ]
  }
 ],
 "metadata": {
  "language_info": {
   "name": "python"
  }
 },
 "nbformat": 4,
 "nbformat_minor": 2
}
