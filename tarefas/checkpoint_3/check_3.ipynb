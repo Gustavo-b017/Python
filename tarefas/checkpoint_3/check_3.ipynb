{
 "cells": [
  {
   "cell_type": "code",
   "execution_count": 2,
   "metadata": {},
   "outputs": [
    {
     "name": "stdout",
     "output_type": "stream",
     "text": [
      "Requirement already satisfied: pandas in c:\\users\\gustavo\\appdata\\local\\packages\\pythonsoftwarefoundation.python.3.11_qbz5n2kfra8p0\\localcache\\local-packages\\python311\\site-packages (2.1.2)\n",
      "Requirement already satisfied: numpy<2,>=1.23.2 in c:\\users\\gustavo\\appdata\\local\\packages\\pythonsoftwarefoundation.python.3.11_qbz5n2kfra8p0\\localcache\\local-packages\\python311\\site-packages (from pandas) (1.26.1)\n",
      "Requirement already satisfied: python-dateutil>=2.8.2 in c:\\users\\gustavo\\appdata\\local\\packages\\pythonsoftwarefoundation.python.3.11_qbz5n2kfra8p0\\localcache\\local-packages\\python311\\site-packages (from pandas) (2.8.2)\n",
      "Requirement already satisfied: pytz>=2020.1 in c:\\users\\gustavo\\appdata\\local\\packages\\pythonsoftwarefoundation.python.3.11_qbz5n2kfra8p0\\localcache\\local-packages\\python311\\site-packages (from pandas) (2023.3.post1)\n",
      "Requirement already satisfied: tzdata>=2022.1 in c:\\users\\gustavo\\appdata\\local\\packages\\pythonsoftwarefoundation.python.3.11_qbz5n2kfra8p0\\localcache\\local-packages\\python311\\site-packages (from pandas) (2023.3)\n",
      "Requirement already satisfied: six>=1.5 in c:\\users\\gustavo\\appdata\\local\\packages\\pythonsoftwarefoundation.python.3.11_qbz5n2kfra8p0\\localcache\\local-packages\\python311\\site-packages (from python-dateutil>=2.8.2->pandas) (1.16.0)\n",
      "Note: you may need to restart the kernel to use updated packages.\n"
     ]
    },
    {
     "name": "stderr",
     "output_type": "stream",
     "text": [
      "\n",
      "[notice] A new release of pip is available: 23.2.1 -> 23.3.1\n",
      "[notice] To update, run: C:\\Users\\Gustavo\\AppData\\Local\\Microsoft\\WindowsApps\\PythonSoftwareFoundation.Python.3.11_qbz5n2kfra8p0\\python.exe -m pip install --upgrade pip\n"
     ]
    }
   ],
   "source": [
    "pip install pandas\n"
   ]
  },
  {
   "cell_type": "code",
   "execution_count": 3,
   "metadata": {},
   "outputs": [],
   "source": [
    "import pandas as pd"
   ]
  },
  {
   "cell_type": "markdown",
   "metadata": {},
   "source": [
    "\n",
    "Crie um programa para ajudar a gerenciar as consultas em um hospital. O programa deve permitir que os funcionários do hospital cadastrem novos pacientes, agendem consultas, cancelem consultas e visualizem a lista de consultas para um determinado dia.\n",
    "\n",
    "O programa deve incluir funções como:\n",
    "\n",
    "- Cadastro de pacientes com informações básicas (nome, idade, número de telefone).\n",
    "- Agendamento de consultas com data e hora.\n",
    "- Verificação de disponibilidade para agendar uma nova consulta.\n",
    "- Cancelamento de consultas.\n",
    "- Visualização da lista de consultas para um dia específico.\n",
    "\n",
    "Além disso, você deve criar um algoritmo com funções, em especial, função def.\n",
    "Utilize estruturas inputs para usuários, estrutura de repetição e condição"
   ]
  },
  {
   "cell_type": "code",
   "execution_count": 3,
   "metadata": {},
   "outputs": [
    {
     "ename": "UnboundLocalError",
     "evalue": "cannot access local variable 'combine' where it is not associated with a value",
     "output_type": "error",
     "traceback": [
      "\u001b[1;31m---------------------------------------------------------------------------\u001b[0m",
      "\u001b[1;31mUnboundLocalError\u001b[0m                         Traceback (most recent call last)",
      "\u001b[1;32mc:\\Users\\Gustavo\\Documents\\repositorios\\Python\\tarefas\\checkpoint_3\\check_3.ipynb Célula 4\u001b[0m line \u001b[0;36m6\n\u001b[0;32m     <a href='vscode-notebook-cell:/c%3A/Users/Gustavo/Documents/repositorios/Python/tarefas/checkpoint_3/check_3.ipynb#W3sZmlsZQ%3D%3D?line=56'>57</a>\u001b[0m     df[\u001b[39m'\u001b[39m\u001b[39magendamento\u001b[39m\u001b[39m'\u001b[39m] \u001b[39m=\u001b[39m combine\n\u001b[0;32m     <a href='vscode-notebook-cell:/c%3A/Users/Gustavo/Documents/repositorios/Python/tarefas/checkpoint_3/check_3.ipynb#W3sZmlsZQ%3D%3D?line=58'>59</a>\u001b[0m     \u001b[39mreturn\u001b[39;00m df\n\u001b[1;32m---> <a href='vscode-notebook-cell:/c%3A/Users/Gustavo/Documents/repositorios/Python/tarefas/checkpoint_3/check_3.ipynb#W3sZmlsZQ%3D%3D?line=60'>61</a>\u001b[0m pacientes_novos(df)\n",
      "\u001b[1;32mc:\\Users\\Gustavo\\Documents\\repositorios\\Python\\tarefas\\checkpoint_3\\check_3.ipynb Célula 4\u001b[0m line \u001b[0;36m4\n\u001b[0;32m     <a href='vscode-notebook-cell:/c%3A/Users/Gustavo/Documents/repositorios/Python/tarefas/checkpoint_3/check_3.ipynb#W3sZmlsZQ%3D%3D?line=42'>43</a>\u001b[0m         telefone_lista\u001b[39m.\u001b[39mappend(\u001b[39mNone\u001b[39;00m)     \n\u001b[0;32m     <a href='vscode-notebook-cell:/c%3A/Users/Gustavo/Documents/repositorios/Python/tarefas/checkpoint_3/check_3.ipynb#W3sZmlsZQ%3D%3D?line=44'>45</a>\u001b[0m \u001b[39m#     if dia + hora == combine:\u001b[39;00m\n\u001b[0;32m     <a href='vscode-notebook-cell:/c%3A/Users/Gustavo/Documents/repositorios/Python/tarefas/checkpoint_3/check_3.ipynb#W3sZmlsZQ%3D%3D?line=45'>46</a>\u001b[0m \u001b[39m#         df['agendamento']\u001b[39;00m\n\u001b[0;32m     <a href='vscode-notebook-cell:/c%3A/Users/Gustavo/Documents/repositorios/Python/tarefas/checkpoint_3/check_3.ipynb#W3sZmlsZQ%3D%3D?line=46'>47</a>\u001b[0m \u001b[39m#     else: \u001b[39;00m\n\u001b[0;32m     <a href='vscode-notebook-cell:/c%3A/Users/Gustavo/Documents/repositorios/Python/tarefas/checkpoint_3/check_3.ipynb#W3sZmlsZQ%3D%3D?line=47'>48</a>\u001b[0m \u001b[39m#         combine.append(data + hora)\u001b[39;00m\n\u001b[1;32m---> <a href='vscode-notebook-cell:/c%3A/Users/Gustavo/Documents/repositorios/Python/tarefas/checkpoint_3/check_3.ipynb#W3sZmlsZQ%3D%3D?line=48'>49</a>\u001b[0m     combine\u001b[39m.\u001b[39mappend(dia \u001b[39m+\u001b[39m hora)\n\u001b[0;32m     <a href='vscode-notebook-cell:/c%3A/Users/Gustavo/Documents/repositorios/Python/tarefas/checkpoint_3/check_3.ipynb#W3sZmlsZQ%3D%3D?line=49'>50</a>\u001b[0m combine \u001b[39m=\u001b[39m [\u001b[39mf\u001b[39m\u001b[39m'\u001b[39m\u001b[39mmarcado para \u001b[39m\u001b[39m{\u001b[39;00ma\u001b[39m}\u001b[39;00m\u001b[39m as \u001b[39m\u001b[39m{\u001b[39;00mb\u001b[39m}\u001b[39;00m\u001b[39m horas\u001b[39m\u001b[39m'\u001b[39m \u001b[39mfor\u001b[39;00m a, b \u001b[39min\u001b[39;00m \u001b[39mzip\u001b[39m(dia_lista, hora_lista)]    \n\u001b[0;32m     <a href='vscode-notebook-cell:/c%3A/Users/Gustavo/Documents/repositorios/Python/tarefas/checkpoint_3/check_3.ipynb#W3sZmlsZQ%3D%3D?line=53'>54</a>\u001b[0m df[\u001b[39m'\u001b[39m\u001b[39mNovos pacientes\u001b[39m\u001b[39m'\u001b[39m] \u001b[39m=\u001b[39m nomes_lista\n",
      "\u001b[1;31mUnboundLocalError\u001b[0m: cannot access local variable 'combine' where it is not associated with a value"
     ]
    }
   ],
   "source": [
    "import pandas as pd\n",
    " \n",
    "data = {\n",
    "    'nome': ['gustavo', 'cleitin', 'joresvaldo', 'jundai', 'jefozo'],\n",
    "    'idade': [17, 20, 18, 27, 30],\n",
    "    'telefone': ['(65)5267-6524', '(51)6265-5448', '(55)3232-5515', \"(26)6491-9485\", \"(52)6548-4491\"],\n",
    "}\n",
    "\n",
    "df = pd.DataFrame(data)\n",
    "# new_nome = input(\"qual e o nome?\")\n",
    "idades_lista = []\n",
    "nomes_lista = []\n",
    "telefone_lista = []\n",
    "combine =[]\n",
    "\n",
    "dia_lista = [\"quinta\", \"segunda\", \"terca\", \"sexta\", \"quarta\"]\n",
    "hora_lista = ['12', '8', '15', '17', '3',]\n",
    "\n",
    "# combine.append([ a + b for a, b in zip(dia_lista, hora_lista)])\n",
    "\n",
    "def pacientes_novos(df):\n",
    "    for i in range(len(df)):\n",
    "        new_nome = input(\"qual e o nome?\")\n",
    "        new_idade = input(\"qual e a idade?\")\n",
    "        new_telefone = input(\"qual e o telefone?\")\n",
    "        dia = input(\"quando vai ser?\")\n",
    "        hora = input(\"que horas vai ser?\")\n",
    "        \n",
    "        if df['nome'][i] != new_nome:\n",
    "            nomes_lista.append(new_nome)\n",
    "            \n",
    "            if df['idade'][i] != new_idade:\n",
    "                idades_lista.append(new_idade)\n",
    "            else:\n",
    "                idades_lista.append(None)\n",
    "        else:\n",
    "            nomes_lista.append(None)\n",
    "        \n",
    "            \n",
    "        if df['telefone'][i] != new_telefone:\n",
    "            telefone_lista.append(new_telefone)\n",
    "        else:\n",
    "            telefone_lista.append(None)     \n",
    "        \n",
    "    #     if dia + hora == combine:\n",
    "    #         df['agendamento']\n",
    "    #     else: \n",
    "    #         combine.append(data + hora)\n",
    "    combine = [f'marcado para {a} as {b} horas' for a, b in zip(dia_lista, hora_lista)]    \n",
    "            \n",
    "        \n",
    " \n",
    "    df['Novos pacientes'] = nomes_lista\n",
    "    df['novas idades'] = idades_lista\n",
    "    df['Novos telefones'] = telefone_lista\n",
    "    df['agendamento'] = combine\n",
    "    \n",
    "    return df\n",
    " \n",
    "pacientes_novos(df)\n",
    "\n",
    "\n"
   ]
  },
  {
   "cell_type": "code",
   "execution_count": 1,
   "metadata": {},
   "outputs": [
    {
     "ename": "KeyboardInterrupt",
     "evalue": "",
     "output_type": "error",
     "traceback": [
      "\u001b[1;31m---------------------------------------------------------------------------\u001b[0m",
      "\u001b[1;31mKeyboardInterrupt\u001b[0m                         Traceback (most recent call last)",
      "\u001b[1;32mc:\\Users\\Gustavo\\Documents\\repositorios\\Python\\tarefas\\checkpoint_3\\check_3.ipynb Célula 5\u001b[0m line \u001b[0;36m1\n\u001b[0;32m     <a href='vscode-notebook-cell:/c%3A/Users/Gustavo/Documents/repositorios/Python/tarefas/checkpoint_3/check_3.ipynb#W4sZmlsZQ%3D%3D?line=13'>14</a>\u001b[0m     \u001b[39melse\u001b[39;00m: \n\u001b[0;32m     <a href='vscode-notebook-cell:/c%3A/Users/Gustavo/Documents/repositorios/Python/tarefas/checkpoint_3/check_3.ipynb#W4sZmlsZQ%3D%3D?line=14'>15</a>\u001b[0m         juncao \u001b[39m=\u001b[39m dia \u001b[39m+\u001b[39m hora\n\u001b[1;32m---> <a href='vscode-notebook-cell:/c%3A/Users/Gustavo/Documents/repositorios/Python/tarefas/checkpoint_3/check_3.ipynb#W4sZmlsZQ%3D%3D?line=15'>16</a>\u001b[0m         combine\u001b[39m.\u001b[39mappend(juncao)\n\u001b[0;32m     <a href='vscode-notebook-cell:/c%3A/Users/Gustavo/Documents/repositorios/Python/tarefas/checkpoint_3/check_3.ipynb#W4sZmlsZQ%3D%3D?line=17'>18</a>\u001b[0m combine \u001b[39m=\u001b[39m [\u001b[39mf\u001b[39m\u001b[39m'\u001b[39m\u001b[39mmarcado para \u001b[39m\u001b[39m{\u001b[39;00ma\u001b[39m}\u001b[39;00m\u001b[39m as \u001b[39m\u001b[39m{\u001b[39;00mb\u001b[39m}\u001b[39;00m\u001b[39m horas\u001b[39m\u001b[39m'\u001b[39m \u001b[39mfor\u001b[39;00m a, b \u001b[39min\u001b[39;00m \u001b[39mzip\u001b[39m(dia_lista, hora_lista)]\n\u001b[0;32m     <a href='vscode-notebook-cell:/c%3A/Users/Gustavo/Documents/repositorios/Python/tarefas/checkpoint_3/check_3.ipynb#W4sZmlsZQ%3D%3D?line=19'>20</a>\u001b[0m combine\n",
      "\u001b[1;31mKeyboardInterrupt\u001b[0m: "
     ]
    }
   ],
   "source": [
    "# teste- nao rodar, pois esta com bugs e demora para rodar\n",
    "\n",
    "combine =[]\n",
    "\n",
    "dia_lista = [\"quinta\", \"segunda\", \"terca\", \"sexta\", \"quarta\"]\n",
    "hora_lista = ['12', '8', '15', '17', '3',]\n",
    "\n",
    "combine.append([ a + b for a, b in zip(dia_lista, hora_lista)])\n",
    "\n",
    "dia = input(\"quando vai ser?\")\n",
    "hora = input(\"que horas vai ser?\")\n",
    "\n",
    "for _ in combine:      \n",
    "    if dia + hora == combine:\n",
    "        combine.append(\"horario ocupado\")\n",
    "    else: \n",
    "        juncao = dia + hora\n",
    "        combine.append(juncao)\n",
    "\n",
    "combine = [f'marcado para {a} as {b} horas' for a, b in zip(dia_lista, hora_lista)]\n",
    "\n",
    "combine"
   ]
  },
  {
   "cell_type": "code",
   "execution_count": 93,
   "metadata": {},
   "outputs": [
    {
     "data": {
      "text/plain": [
       "'se34'"
      ]
     },
     "execution_count": 93,
     "metadata": {},
     "output_type": "execute_result"
    }
   ],
   "source": [
    "dia = input(\"quando vai ser?\")\n",
    "hora = input(\"que horas vai ser?\")\n",
    "\n",
    "com = dia + hora\n",
    "\n",
    "com"
   ]
  }
 ],
 "metadata": {
  "kernelspec": {
   "display_name": "Python 3",
   "language": "python",
   "name": "python3"
  },
  "language_info": {
   "codemirror_mode": {
    "name": "ipython",
    "version": 3
   },
   "file_extension": ".py",
   "mimetype": "text/x-python",
   "name": "python",
   "nbconvert_exporter": "python",
   "pygments_lexer": "ipython3",
   "version": "3.11.6"
  }
 },
 "nbformat": 4,
 "nbformat_minor": 2
}
