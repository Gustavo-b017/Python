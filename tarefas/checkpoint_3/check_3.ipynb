{
 "cells": [
  {
   "cell_type": "code",
   "execution_count": 2,
   "metadata": {},
   "outputs": [
    {
     "name": "stdout",
     "output_type": "stream",
     "text": [
      "Requirement already satisfied: pandas in c:\\users\\gustavo\\appdata\\local\\packages\\pythonsoftwarefoundation.python.3.11_qbz5n2kfra8p0\\localcache\\local-packages\\python311\\site-packages (2.1.2)\n",
      "Requirement already satisfied: numpy<2,>=1.23.2 in c:\\users\\gustavo\\appdata\\local\\packages\\pythonsoftwarefoundation.python.3.11_qbz5n2kfra8p0\\localcache\\local-packages\\python311\\site-packages (from pandas) (1.26.1)\n",
      "Requirement already satisfied: python-dateutil>=2.8.2 in c:\\users\\gustavo\\appdata\\local\\packages\\pythonsoftwarefoundation.python.3.11_qbz5n2kfra8p0\\localcache\\local-packages\\python311\\site-packages (from pandas) (2.8.2)\n",
      "Requirement already satisfied: pytz>=2020.1 in c:\\users\\gustavo\\appdata\\local\\packages\\pythonsoftwarefoundation.python.3.11_qbz5n2kfra8p0\\localcache\\local-packages\\python311\\site-packages (from pandas) (2023.3.post1)\n",
      "Requirement already satisfied: tzdata>=2022.1 in c:\\users\\gustavo\\appdata\\local\\packages\\pythonsoftwarefoundation.python.3.11_qbz5n2kfra8p0\\localcache\\local-packages\\python311\\site-packages (from pandas) (2023.3)\n",
      "Requirement already satisfied: six>=1.5 in c:\\users\\gustavo\\appdata\\local\\packages\\pythonsoftwarefoundation.python.3.11_qbz5n2kfra8p0\\localcache\\local-packages\\python311\\site-packages (from python-dateutil>=2.8.2->pandas) (1.16.0)\n",
      "Note: you may need to restart the kernel to use updated packages.\n"
     ]
    },
    {
     "name": "stderr",
     "output_type": "stream",
     "text": [
      "\n",
      "[notice] A new release of pip is available: 23.2.1 -> 23.3.1\n",
      "[notice] To update, run: C:\\Users\\Gustavo\\AppData\\Local\\Microsoft\\WindowsApps\\PythonSoftwareFoundation.Python.3.11_qbz5n2kfra8p0\\python.exe -m pip install --upgrade pip\n"
     ]
    }
   ],
   "source": [
    "pip install pandas\n"
   ]
  },
  {
   "cell_type": "code",
   "execution_count": 3,
   "metadata": {},
   "outputs": [],
   "source": [
    "import pandas as pd"
   ]
  },
  {
   "cell_type": "markdown",
   "metadata": {},
   "source": [
    "\n",
    "Crie um programa para ajudar a gerenciar as consultas em um hospital. O programa deve permitir que os funcionários do hospital cadastrem novos pacientes, agendem consultas, cancelem consultas e visualizem a lista de consultas para um determinado dia.\n",
    "\n",
    "O programa deve incluir funções como:\n",
    "\n",
    "- Cadastro de pacientes com informações básicas (nome, idade, número de telefone).\n",
    "- Agendamento de consultas com data e hora.\n",
    "- Verificação de disponibilidade para agendar uma nova consulta.\n",
    "- Cancelamento de consultas.\n",
    "- Visualização da lista de consultas para um dia específico.\n",
    "\n",
    "Além disso, você deve criar um algoritmo com funções, em especial, função def.\n",
    "Utilize estruturas inputs para usuários, estrutura de repetição e condição"
   ]
  },
  {
   "cell_type": "code",
   "execution_count": 23,
   "metadata": {},
   "outputs": [
    {
     "ename": "KeyError",
     "evalue": "'nome'",
     "output_type": "error",
     "traceback": [
      "\u001b[1;31m---------------------------------------------------------------------------\u001b[0m",
      "\u001b[1;31mKeyError\u001b[0m                                  Traceback (most recent call last)",
      "\u001b[1;32mc:\\Users\\Gustavo\\Documents\\repositorios\\Python\\tarefas\\checkpoint_3\\check_3.ipynb Célula 4\u001b[0m line \u001b[0;36m6\n\u001b[0;32m     <a href='vscode-notebook-cell:/c%3A/Users/Gustavo/Documents/repositorios/Python/tarefas/checkpoint_3/check_3.ipynb#W3sZmlsZQ%3D%3D?line=59'>60</a>\u001b[0m     df2[\u001b[39m'\u001b[39m\u001b[39magendamento\u001b[39m\u001b[39m'\u001b[39m] \u001b[39m=\u001b[39m combine\n\u001b[0;32m     <a href='vscode-notebook-cell:/c%3A/Users/Gustavo/Documents/repositorios/Python/tarefas/checkpoint_3/check_3.ipynb#W3sZmlsZQ%3D%3D?line=61'>62</a>\u001b[0m     \u001b[39mreturn\u001b[39;00m df2\n\u001b[1;32m---> <a href='vscode-notebook-cell:/c%3A/Users/Gustavo/Documents/repositorios/Python/tarefas/checkpoint_3/check_3.ipynb#W3sZmlsZQ%3D%3D?line=64'>65</a>\u001b[0m pacientes_novos(df2)\n",
      "\u001b[1;32mc:\\Users\\Gustavo\\Documents\\repositorios\\Python\\tarefas\\checkpoint_3\\check_3.ipynb Célula 4\u001b[0m line \u001b[0;36m3\n\u001b[0;32m     <a href='vscode-notebook-cell:/c%3A/Users/Gustavo/Documents/repositorios/Python/tarefas/checkpoint_3/check_3.ipynb#W3sZmlsZQ%3D%3D?line=29'>30</a>\u001b[0m dia \u001b[39m=\u001b[39m \u001b[39minput\u001b[39m(\u001b[39m\"\u001b[39m\u001b[39mquando vai ser?\u001b[39m\u001b[39m\"\u001b[39m)\n\u001b[0;32m     <a href='vscode-notebook-cell:/c%3A/Users/Gustavo/Documents/repositorios/Python/tarefas/checkpoint_3/check_3.ipynb#W3sZmlsZQ%3D%3D?line=30'>31</a>\u001b[0m hora \u001b[39m=\u001b[39m \u001b[39minput\u001b[39m(\u001b[39m\"\u001b[39m\u001b[39mque horas vai ser?\u001b[39m\u001b[39m\"\u001b[39m)\n\u001b[1;32m---> <a href='vscode-notebook-cell:/c%3A/Users/Gustavo/Documents/repositorios/Python/tarefas/checkpoint_3/check_3.ipynb#W3sZmlsZQ%3D%3D?line=32'>33</a>\u001b[0m \u001b[39mif\u001b[39;00m df2[\u001b[39m'\u001b[39;49m\u001b[39mnome\u001b[39;49m\u001b[39m'\u001b[39;49m][i] \u001b[39m!=\u001b[39m new_nome:\n\u001b[0;32m     <a href='vscode-notebook-cell:/c%3A/Users/Gustavo/Documents/repositorios/Python/tarefas/checkpoint_3/check_3.ipynb#W3sZmlsZQ%3D%3D?line=33'>34</a>\u001b[0m     nomes_lista\u001b[39m.\u001b[39mappend(new_nome)\n\u001b[0;32m     <a href='vscode-notebook-cell:/c%3A/Users/Gustavo/Documents/repositorios/Python/tarefas/checkpoint_3/check_3.ipynb#W3sZmlsZQ%3D%3D?line=35'>36</a>\u001b[0m     \u001b[39mif\u001b[39;00m df2[\u001b[39m'\u001b[39m\u001b[39midade\u001b[39m\u001b[39m'\u001b[39m][i] \u001b[39m!=\u001b[39m new_idade:\n",
      "File \u001b[1;32m~\\AppData\\Local\\Packages\\PythonSoftwareFoundation.Python.3.11_qbz5n2kfra8p0\\LocalCache\\local-packages\\Python311\\site-packages\\pandas\\core\\frame.py:3893\u001b[0m, in \u001b[0;36mDataFrame.__getitem__\u001b[1;34m(self, key)\u001b[0m\n\u001b[0;32m   3891\u001b[0m \u001b[39mif\u001b[39;00m \u001b[39mself\u001b[39m\u001b[39m.\u001b[39mcolumns\u001b[39m.\u001b[39mnlevels \u001b[39m>\u001b[39m \u001b[39m1\u001b[39m:\n\u001b[0;32m   3892\u001b[0m     \u001b[39mreturn\u001b[39;00m \u001b[39mself\u001b[39m\u001b[39m.\u001b[39m_getitem_multilevel(key)\n\u001b[1;32m-> 3893\u001b[0m indexer \u001b[39m=\u001b[39m \u001b[39mself\u001b[39;49m\u001b[39m.\u001b[39;49mcolumns\u001b[39m.\u001b[39;49mget_loc(key)\n\u001b[0;32m   3894\u001b[0m \u001b[39mif\u001b[39;00m is_integer(indexer):\n\u001b[0;32m   3895\u001b[0m     indexer \u001b[39m=\u001b[39m [indexer]\n",
      "File \u001b[1;32m~\\AppData\\Local\\Packages\\PythonSoftwareFoundation.Python.3.11_qbz5n2kfra8p0\\LocalCache\\local-packages\\Python311\\site-packages\\pandas\\core\\indexes\\range.py:418\u001b[0m, in \u001b[0;36mRangeIndex.get_loc\u001b[1;34m(self, key)\u001b[0m\n\u001b[0;32m    416\u001b[0m         \u001b[39mraise\u001b[39;00m \u001b[39mKeyError\u001b[39;00m(key) \u001b[39mfrom\u001b[39;00m \u001b[39merr\u001b[39;00m\n\u001b[0;32m    417\u001b[0m \u001b[39mif\u001b[39;00m \u001b[39misinstance\u001b[39m(key, Hashable):\n\u001b[1;32m--> 418\u001b[0m     \u001b[39mraise\u001b[39;00m \u001b[39mKeyError\u001b[39;00m(key)\n\u001b[0;32m    419\u001b[0m \u001b[39mself\u001b[39m\u001b[39m.\u001b[39m_check_indexing_error(key)\n\u001b[0;32m    420\u001b[0m \u001b[39mraise\u001b[39;00m \u001b[39mKeyError\u001b[39;00m(key)\n",
      "\u001b[1;31mKeyError\u001b[0m: 'nome'"
     ]
    }
   ],
   "source": [
    "import pandas as pd\n",
    " \n",
    "data = {\n",
    "    'nome': ['gustavo', 'cleitin', 'joresvaldo', 'jundai', 'jefozo'],\n",
    "    'idade': [17, 20, 18, 27, 30],\n",
    "    'telefone': ['(65)5267-6524', '(51)6265-5448', '(55)3232-5515', \"(26)6491-9485\", \"(52)6548-4491\"],\n",
    "}\n",
    "\n",
    "df = pd.DataFrame(data)\n",
    "# new_nome = input(\"qual e o nome?\")\n",
    "idades_lista = []\n",
    "nomes_lista = []\n",
    "telefone_lista = []\n",
    "combine =[]\n",
    "\n",
    "dia_lista = [\"quinta\", \"segunda\", \"terca\", \"sexta\", \"quarta\"]\n",
    "hora_lista = ['12', '8', '15', '17', '3',]\n",
    "\n",
    "# combine.append([ a + b for a, b in zip(dia_lista, hora_lista)])\n",
    "\n",
    "def pacientes_novos(df):\n",
    "    for i in range(len(df)):\n",
    "        new_nome = input(\"qual e o nome?\")\n",
    "        new_idade = input(\"qual e a idade?\")\n",
    "        new_telefone = input(\"qual e o telefone?\")\n",
    "        dia = input(\"quando vai ser?\")\n",
    "        hora = input(\"que horas vai ser?\")\n",
    "        \n",
    "        if df['nome'][i] != new_nome:\n",
    "            nomes_lista.append(new_nome)\n",
    "            \n",
    "            if df['idade'][i] != new_idade:\n",
    "                idades_lista.append(new_idade)\n",
    "            else:\n",
    "                idades_lista.append(None)\n",
    "        else:\n",
    "            nomes_lista.append(None)\n",
    "        \n",
    "            \n",
    "        if df['telefone'][i] != new_telefone:\n",
    "            telefone_lista.append(new_telefone)\n",
    "        else:\n",
    "            telefone_lista.append(None)     \n",
    "        \n",
    "    #     if dia + hora == combine:\n",
    "    #         df['agendamento']\n",
    "    #     else: \n",
    "    #         combine.append(data + hora)\n",
    "    combine = [f'marcado para {a} as {b} horas' for a, b in zip(dia_lista, hora_lista)]    \n",
    "            \n",
    "        \n",
    " \n",
    "    df['Novos pacientes'] = nomes_lista\n",
    "    df['novas idades'] = idades_lista\n",
    "    df['Novos telefones'] = telefone_lista\n",
    "    df['agendamento'] = combine\n",
    "    \n",
    "    return df\n",
    " \n",
    "\n",
    "pacientes_novos(df)\n",
    "\n",
    "\n"
   ]
  },
  {
   "cell_type": "code",
   "execution_count": 16,
   "metadata": {},
   "outputs": [
    {
     "ename": "TypeError",
     "evalue": "list indices must be integers or slices, not str",
     "output_type": "error",
     "traceback": [
      "\u001b[1;31m---------------------------------------------------------------------------\u001b[0m",
      "\u001b[1;31mTypeError\u001b[0m                                 Traceback (most recent call last)",
      "\u001b[1;32mc:\\Users\\Gustavo\\Documents\\repositorios\\Python\\tarefas\\checkpoint_3\\check_3.ipynb Célula 5\u001b[0m line \u001b[0;36m1\n\u001b[0;32m     <a href='vscode-notebook-cell:/c%3A/Users/Gustavo/Documents/repositorios/Python/tarefas/checkpoint_3/check_3.ipynb#W4sZmlsZQ%3D%3D?line=10'>11</a>\u001b[0m     juncao\u001b[39m.\u001b[39mappend(a \u001b[39m+\u001b[39m b)\n\u001b[0;32m     <a href='vscode-notebook-cell:/c%3A/Users/Gustavo/Documents/repositorios/Python/tarefas/checkpoint_3/check_3.ipynb#W4sZmlsZQ%3D%3D?line=12'>13</a>\u001b[0m \u001b[39mfor\u001b[39;00m i \u001b[39min\u001b[39;00m juncao:\n\u001b[1;32m---> <a href='vscode-notebook-cell:/c%3A/Users/Gustavo/Documents/repositorios/Python/tarefas/checkpoint_3/check_3.ipynb#W4sZmlsZQ%3D%3D?line=14'>15</a>\u001b[0m     \u001b[39mif\u001b[39;00m semana \u001b[39m+\u001b[39m horario \u001b[39m==\u001b[39m juncao[i]:\n\u001b[0;32m     <a href='vscode-notebook-cell:/c%3A/Users/Gustavo/Documents/repositorios/Python/tarefas/checkpoint_3/check_3.ipynb#W4sZmlsZQ%3D%3D?line=15'>16</a>\u001b[0m         juncao\u001b[39m.\u001b[39mappend(\u001b[39m\"\u001b[39m\u001b[39mhorario ocupado\u001b[39m\u001b[39m\"\u001b[39m)\n\u001b[0;32m     <a href='vscode-notebook-cell:/c%3A/Users/Gustavo/Documents/repositorios/Python/tarefas/checkpoint_3/check_3.ipynb#W4sZmlsZQ%3D%3D?line=16'>17</a>\u001b[0m     \u001b[39melse\u001b[39;00m: \n",
      "\u001b[1;31mTypeError\u001b[0m: list indices must be integers or slices, not str"
     ]
    }
   ],
   "source": [
    "\n",
    "juncao = []\n",
    "novos = []\n",
    "\n",
    "dia_lista = [\"quinta\", \"segunda\", \"terca\", \"sexta\", \"quarta\"]\n",
    "hora_lista = ['12', '8', '15', '17', '3',]\n",
    "\n",
    "semana = input(\"quando vai ser?\")\n",
    "horario = input(\"que horas vai ser?\")\n",
    "\n",
    "for a, b in zip(dia_lista, hora_lista):\n",
    "    juncao.append(a + b)\n",
    "    \n",
    "for i in juncao:\n",
    "            \n",
    "    if semana + horario == juncao[i]:\n",
    "        juncao.append(\"horario ocupado\")\n",
    "    else: \n",
    "        novos.append(semana + horario)\n",
    "    break\n",
    "        \n",
    "\n",
    "print(juncao)\n",
    "print(novos)"
   ]
  },
  {
   "cell_type": "code",
   "execution_count": 93,
   "metadata": {},
   "outputs": [
    {
     "data": {
      "text/plain": [
       "'se34'"
      ]
     },
     "execution_count": 93,
     "metadata": {},
     "output_type": "execute_result"
    }
   ],
   "source": [
    "dia = input(\"quando vai ser?\")\n",
    "hora = input(\"que horas vai ser?\")\n",
    "\n",
    "com = dia + hora\n",
    "\n",
    "com"
   ]
  }
 ],
 "metadata": {
  "kernelspec": {
   "display_name": "Python 3",
   "language": "python",
   "name": "python3"
  },
  "language_info": {
   "codemirror_mode": {
    "name": "ipython",
    "version": 3
   },
   "file_extension": ".py",
   "mimetype": "text/x-python",
   "name": "python",
   "nbconvert_exporter": "python",
   "pygments_lexer": "ipython3",
   "version": "3.11.6"
  }
 },
 "nbformat": 4,
 "nbformat_minor": 2
}
