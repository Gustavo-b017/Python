{
 "cells": [
  {
   "attachments": {},
   "cell_type": "markdown",
   "metadata": {},
   "source": [
    "# #aula 1 - sala"
   ]
  },
  {
   "attachments": {},
   "cell_type": "markdown",
   "metadata": {},
   "source": [
    "problema 1 - media fixa"
   ]
  },
  {
   "cell_type": "code",
   "execution_count": null,
   "metadata": {},
   "outputs": [],
   "source": [
    "nota1 = 10\n",
    "nota2 = 7\n",
    "nota3 = 4\n",
    "\n",
    "media = (nota1 + nota2 + nota3) / 3\n",
    "media"
   ]
  },
  {
   "attachments": {},
   "cell_type": "markdown",
   "metadata": {},
   "source": [
    "problema 2 - media variavael"
   ]
  },
  {
   "cell_type": "code",
   "execution_count": 72,
   "metadata": {},
   "outputs": [
    {
     "name": "stdout",
     "output_type": "stream",
     "text": [
      "Aluno Aprovado 10.0\n"
     ]
    }
   ],
   "source": [
    "nota1 = float(input(\"digite primeira nota:\"))\n",
    "nota2 = float(input(\"digite segunda nota:\"))\n",
    "nota3 = float(input(\"digite terceira nota:\"))\n",
    "\n",
    "media = (nota1 + nota2 + nota3) / 3\n",
    "\n",
    "# estrutura pra atender uma condiçâo\n",
    "if media >= 7:\n",
    "    print(\"Aluno Aprovado\", media)\n",
    "else:\n",
    "    print(\"Aluno Reprovado\", media)"
   ]
  },
  {
   "attachments": {},
   "cell_type": "markdown",
   "metadata": {},
   "source": [
    "problema 3 - comparacao de A e B"
   ]
  },
  {
   "cell_type": "code",
   "execution_count": null,
   "metadata": {},
   "outputs": [],
   "source": [
    "# Problema 2 - compare A e B\n",
    "\n",
    "valor_a = float(input(\"Digite o valor de A:\"))\n",
    "valor_b = float(input(\"DIgite o valor de B:\"))\n",
    "\n",
    "if valor_a > valor_b:\n",
    "    print(\"Valor A maior que valor B\", valor_a)\n",
    "elif valor_a == valor_b:\n",
    "    print(\"valores são iguais\")\n",
    "else:\n",
    "    print(\"valor de B é maior do que o valor de A\", valor_b)"
   ]
  },
  {
   "attachments": {},
   "cell_type": "markdown",
   "metadata": {},
   "source": [
    "problema 4 - area do circulo\n"
   ]
  },
  {
   "cell_type": "code",
   "execution_count": null,
   "metadata": {},
   "outputs": [],
   "source": [
    "# Problema 3 - Area do circulo\n",
    "\n",
    "#definicao das variaveis: \n",
    "raio = float(input(\"insira o calor do raio:\"))\n",
    "pi = 3.14\n",
    "\n",
    "#Area do circulo:\n",
    "area = pi *  raio**2\n",
    "\n",
    "#condicao pra mostrar que area e manor do que deseja\n",
    "if area > 50:\n",
    "    print(\"agora ta bom, mas ainda quero mais (p≧w≦q)\", area)\n",
    "    if area > 100:\n",
    "        print(\"coloca outro valor\")\n",
    "else:\n",
    "    print(\"tava esperava mais (*/ω＼*)\", area)\n",
    "\n",
    "print(area)\n"
   ]
  },
  {
   "attachments": {},
   "cell_type": "markdown",
   "metadata": {},
   "source": [
    "# # aula 2 - exercicios #"
   ]
  },
  {
   "attachments": {},
   "cell_type": "markdown",
   "metadata": {},
   "source": [
    "problema 1 - qual é o sexo\n"
   ]
  },
  {
   "cell_type": "code",
   "execution_count": 10,
   "metadata": {},
   "outputs": [
    {
     "name": "stdout",
     "output_type": "stream",
     "text": [
      "è macho!!\n"
     ]
    }
   ],
   "source": [
    "# verificar sexo - melhorado\n",
    "sexo = str(input(\"inserir o sexo\"))\n",
    "\n",
    "M = [\"M\", \"m\",\"Masculino\",\"masculino\", \"homem\", \"Homem\", \"h\", \"H\", \"vinicios\"]\n",
    "\n",
    "F = [\"F\", \"f\",\"Feminino\",\"feminino\", \"mulher\", \"Mulher\", \"\"]\n",
    "\n",
    "\n",
    "if (sexo in M):\n",
    "    print(\"sexo masculino\"),\n",
    "elif (sexo in F):\n",
    "    print(\"e feminino\")\n",
    "else:\n",
    "    print(\"LGBTQI+\")\n"
   ]
  },
  {
   "attachments": {},
   "cell_type": "markdown",
   "metadata": {},
   "source": []
  },
  {
   "attachments": {},
   "cell_type": "markdown",
   "metadata": {},
   "source": [
    "problema 2 - calculo de energia\n"
   ]
  },
  {
   "cell_type": "code",
   "execution_count": 7,
   "metadata": {},
   "outputs": [
    {
     "name": "stdout",
     "output_type": "stream",
     "text": [
      "a energia é: 600.0 Mjoules\n"
     ]
    }
   ],
   "source": [
    "m = float(input(\"coloque a massa em kg: \"))\n",
    "\n",
    "e = (m * 3 * pow(10,8))/1000000\n",
    "print(\"a energia é:\", e, \"Mjoules\")"
   ]
  },
  {
   "attachments": {},
   "cell_type": "markdown",
   "metadata": {},
   "source": [
    "problema 3 - classifique a idade"
   ]
  },
  {
   "cell_type": "code",
   "execution_count": 30,
   "metadata": {},
   "outputs": [
    {
     "name": "stdout",
     "output_type": "stream",
     "text": [
      "meia idade\n"
     ]
    }
   ],
   "source": [
    "i= int(input(\"qual e a idade da criatura?\"))\n",
    "\n",
    "if i<= 11:\n",
    " print(\"crinça\")\n",
    "elif i>=12 and i<=20:\n",
    " print(\"aborecente\")\n",
    "elif i>=21 and i<=40:\n",
    " print(\"adulto-jovem\")\n",
    "elif i>=41 and i<=65:\n",
    " print(\"meia idade\")\n",
    "else:\n",
    "    print(\"velho\")"
   ]
  },
  {
   "attachments": {},
   "cell_type": "markdown",
   "metadata": {},
   "source": [
    "problema 3 - media de nota"
   ]
  },
  {
   "cell_type": "code",
   "execution_count": 6,
   "metadata": {},
   "outputs": [
    {
     "name": "stdout",
     "output_type": "stream",
     "text": [
      "kakakakaka so isso de media? podia ser melhor: 8.666666666666666\n"
     ]
    }
   ],
   "source": [
    "# variaveis\n",
    "\n",
    "n1 = float(input(\"nota 1:\"))\n",
    "n2 = float(input(\"nota 2:\"))\n",
    "n3 = float(input(\"nota 3:\"))\n",
    "n4 = float(input(\"nota 4:\"))\n",
    "\n",
    "notas = [n1, n2, n3, n4]\n",
    "notas_minima = min(notas)\n",
    "notas.remove(notas_minima)\n",
    "media = sum(notas)/3\n",
    "print(\"kakakakaka so isso de media? podia ser melhor:\", media)\n"
   ]
  },
  {
   "attachments": {},
   "cell_type": "markdown",
   "metadata": {},
   "source": [
    "problema 4 - calculo da potência\n"
   ]
  },
  {
   "cell_type": "code",
   "execution_count": 1,
   "metadata": {},
   "outputs": [
    {
     "name": "stdout",
     "output_type": "stream",
     "text": [
      "valor da corrente 0.0\n",
      "valor da tensao: 0.0\n",
      "valor da resistencia 0.0\n"
     ]
    },
    {
     "ename": "NameError",
     "evalue": "name 'i' is not defined",
     "output_type": "error",
     "traceback": [
      "\u001b[1;31m---------------------------------------------------------------------------\u001b[0m",
      "\u001b[1;31mNameError\u001b[0m                                 Traceback (most recent call last)",
      "Cell \u001b[1;32mIn[1], line 13\u001b[0m\n\u001b[0;32m     10\u001b[0m \u001b[39mprint\u001b[39m(\u001b[39m\"\u001b[39m\u001b[39mvalor da tensao:\u001b[39m\u001b[39m\"\u001b[39m, v)\n\u001b[0;32m     11\u001b[0m \u001b[39mprint\u001b[39m(\u001b[39m\"\u001b[39m\u001b[39mvalor da resistencia\u001b[39m\u001b[39m\"\u001b[39m, r)\n\u001b[1;32m---> 13\u001b[0m \u001b[39mif\u001b[39;00m v \u001b[39m==\u001b[39m\u001b[39m0\u001b[39m \u001b[39mand\u001b[39;00m i \u001b[39m==\u001b[39m \u001b[39m0\u001b[39m:\n\u001b[0;32m     14\u001b[0m     \u001b[39mprint\u001b[39m(\u001b[39m\"\u001b[39m\u001b[39mvc fez merda, a tensao e a corrente n pode ser 0\u001b[39m\u001b[39m\"\u001b[39m)\n\u001b[0;32m     15\u001b[0m \u001b[39melif\u001b[39;00m r \u001b[39m==\u001b[39m \u001b[39m0\u001b[39m \u001b[39mand\u001b[39;00m i \u001b[39m==\u001b[39m \u001b[39m0\u001b[39m:\n",
      "\u001b[1;31mNameError\u001b[0m: name 'i' is not defined"
     ]
    }
   ],
   "source": [
    "# problema 4 - calculo da potência\n",
    "\n",
    "# corente = i // tensao = v // resistencia = r\n",
    "\n",
    "c = float(input(\"enfia a corrente:\"))\n",
    "v = float(input(\"coloca com cuidado a tensao:\"))\n",
    "r = float(input(\"coloca a resistencia:\"))\n",
    "\n",
    "print(\"valor da corrente\", c)\n",
    "print(\"valor da tensao:\", v)\n",
    "print(\"valor da resistencia\", r)\n",
    "\n",
    "if v ==0 and i == 0:\n",
    "    print(\"vc fez merda, a tensao e a corrente n pode ser 0\")\n",
    "elif r == 0 and i == 0:\n",
    "    print(\"deu ruim, a rest. e a corrente deu 0\")\n",
    "elif v == 0 and r == 0:\n",
    "    print(\"fudeu! a tensao e a resist. deu 0\")\n",
    "elif v == 0:\n",
    "    print((i**2)*r)\n",
    "elif r == 0:\n",
    "    print(v*i)\n",
    "elif i == 0:\n",
    "    print(v**2) / r\n",
    "else:\n",
    "    print(\"se fudeu, os valores nao podem ser todos 0\")"
   ]
  },
  {
   "attachments": {},
   "cell_type": "markdown",
   "metadata": {},
   "source": [
    "problema 5 - oeracao basica subst. os valores"
   ]
  },
  {
   "cell_type": "code",
   "execution_count": 46,
   "metadata": {},
   "outputs": [
    {
     "name": "stdout",
     "output_type": "stream",
     "text": [
      "90\n"
     ]
    }
   ],
   "source": [
    "# resultado de 2a x 3b // a= 3 e b=5\n",
    "\n",
    "a = 3\n",
    "b = 5\n",
    "\n",
    "print((2*a)*(3*b))"
   ]
  },
  {
   "attachments": {},
   "cell_type": "markdown",
   "metadata": {},
   "source": [
    "problema 6 - soma de 3 variaveis "
   ]
  },
  {
   "cell_type": "code",
   "execution_count": 47,
   "metadata": {},
   "outputs": [
    {
     "name": "stdout",
     "output_type": "stream",
     "text": [
      "9\n"
     ]
    }
   ],
   "source": [
    "a = 2\n",
    "b = 3\n",
    "c = 4\n",
    "\n",
    "s = (a + b + c)\n",
    "print(s)"
   ]
  },
  {
   "attachments": {},
   "cell_type": "markdown",
   "metadata": {},
   "source": [
    "problema 7 - aumento de 15% no salario"
   ]
  },
  {
   "cell_type": "code",
   "execution_count": 53,
   "metadata": {},
   "outputs": [
    {
     "name": "stdout",
     "output_type": "stream",
     "text": [
      "112.5\n"
     ]
    }
   ],
   "source": [
    "# salario (s)= 750 / porcentagem (p) = 15%\n",
    "\n",
    "sa = 750\n",
    "po = (1 * 0.15)\n",
    "\n",
    "pf = ( sa * po)\n",
    "print(pf)\n"
   ]
  },
  {
   "cell_type": "code",
   "execution_count": 57,
   "metadata": {},
   "outputs": [
    {
     "name": "stdout",
     "output_type": "stream",
     "text": [
      "862.5\n"
     ]
    }
   ],
   "source": [
    "# (salario (s)= 750 / porcentagem (p) = 15%) mostrando o valor final\n",
    "\n",
    "sa = 750\n",
    "p = (1 * 0.15)\n",
    "\n",
    "pf = ( sa + (sa * p))\n",
    "print(pf)"
   ]
  },
  {
   "attachments": {},
   "cell_type": "markdown",
   "metadata": {},
   "source": [
    "# AULA 3 - exercicios"
   ]
  },
  {
   "attachments": {},
   "cell_type": "markdown",
   "metadata": {},
   "source": [
    "problema 1 - paga imposto ou nao"
   ]
  },
  {
   "cell_type": "code",
   "execution_count": 17,
   "metadata": {},
   "outputs": [
    {
     "name": "stdout",
     "output_type": "stream",
     "text": [
      "vc e tao ferrado que nem o governo quer sua grana\n"
     ]
    }
   ],
   "source": [
    "s = float(input(\"quanto tem no bolso?\"))\n",
    "\n",
    "if s >= 1200:\n",
    "    print(\"deve pagar imposto malandro!\")\n",
    "else:\n",
    "    print(\"vc e tao ferrado que nem o governo quer sua grana\")"
   ]
  },
  {
   "attachments": {},
   "cell_type": "markdown",
   "metadata": {},
   "source": [
    "problema 2 - nota do aluno"
   ]
  },
  {
   "cell_type": "code",
   "execution_count": 21,
   "metadata": {},
   "outputs": [
    {
     "name": "stdout",
     "output_type": "stream",
     "text": [
      "aprovado, sortudo\n"
     ]
    }
   ],
   "source": [
    "m1 = float(input(\"quanto foi a 1° nota?\"))\n",
    "m2 = float(input(\"segunda nota:\"))\n",
    "m3 = float(input(\"coloca a terceira nota com cuidado\"))\n",
    "\n",
    "if m1 > 7 and m2 > 7 and m3 > 7:\n",
    "    print(\"aprovado, sortudo\")\n",
    "else:\n",
    "    print(\"reprovado babaca\")\n"
   ]
  },
  {
   "cell_type": "code",
   "execution_count": 29,
   "metadata": {},
   "outputs": [
    {
     "data": {
      "text/plain": [
       "'on'"
      ]
     },
     "execution_count": 29,
     "metadata": {},
     "output_type": "execute_result"
    }
   ],
   "source": [
    "s = \"let's learn python\"\n",
    "s[-2:]"
   ]
  },
  {
   "attachments": {},
   "cell_type": "markdown",
   "metadata": {},
   "source": [
    "problema 3 - metros para mm"
   ]
  },
  {
   "cell_type": "code",
   "execution_count": 31,
   "metadata": {},
   "outputs": [
    {
     "name": "stdout",
     "output_type": "stream",
     "text": [
      "1000\n"
     ]
    }
   ],
   "source": [
    "# metros para mm\n",
    "\n",
    "m = int(input(\"quantos metros vc tem?\"))\n",
    "\n",
    "print(m * 1000)\n"
   ]
  },
  {
   "attachments": {},
   "cell_type": "markdown",
   "metadata": {},
   "source": [
    "problema 4 - dias, horas, min e seg, e converta tudo em seg"
   ]
  },
  {
   "cell_type": "code",
   "execution_count": 44,
   "metadata": {},
   "outputs": [
    {
     "name": "stdout",
     "output_type": "stream",
     "text": [
      "86400 segundos\n"
     ]
    }
   ],
   "source": [
    "# variaveis\n",
    "d = int(input(\"dias:\"))\n",
    "h = int(input(\"hora:\"))\n",
    "m = int(input(\"min:\"))\n",
    "s = int(input(\"seg:\"))\n",
    "\n",
    "# conta\n",
    "\n",
    "mps = (m * 60)\n",
    "hps = (h * 3600)\n",
    "dps = (d * (3600 * 24))\n",
    "\n",
    "print(dps + hps + mps + s, \"segundos\")\n"
   ]
  },
  {
   "attachments": {},
   "cell_type": "markdown",
   "metadata": {},
   "source": [
    "problema 5 - produto, desconto e o total"
   ]
  },
  {
   "cell_type": "code",
   "execution_count": 76,
   "metadata": {},
   "outputs": [
    {
     "name": "stdout",
     "output_type": "stream",
     "text": [
      "preco final: 90.0 // desconto: 10.0 %\n"
     ]
    }
   ],
   "source": [
    "# variaveis\n",
    "\n",
    "p = int(input (\"qual e o preco do produto?\"))\n",
    "d = int(input(\"desconto em numero inteiro:\"))\n",
    "\n",
    "# calculo\n",
    "\n",
    "d = (d / 100)\n",
    "des = (p * d)\n",
    "pf = (p - des)\n",
    "dp = (d * 100)\n",
    "\n",
    "print(\"preco final:\",pf,\"//\", \"desconto:\", dp,\"%\")\n",
    "\n",
    "\n"
   ]
  },
  {
   "attachments": {},
   "cell_type": "markdown",
   "metadata": {},
   "source": [
    "problema 6 - viagem, km e km/h"
   ]
  },
  {
   "cell_type": "code",
   "execution_count": 58,
   "metadata": {},
   "outputs": [
    {
     "name": "stdout",
     "output_type": "stream",
     "text": [
      "10.0 horas\n"
     ]
    }
   ],
   "source": [
    "# variaveis\n",
    "\n",
    "d = int(input(\"distancia em km:\"))\n",
    "vm = int(input(\"velocidade media:\"))\n",
    "\n",
    "# calculo\n",
    "h = (d / vm)\n",
    "print(h, \"horas\")\n",
    "\n"
   ]
  },
  {
   "attachments": {},
   "cell_type": "markdown",
   "metadata": {},
   "source": [
    "problema 7 - °C para °F"
   ]
  },
  {
   "cell_type": "code",
   "execution_count": 2,
   "metadata": {},
   "outputs": [
    {
     "name": "stdout",
     "output_type": "stream",
     "text": [
      "32.0 em °F\n"
     ]
    }
   ],
   "source": [
    "c = float(input(\"temp em °C\"))\n",
    "\n",
    "f = ((9 * c) / 5) + 32\n",
    "print(f, \"em °F\")"
   ]
  },
  {
   "attachments": {},
   "cell_type": "markdown",
   "metadata": {},
   "source": [
    "problema 8 - carro alugado"
   ]
  },
  {
   "cell_type": "code",
   "execution_count": 71,
   "metadata": {},
   "outputs": [
    {
     "name": "stdout",
     "output_type": "stream",
     "text": [
      "870.0 reais\n"
     ]
    }
   ],
   "source": [
    "d = int(input(\"quantos dias foi? obs: min 1 dia\"))\n",
    "km = int(input(\"quantos km foi?\"))\n",
    "\n",
    "pd = (d * 60)\n",
    "pkm = (km * 0.15)\n",
    "pf = (pd + pkm)\n",
    "print(pf, \"reais\")"
   ]
  },
  {
   "attachments": {},
   "cell_type": "markdown",
   "metadata": {},
   "source": [
    "# # aula 4 - problemas"
   ]
  },
  {
   "attachments": {},
   "cell_type": "markdown",
   "metadata": {},
   "source": [
    "problema 1 - limite de velocidade"
   ]
  },
  {
   "cell_type": "code",
   "execution_count": 23,
   "metadata": {},
   "outputs": [
    {
     "name": "stdout",
     "output_type": "stream",
     "text": [
      "vc foi multado! paga agora: 5.0 reais\n"
     ]
    }
   ],
   "source": [
    "# variaveis\n",
    "v = float(input(\"qual foi a velocidade?\"))\n",
    "\n",
    "#calculo\n",
    "m = (v - 80) * 5\n",
    "\n",
    "# condicao\n",
    "if v >80:\n",
    "    print(\"vc foi multado!\", \"paga agora:\", m, \"reais\")\n",
    "else:\n",
    "    print(\"vc esta de boa, por enquanto muhahaha\")\n",
    "\n"
   ]
  },
  {
   "attachments": {},
   "cell_type": "markdown",
   "metadata": {},
   "source": [
    "problema 2 - pagamento"
   ]
  },
  {
   "cell_type": "code",
   "execution_count": 28,
   "metadata": {},
   "outputs": [
    {
     "name": "stdout",
     "output_type": "stream",
     "text": [
      "você não pode ir a festejar\n"
     ]
    }
   ],
   "source": [
    "#variaveis\n",
    "ds = str(input(\"qual e o dia da semana?\"))\n",
    "dm = int(input(\"qual e o dia do mes?\"))\n",
    "\n",
    "# condicao\n",
    "if ds != \"sabado\" and ds != \"domingo\" and 1 < dm <= 5:\n",
    "    print(\"vc vai ser pago, pelo o que? ninguem sabe!\")\n",
    "else:\n",
    "    print (\"você não pode ir a festejar\")\n"
   ]
  },
  {
   "cell_type": "code",
   "execution_count": 29,
   "metadata": {},
   "outputs": [
    {
     "name": "stdout",
     "output_type": "stream",
     "text": [
      "vc vai ser pago, pelo o que? ninguem sabe!\n"
     ]
    }
   ],
   "source": [
    "# lower = se colocar maiusculo vai enternder como minusculo\n",
    "# variaveis\n",
    "ds = str(input(\"qual e o dia da semana?\"))\n",
    "dm = int(input(\"qual e o dia do mes?\"))\n",
    "\n",
    "# condicao\n",
    "if ds.lower != \"sabado\" and ds.lower != \"domingo\":\n",
    "    if dm >=1 and dm <= 5:\n",
    "     print(\"vc vai ser pago, pelo o que? ninguem sabe!\")\n",
    "else:\n",
    "    print (\"você não pode ir a festejar\")"
   ]
  },
  {
   "attachments": {},
   "cell_type": "markdown",
   "metadata": {},
   "source": [
    "problema 3 - varias areas"
   ]
  },
  {
   "cell_type": "code",
   "execution_count": 37,
   "metadata": {},
   "outputs": [
    {
     "name": "stdout",
     "output_type": "stream",
     "text": [
      "o valolr da area e: 4.0\n"
     ]
    }
   ],
   "source": [
    "# variaveis\n",
    "#f = str(input(\"qual vai ser dessa vez, meu nobre?\"))\n",
    "s = str(input([\"quadrado\", \"circulo\", \"retangulo\"]))\n",
    "\n",
    "#condicao\n",
    "if s == \"quadrado\" :\n",
    "  lq = float(input(\"qual e o lado\"))\n",
    "  aq = lq ** 2\n",
    "  print(\"o valolr da area e:\", aq)\n",
    "elif s == \"retangulo\":\n",
    "  lrl = float(input(\"enfia o lado\"))\n",
    "  lrh = float(input(\"coloca com carinho a altura\"))\n",
    "  ar = (lrl * lrh)\n",
    "  print(\"a area do retangulo e:\", ar)\n",
    "elif s == \"circulo\":\n",
    "  r = float(input(\"insira o raio\"))\n",
    "  pi = 3.14\n",
    "  ac = (r * r) * pi \n",
    "  print(\"o circulo é:\", ac)\n",
    "else: \n",
    "  print(\"n deu certo\")\n"
   ]
  },
  {
   "attachments": {},
   "cell_type": "markdown",
   "metadata": {},
   "source": [
    "problema 4 - letra na palavra"
   ]
  },
  {
   "cell_type": "code",
   "execution_count": 42,
   "metadata": {},
   "outputs": [
    {
     "name": "stdout",
     "output_type": "stream",
     "text": [
      "a letra é 'f' fogo\n"
     ]
    }
   ],
   "source": [
    "letra = str(input(\"digite letra\"))\n",
    "palavra = input(\"digite a palavra\")\n",
    "\n",
    "if letra in palavra:\n",
    "    print(f\"a letra é '{letra}' de:\", palavra)\n",
    "else:\n",
    "    print(\"esta letra nao esta na palavra\", letra)\n",
    "\n"
   ]
  },
  {
   "attachments": {},
   "cell_type": "markdown",
   "metadata": {},
   "source": [
    "problema 5 - lista de carros"
   ]
  },
  {
   "cell_type": "code",
   "execution_count": 48,
   "metadata": {},
   "outputs": [
    {
     "name": "stdout",
     "output_type": "stream",
     "text": [
      "vc n enfiou o/a gipe na lista \n"
     ]
    }
   ],
   "source": [
    "lc = [\"volksvage\", \"audi\", \"fiat\", \"ferrrari\"]\n",
    "cd = str(input(\"qual vai ser o carro que vc quer, meu nobre?\"))\n",
    "\n",
    "if cd in lc:\n",
    "    print(f\"seu carro {cd}\")\n",
    "else:\n",
    " print(f\"vc n enfiou o/a {cd} na lista, se vc realmento o quer, coloque na lista\")"
   ]
  },
  {
   "attachments": {},
   "cell_type": "markdown",
   "metadata": {},
   "source": [
    "problema 6 - numero secreto"
   ]
  },
  {
   "cell_type": "code",
   "execution_count": 61,
   "metadata": {},
   "outputs": [
    {
     "name": "stdout",
     "output_type": "stream",
     "text": [
      "os dois estao incorretos, (╯▔皿▔)╯\n"
     ]
    }
   ],
   "source": [
    "n1 = int(input(\"coloque o primeiro numero\"))\n",
    "n2 = int(input('coloque o segundo numero'))\n",
    "\n",
    "if n1 >=0 and n1 <= 10:\n",
    "    if n2 >= 0 and n2 <=10:\n",
    "        print(f\"o seu numero secreto é:\", n1 * n2)\n",
    "    else:\n",
    "        print(\"o segundo numero n ta certo\")\n",
    "elif n1 < 0 or n1 >=10 and n2 <0 or n2 > 10:\n",
    "    print(\"os dois estao incorretos\")\n",
    "else: \n",
    "    print(\"o primeito numero n ta certo, \")       "
   ]
  },
  {
   "attachments": {},
   "cell_type": "markdown",
   "metadata": {},
   "source": [
    "problema 7 - votacao"
   ]
  },
  {
   "cell_type": "code",
   "execution_count": 78,
   "metadata": {},
   "outputs": [
    {
     "name": "stdout",
     "output_type": "stream",
     "text": [
      "sai da frente que atras tem gente\n"
     ]
    }
   ],
   "source": [
    "# variaveis\n",
    "im = int(input(\"coloca a idade\"))\n",
    "rg = str(input(\"possui o rg?\"))\n",
    "\n",
    "#condicao\n",
    "if im >= 16:\n",
    "    if rg == \"sim\":\n",
    "     print(\"vai que e tua\")\n",
    "    else:\n",
    "     print(\"sai da frente que atras tem gente\")\n",
    "else:\n",
    "    print(\"sai da frente que atras tem gente\")\n",
    "\n",
    "\n"
   ]
  },
  {
   "attachments": {},
   "cell_type": "markdown",
   "metadata": {},
   "source": [
    "problema 8 - cobertura (uso do for)"
   ]
  },
  {
   "cell_type": "code",
   "execution_count": 82,
   "metadata": {},
   "outputs": [
    {
     "name": "stdout",
     "output_type": "stream",
     "text": [
      "adicione peperoni\n",
      "adicione tomate\n",
      "adicione queijo\n",
      "adicione cebola\n",
      "\n",
      "Sua pizza esta prnta\n"
     ]
    }
   ],
   "source": [
    "cober_requi = ['peperoni', 'tomate', 'queijo', 'cebola']\n",
    "\n",
    "for cober_requi in cober_requi:\n",
    "    print(f\"adicione {cober_requi}\")\n",
    "print('\\nSua pizza esta prnta') \n"
   ]
  },
  {
   "cell_type": "code",
   "execution_count": 83,
   "metadata": {},
   "outputs": [
    {
     "name": "stdout",
     "output_type": "stream",
     "text": [
      "maca\n",
      "melancia\n"
     ]
    }
   ],
   "source": [
    "fruta = ['maca', 'banana', 'melancia']\n",
    "for fruta in fruta:\n",
    "    if fruta == 'banana':\n",
    "        continue\n",
    "    print(fruta)\n"
   ]
  },
  {
   "cell_type": "code",
   "execution_count": 84,
   "metadata": {},
   "outputs": [
    {
     "name": "stdout",
     "output_type": "stream",
     "text": [
      "maca\n"
     ]
    }
   ],
   "source": [
    "fruta = ['maca', 'banana', 'melancia']\n",
    "for fruta in fruta:\n",
    "    if fruta == 'banana':\n",
    "        break\n",
    "    print(fruta)"
   ]
  },
  {
   "attachments": {},
   "cell_type": "markdown",
   "metadata": {},
   "source": [
    "# # AULA 5 - checkpoint 1"
   ]
  },
  {
   "attachments": {},
   "cell_type": "markdown",
   "metadata": {},
   "source": [
    "problema 1 - preco da energia"
   ]
  },
  {
   "cell_type": "code",
   "execution_count": 38,
   "metadata": {},
   "outputs": [
    {
     "name": "stdout",
     "output_type": "stream",
     "text": [
      "1. Comercial\n",
      "2. Residencial\n",
      "3. Industrial\n",
      "deu algo de errado\n"
     ]
    }
   ],
   "source": [
    "# 1 = comercial // 2 = residencial // 3 = industrial\n",
    "# variaveis\n",
    "print(\"1. Comercial\")\n",
    "print(\"2. Residencial\")\n",
    "print(\"3. Industrial\")\n",
    "\n",
    "\n",
    "\n",
    "#valores\n",
    "e = int(input(\"qual e o tipo de instalacao?\"))\n",
    "ene = int(input(\"quanto de energia foi consumida?\"))\n",
    "\n",
    "# condicoes\n",
    "if (e == 1):\n",
    "    if ene <= 1000:\n",
    "        pcn = (ene * 0.65)\n",
    "        print(f\"sua escolha é: comercial e terá que pagar: {pcn}\")\n",
    "    elif ene > 1000:\n",
    "        pmc = (ene * 0.70)\n",
    "        print(f\"sua escolha é: comercial e terá que pagar: {pmc}\")\n",
    "\n",
    "    else:\n",
    "        print(\"deu algo de errado\")\n",
    "\n",
    "elif (e == 2):\n",
    "    if ene <= 500:\n",
    "        prn = (ene * 0.50)\n",
    "        print(f\"sua escolha é: residencial e terá que pagar: {prn}\")\n",
    "    elif ene > 500:\n",
    "        prm = (ene * 0.75)\n",
    "        print(f\"sua escolha é: residencail e terá que pagar: {prm}\")\n",
    "\n",
    "    else:\n",
    "        print(\"deu algo de errado\")\n",
    "        \n",
    "elif (e == 3):\n",
    "    if ene <= 5000:\n",
    "        pin = (ene * 0.65)\n",
    "        print(f\"sua escolha é: comercial e terá que pagar: {pin}\")\n",
    "    elif ene > 5000:\n",
    "        pmi = (ene * 0.70)\n",
    "        print(f\"sua escolha é: comercial e terá que pagar: {pmi}\")\n",
    "\n",
    "    else:\n",
    "        print(\"deu algo de errado\")\n",
    "else:\n",
    "        print(\"deu algo de errado\")"
   ]
  },
  {
   "cell_type": "code",
   "execution_count": null,
   "metadata": {},
   "outputs": [],
   "source": []
  }
 ],
 "metadata": {
  "kernelspec": {
   "display_name": "Python 3",
   "language": "python",
   "name": "python3"
  },
  "language_info": {
   "codemirror_mode": {
    "name": "ipython",
    "version": 3
   },
   "file_extension": ".py",
   "mimetype": "text/x-python",
   "name": "python",
   "nbconvert_exporter": "python",
   "pygments_lexer": "ipython3",
   "version": "3.11.4"
  },
  "orig_nbformat": 4
 },
 "nbformat": 4,
 "nbformat_minor": 2
}
