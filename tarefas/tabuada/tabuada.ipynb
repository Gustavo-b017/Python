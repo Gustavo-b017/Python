{
 "cells": [
  {
   "cell_type": "code",
   "execution_count": 2,
   "metadata": {},
   "outputs": [
    {
     "name": "stdout",
     "output_type": "stream",
     "text": [
      "2.5 * 1 = 2.5\n",
      "2.5 * 2 = 5.0\n",
      "2.5 * 3 = 7.5\n",
      "2.5 * 4 = 10.0\n",
      "2.5 * 5 = 12.5\n",
      "2.5 * 6 = 15.0\n",
      "2.5 * 7 = 17.5\n",
      "2.5 * 8 = 20.0\n",
      "2.5 * 9 = 22.5\n",
      "2.5 * 10 = 25.0\n"
     ]
    }
   ],
   "source": [
    "numerador = float(input(\"qual e o numerador?\"))\n",
    "multiplo = int(input(\"por onde comeca a contar?\"))\n",
    "limite = int(input(\"qual e o limite?\"))\n",
    "\n",
    "while multiplo <= limite:\n",
    "    resultado = numerador * multiplo\n",
    "    print(f\"{numerador} * {multiplo} = {resultado}\")\n",
    "    multiplo += 1\n",
    "\n"
   ]
  }
 ],
 "metadata": {
  "kernelspec": {
   "display_name": "Python 3",
   "language": "python",
   "name": "python3"
  },
  "language_info": {
   "codemirror_mode": {
    "name": "ipython",
    "version": 3
   },
   "file_extension": ".py",
   "mimetype": "text/x-python",
   "name": "python",
   "nbconvert_exporter": "python",
   "pygments_lexer": "ipython3",
   "version": "3.11.7"
  }
 },
 "nbformat": 4,
 "nbformat_minor": 2
}
