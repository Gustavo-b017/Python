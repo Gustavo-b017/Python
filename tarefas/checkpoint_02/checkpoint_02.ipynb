{
 "cells": [
  {
   "cell_type": "markdown",
   "metadata": {},
   "source": [
    "# Checkpoint 2 - "
   ]
  },
  {
   "cell_type": "markdown",
   "metadata": {},
   "source": [
    " #### problema 01 - trazer os produtos, multiplicar os precos e estoque e mostrar os prudutos que estao acima de 100"
   ]
  },
  {
   "cell_type": "code",
   "execution_count": 12,
   "metadata": {},
   "outputs": [
    {
     "name": "stdout",
     "output_type": "stream",
     "text": [
      "o preco do Feijão é: 250.0\n",
      "o preco do Açúcar é: 180.0\n",
      "o preco do Arroz é: 500\n",
      "o preco do Café em Grãos é: 270.0\n"
     ]
    }
   ],
   "source": [
    "# definindo as listas a serem usadas\n",
    "itens = ['Feijão', 'Leite', 'Açúcar', 'Arroz', 'azeitona', 'Café em Grãos']\n",
    "estoque = [50, 20, 30, 50, 30, 90]\n",
    "preco = [5.0, 2.0, 6.0, 10, 3.0, 3.0]\n",
    "\n",
    "# colocando um laco de repeticao (for)\n",
    "# defininco algumas variaveis e as ligando nas listas acima\n",
    "for i, e, p in zip(itens, estoque, preco):\n",
    "    #colocando uma condicao para printar somente os produtos que tem seu valor (preco e estoque) igual ou superior s 100\n",
    "    if e * p >= 100:\n",
    "        # colocando a mensagem falando o produto e o preco final\n",
    "        print(f'o preco do {i} é: {e * p}')\n",
    "\n",
    "\n",
    "    \n"
   ]
  },
  {
   "cell_type": "markdown",
   "metadata": {},
   "source": [
    "#### problema 02 - verificando o cpf, nome e senha, com o usuario digitando"
   ]
  },
  {
   "cell_type": "code",
   "execution_count": 13,
   "metadata": {},
   "outputs": [
    {
     "name": "stdout",
     "output_type": "stream",
     "text": [
      "acesso concedido! Olá senhor(a) Joao Silva\n"
     ]
    }
   ],
   "source": [
    "# definindo lista para se virificar os dados\n",
    "nomes_corretos=[\"Joao Silva\", \"Maria Oliveira\", \"Pedro Santos\", \"Ana Souza\", \"Carlos Pereira\"]\n",
    "cpfs_corretos=[\"123.456.789-00\", \"987.654.321-00\", \"456.789.123-00\", \"321.654.987-00\", \"789.123.456-00\"]\n",
    "senhas_corretas=[\"senha123\", \"abc456\", \"qwerty\", \"admin123\", \"letmein\"]\n",
    "\n",
    "# iniciando laco de repeticao for, para poder repeir os comandos multiplas vezes, se necessario\n",
    "# \"_\" definindo como uma variavel, como n irei usar ela, optei por deixar mais 'escondido'\n",
    "for _ in (nomes_corretos, cpfs_corretos, senhas_corretas):\n",
    "    \n",
    "    # colocando a opcao para o usurio poder digitar seus dados, como: nome, cpf e senha\n",
    "    nome = input('qual é seu nome? obs: o nome deve ter a primeira letra do nome e sobrenome maiuscula')\n",
    "    cpf = input('qual é seu cpf? obs: a cpf deve conter o \"-\" antes dos dois ultimos digitos e os pontos dividindo a cada 3 numeros')\n",
    "    senha = input('qual é sua senha?')\n",
    "\n",
    "    # iniciando as condicoes para liberar ou negar o acesso\n",
    "    # condicao para comparar o nome colocado na lista com o que o usuario forneceu\n",
    "    if nome in nomes_corretos:\n",
    "       \n",
    "       # condicao para comparar o cpf colocado na lista com o que o usuario forneceu\n",
    "        if cpf in cpfs_corretos:\n",
    "            \n",
    "            # condicao para comparar a senha colocado na lista com o que o usuario forneceu\n",
    "            if senha in senhas_corretas:\n",
    "                # mensagem a ser transmitida ao usuario que colocou tudo corretamente\n",
    "                print(f\"acesso concedido! Olá senhor(a) {nome}\")\n",
    "                # comando para encerrar o codigo, ja que deu tudo certo\n",
    "                break\n",
    "            \n",
    "            # condicao para caso a senha esteja incorreta\n",
    "            else:\n",
    "                # mensagem a ser exibida caso o usuario tenha errado a senha, tambem aparecera qual foi a senha digitada\n",
    "                print(\"acesso negado, senha incorreta, a senha digitada é:\", senha)\n",
    "                # comando para finalizar o codigo, pois ele n acertou a senha logo tera que repetir todo o processo\n",
    "                break\n",
    "            \n",
    "        # condicao para caso o cpf esteja incorreta\n",
    "        else:  \n",
    "            # mensagem a ser exibida caso o usuario tenha errado o cpf, de brinde coloquei para informar qual foi o cpf digitado\n",
    "            print(\"acesso negado, cpf incorreto, o cpf digitado é:\", cpf)\n",
    "            # comando para finalizar o codigo, pois ele n acertou o cpf, logo tera que repetir todo o processo\n",
    "            break\n",
    "    # condicao para caso o usuario tenha digitado o nome incorreto\n",
    "    else:\n",
    "        # mensagem a ser exibida, por causa que o usuario digitou o nome errado, mostrando o nome digitado\n",
    "        print(\"acesso negado, nome incorreto, o nome digitado é:\", nome)\n",
    "         # comando para finalizar o codigo, pois ele n acertou o nome, logo tera que repetir todo o processo\n",
    "        break"
   ]
  },
  {
   "cell_type": "markdown",
   "metadata": {},
   "source": [
    "### problema 3 - analista de dados"
   ]
  },
  {
   "cell_type": "markdown",
   "metadata": {},
   "source": [
    "##### a) Calcule o total de vendas de cada produto ao longo dos quatro meses."
   ]
  },
  {
   "cell_type": "code",
   "execution_count": 14,
   "metadata": {},
   "outputs": [
    {
     "name": "stdout",
     "output_type": "stream",
     "text": [
      "o valor do profuto A é 650\n",
      "o valor do profuto B é 815\n",
      "o valor do profuto C é 605\n",
      "o valor do profuto D é 1190\n",
      "o valor do profuto E é 950\n",
      "o valor do profuto F é 1080\n",
      "o valor do profuto G é 1195\n"
     ]
    }
   ],
   "source": [
    "# criando uma lista de variaveis, ja fornecida\n",
    "produtos = [\"A\", \"B\", \"C\", \"D\", \"E\", \"F\", \"G\"]\n",
    "vendas_janeiro=[150, 200, 100, 300, 250, 230, 250]\n",
    "vendas_fevereiro=[120, 180, 150, 280, 200, 210, 240]\n",
    "vendas_marco=[200, 220, 170, 320, 250, 230, 315]\n",
    "vendas_abril=[180, 215, 185, 290, 250, 410, 390]\n",
    "\n",
    "# iniciando o laco de repeticao for\n",
    "# criando variavies (iniciais dos nome dos meses e do produto) para o for rodar\n",
    "# colocando o camando para somar os valores a partir do zip\n",
    "for p, j, f, m, a in zip(produtos, vendas_janeiro, vendas_fevereiro, vendas_marco, vendas_abril):\n",
    "    \n",
    "    # criando a mensagem a ser exibida para o usuario\n",
    "    # colocando qual e o produto e seu respectivo valor ({p})\n",
    "    # fazendo o calculo de todos os termos da lista, de seus respectivos valores (1° termo com os 1° termo de cada lista, e assim sucessivamente) e exibindo cada um deles\n",
    "    print(f\"o valor do profuto {p} é {j + f + m + a}\")\n",
    "\n"
   ]
  },
  {
   "cell_type": "markdown",
   "metadata": {},
   "source": [
    "#### b) Determine o produto mais vendido em cada mês."
   ]
  },
  {
   "cell_type": "code",
   "execution_count": 95,
   "metadata": {},
   "outputs": [
    {
     "name": "stdout",
     "output_type": "stream",
     "text": [
      "[('D', 300)]\n",
      "[('D', 280)]\n",
      "[('D', 320)]\n",
      "[('F', 410)]\n"
     ]
    }
   ],
   "source": [
    "# criando uma lista de variaveis, ja fornecida\n",
    "produtos = [\"A\", \"B\", \"C\", \"D\", \"E\", \"F\", \"G\"]\n",
    "vendas_janeiro=[150, 200, 100, 300, 250, 230, 250]\n",
    "vendas_fevereiro=[120, 180, 150, 280, 200, 210, 240]\n",
    "vendas_marco=[200, 220, 170, 320, 250, 230, 315]\n",
    "vendas_abril=[180, 215, 185, 290, 250, 410, 390]\n",
    "\n",
    "# criando uma variavel\n",
    "# definindo o que ira aparecer, letras antes do for, no caso \"p\" e 'j'\n",
    "#iniciando laco de repeticao for\n",
    "# juntando as lista como zip\n",
    "# juntando as listas com as letras, no caso a lista produto com a letra 'p' e a lista vendas_janeiro com a letra 'j'\n",
    "# criando uma condicao onde so podera aparecer um valor de 'j', no caso o produto que teve a maior venda\n",
    "# irei repetir essa estrutura para todos os meses, somente trocando as letras e listas\n",
    "combine = [(p, j) for p, j in zip(produtos, vendas_janeiro) if j == max(vendas_janeiro) ]\n",
    "print(combine)\n",
    "\n",
    "combine = [(p, f) for p, f in zip(produtos, vendas_fevereiro) if f == max(vendas_fevereiro) ]\n",
    "print(combine)\n",
    "\n",
    "combine = [(p, m) for p, m in zip(produtos, vendas_marco) if m == max(vendas_marco) ]\n",
    "print(combine)\n",
    "\n",
    "combine = [(p, a) for p, a in zip(produtos, vendas_abril) if a == max(vendas_abril) ]\n",
    "print(combine)"
   ]
  },
  {
   "cell_type": "markdown",
   "metadata": {},
   "source": [
    "#### c) Identifique o produto que teve o maior crescimento percentual nas vendas de janeiro para fevereiro.\n"
   ]
  },
  {
   "cell_type": "code",
   "execution_count": 161,
   "metadata": {},
   "outputs": [
    {
     "name": "stdout",
     "output_type": "stream",
     "text": [
      "o valor do maior percentual, juntamente com o produto é, respectivamente: (50.0, 'C')\n"
     ]
    }
   ],
   "source": [
    "# criando uma lista de variaveis, com o valor previamente fornecido\n",
    "produtos = [\"A\", \"B\", \"C\", \"D\", \"E\", \"F\", \"G\"]\n",
    "vendas_janeiro=[150, 200, 100, 300, 250, 230, 250]\n",
    "vendas_fevereiro=[120, 180, 150, 280, 200, 210, 240]\n",
    "vendas_marco=[200, 220, 170, 320, 250, 230, 315]\n",
    "vendas_abril=[180, 215, 185, 290, 250, 410, 390]\n",
    "\n",
    "# criando uma lista vazia para adicionar os resultados dos valores percentuais\n",
    "valor_percentual = []\n",
    "\n",
    "# iniciando laco de repeticao for\n",
    "# criando variaveis que ira se ligar as listas \n",
    "# juntando as listas com o comando zip\n",
    "# ligando as variavies definidas no comeco do for com as listas criadas no comeco do codigo\n",
    "for p, a, b in zip(produtos, vendas_janeiro, vendas_fevereiro):\n",
    "    # criando uma variavel onde ira armazenar os valores do calculo percentual\n",
    "    # criando a formula do calculo percentual\n",
    "    # adicionando o produto que teve o maior resultado do calculo percentual na variavel 'per'\n",
    "    per = (100 * (b - a ) / a), p\n",
    "    # adicionando os resultados do calculo percentual e seu respectivo produto na lista vazia \"valor_percentual\"\n",
    "    valor_percentual.append(per)\n",
    "# adicionando uma mensagem para o usuario\n",
    "# colocando a mensagem entre aspas\n",
    "# trazendo qual e o valor maximo colocado na lista \"valor_percentual\", juntamente com sua respectiva letra    \n",
    "print(\"o valor do maior percentual, juntamente com o produto é, respectivamente:\", max(valor_percentual))\n",
    "    \n",
    "    "
   ]
  },
  {
   "cell_type": "markdown",
   "metadata": {},
   "source": [
    "#### d) Liste os produtos que tiveram uma queda nas vendas de março para abril."
   ]
  },
  {
   "cell_type": "code",
   "execution_count": 170,
   "metadata": {},
   "outputs": [
    {
     "name": "stdout",
     "output_type": "stream",
     "text": [
      "os produtos que tiveram baixa de ventas foi A\n",
      "os produtos que tiveram baixa de ventas foi B\n",
      "os produtos que tiveram baixa de ventas foi D\n"
     ]
    }
   ],
   "source": [
    "# criando uma lista de variaveis, com o valor previamente fornecido\n",
    "produtos = [\"A\", \"B\", \"C\", \"D\", \"E\", \"F\", \"G\"]\n",
    "vendas_janeiro=[150, 200, 100, 300, 250, 230, 250]\n",
    "vendas_fevereiro=[120, 180, 150, 280, 200, 210, 240]\n",
    "vendas_marco=[200, 220, 170, 320, 250, 230, 315]\n",
    "vendas_abril=[180, 215, 185, 290, 250, 410, 390]\n",
    "\n",
    "# iniciando laco de repeticao for\n",
    "# criando variaveis que ira se ligar as listas \n",
    "# juntando as listas com o comando zip\n",
    "# ligando as variavies definidas no comeco do for com as listas criadas no comeco do codigo\n",
    "for p, a, b in zip(produtos, vendas_marco, vendas_abril):\n",
    "    # criando condicao onde se o valor de \"vendas_marco\" for maior que o \"vendas_abril\", ira exibir uma mensagem falando quais foram os produtos que tiveream baixa de vendas\n",
    "    if a > b: \n",
    "        # exibindo uma mensagem falando quais foram os produtos que tiveream baixa de vendas\n",
    "        print(f\"os produtos que tiveram baixa de ventas foi {p}\")"
   ]
  }
 ],
 "metadata": {
  "kernelspec": {
   "display_name": "Python 3",
   "language": "python",
   "name": "python3"
  },
  "language_info": {
   "codemirror_mode": {
    "name": "ipython",
    "version": 3
   },
   "file_extension": ".py",
   "mimetype": "text/x-python",
   "name": "python",
   "nbconvert_exporter": "python",
   "pygments_lexer": "ipython3",
   "version": "3.11.6"
  }
 },
 "nbformat": 4,
 "nbformat_minor": 2
}
